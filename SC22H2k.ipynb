{
 "cells": [
  {
   "cell_type": "markdown",
   "id": "675b0120",
   "metadata": {},
   "source": [
    "The code cell below is used to import Reviews.csv. It checks for null values in dataframe. Plot graphs for Distribution of ratings, Helpfullness Numerator and Helpfullness Denominator."
   ]
  },
  {
   "cell_type": "code",
   "execution_count": 1,
   "id": "48e2113a",
   "metadata": {},
   "outputs": [
    {
     "name": "stdout",
     "output_type": "stream",
     "text": [
      "   Id   ProductId          UserId                      ProfileName  \\\n",
      "0   1  B001E4KFG0  A3SGXH7AUHU8GW                       delmartian   \n",
      "1   2  B00813GRG4  A1D87F6ZCVE5NK                           dll pa   \n",
      "2   3  B000LQOCH0   ABXLMWJIXXAIN  Natalia Corres \"Natalia Corres\"   \n",
      "3   4  B000UA0QIQ  A395BORC6FGVXV                             Karl   \n",
      "4   5  B006K2ZZ7K  A1UQRSCLF8GW1T    Michael D. Bigham \"M. Wassir\"   \n",
      "\n",
      "   HelpfulnessNumerator  HelpfulnessDenominator  Score        Time  \\\n",
      "0                     1                       1      5  1303862400   \n",
      "1                     0                       0      1  1346976000   \n",
      "2                     1                       1      4  1219017600   \n",
      "3                     3                       3      2  1307923200   \n",
      "4                     0                       0      5  1350777600   \n",
      "\n",
      "                 Summary                                               Text  \n",
      "0  Good Quality Dog Food  I have bought several of the Vitality canned d...  \n",
      "1      Not as Advertised  Product arrived labeled as Jumbo Salted Peanut...  \n",
      "2  \"Delight\" says it all  This is a confection that has been around a fe...  \n",
      "3         Cough Medicine  If you are looking for the secret ingredient i...  \n",
      "4            Great taffy  Great taffy at a great price.  There was a wid...  \n",
      "<class 'pandas.core.frame.DataFrame'>\n",
      "RangeIndex: 568454 entries, 0 to 568453\n",
      "Data columns (total 10 columns):\n",
      " #   Column                  Non-Null Count   Dtype \n",
      "---  ------                  --------------   ----- \n",
      " 0   Id                      568454 non-null  int64 \n",
      " 1   ProductId               568454 non-null  object\n",
      " 2   UserId                  568454 non-null  object\n",
      " 3   ProfileName             568438 non-null  object\n",
      " 4   HelpfulnessNumerator    568454 non-null  int64 \n",
      " 5   HelpfulnessDenominator  568454 non-null  int64 \n",
      " 6   Score                   568454 non-null  int64 \n",
      " 7   Time                    568454 non-null  int64 \n",
      " 8   Summary                 568427 non-null  object\n",
      " 9   Text                    568454 non-null  object\n",
      "dtypes: int64(5), object(5)\n",
      "memory usage: 43.4+ MB\n",
      "None\n",
      "Id                         0\n",
      "ProductId                  0\n",
      "UserId                     0\n",
      "ProfileName               16\n",
      "HelpfulnessNumerator       0\n",
      "HelpfulnessDenominator     0\n",
      "Score                      0\n",
      "Time                       0\n",
      "Summary                   27\n",
      "Text                       0\n",
      "dtype: int64\n"
     ]
    },
    {
     "data": {
      "image/png": "[encoded data removed]",
      "text/plain": [
       "<Figure size 432x288 with 1 Axes>"
      ]
     },
     "metadata": {
      "needs_background": "light"
     },
     "output_type": "display_data"
    },
    {
     "data": {
      "image/png": "[encoded data removed]",
      "text/plain": [
       "<Figure size 432x288 with 1 Axes>"
      ]
     },
     "metadata": {
      "needs_background": "light"
     },
     "output_type": "display_data"
    },
    {
     "data": {
      "image/png": "[encoded data removed]",
      "text/plain": [
       "<Figure size 432x288 with 1 Axes>"
      ]
     },
     "metadata": {
      "needs_background": "light"
     },
     "output_type": "display_data"
    }
   ],
   "source": [
    "# Import libraries\n",
    "import pandas as pd\n",
    "import matplotlib.pyplot as plt\n",
    "\n",
    "# Load dataset\n",
    "df = pd.read_csv('/Users/himanshu/Desktop/msc/Reviews.csv') \n",
    "\n",
    "# Print first few rows of dataframes\n",
    "print(df.head())\n",
    "\n",
    "# Print summary of dataframe\n",
    "print(df.info())\n",
    "\n",
    "# Check missing values in df\n",
    "print(df.isnull().sum())\n",
    "\n",
    "# Plot the distribution of ratings (1-5) from dataframe\n",
    "df['Score'].value_counts().plot(kind='bar')\n",
    "plt.title('Distribution of Ratings')\n",
    "plt.xlabel('Rating')\n",
    "plt.ylabel('Count')\n",
    "plt.show()\n",
    "\n",
    "#Plot a histogram for HelpfulnessNumerator and HelpfulnessDenominator from df.\n",
    "\n",
    "df['HelpfulnessNumerator'].plot(kind='hist', bins=50)\n",
    "plt.title('Distribution of HelpfulnessNumerator')\n",
    "plt.xlabel('HelpfulnessNumerator')\n",
    "plt.show()\n",
    "\n",
    "df['HelpfulnessDenominator'].plot(kind='hist', bins=50)\n",
    "plt.title('Distribution of HelpfulnessDenominator')\n",
    "plt.xlabel('HelpfulnessDenominator')\n",
    "plt.show()\n"
   ]
  },
  {
   "cell_type": "markdown",
   "id": "5307574a",
   "metadata": {},
   "source": [
    "The code cell below first select first 100000 rows from dataframe, then remove unnecessary columns from dataframe,then handle missing values , The central part of this code is the preprocessing of the 'Text' column: it converts the text to lowercase, removes non-alphabetic characters, tokenizes the sentences, and eliminates stopwords. Following this, the preprocessed text is transformed into a vector representation using the TF-IDF."
   ]
  },
  {
   "cell_type": "code",
   "execution_count": 2,
   "id": "447e1098",
   "metadata": {},
   "outputs": [
    {
     "name": "stderr",
     "output_type": "stream",
     "text": [
      "[nltk_data] Error loading punkt: <urlopen error [SSL:\n",
      "[nltk_data]     CERTIFICATE_VERIFY_FAILED] certificate verify failed:\n",
      "[nltk_data]     unable to get local issuer certificate (_ssl.c:1123)>\n",
      "[nltk_data] Error loading stopwords: <urlopen error [SSL:\n",
      "[nltk_data]     CERTIFICATE_VERIFY_FAILED] certificate verify failed:\n",
      "[nltk_data]     unable to get local issuer certificate (_ssl.c:1123)>\n"
     ]
    },
    {
     "name": "stdout",
     "output_type": "stream",
     "text": [
      "    ProductId          UserId  Score        Time                Summary  \\\n",
      "0  B001E4KFG0  A3SGXH7AUHU8GW      5  1303862400  Good Quality Dog Food   \n",
      "1  B00813GRG4  A1D87F6ZCVE5NK      1  1346976000      Not as Advertised   \n",
      "2  B000LQOCH0   ABXLMWJIXXAIN      4  1219017600  \"Delight\" says it all   \n",
      "3  B000UA0QIQ  A395BORC6FGVXV      2  1307923200         Cough Medicine   \n",
      "4  B006K2ZZ7K  A1UQRSCLF8GW1T      5  1350777600            Great taffy   \n",
      "\n",
      "                                                Text  \\\n",
      "0  bought several vitality canned dog food produc...   \n",
      "1  product arrived labeled jumbo salted peanuts p...   \n",
      "2  confection around centuries light pillowy citr...   \n",
      "3  looking secret ingredient robitussin believe f...   \n",
      "4  great taffy great price wide assortment yummy ...   \n",
      "\n",
      "                                          Text_Tfidf  \n",
      "0  [0.0, 0.0, 0.0, 0.0, 0.0, 0.0, 0.0, 0.0, 0.0, ...  \n",
      "1  [0.0, 0.0, 0.0, 0.0, 0.24458373427228455, 0.0,...  \n",
      "2  [0.0, 0.0, 0.0, 0.0, 0.0, 0.0, 0.0, 0.0, 0.0, ...  \n",
      "3  [0.0, 0.0, 0.0, 0.0, 0.0, 0.0, 0.0, 0.0, 0.368...  \n",
      "4  [0.0, 0.0, 0.0, 0.0, 0.0, 0.0, 0.0, 0.0, 0.0, ...  \n"
     ]
    }
   ],
   "source": [
    "# Import libraries\n",
    "import pandas as pd\n",
    "from sklearn.feature_extraction.text import TfidfVectorizer\n",
    "from sklearn.model_selection import train_test_split\n",
    "from nltk.corpus import stopwords\n",
    "from nltk.tokenize import word_tokenize\n",
    "import nltk\n",
    "import re\n",
    "\n",
    "nltk.download('punkt')\n",
    "nltk.download('stopwords')\n",
    "\n",
    "# Load dataset\n",
    "df = pd.read_csv('/Users/himanshu/Desktop/msc/Reviews.csv') \n",
    "# Select first 100000 rows \n",
    "df = df.head(100000)\n",
    "\n",
    "# Drop unnecessary columns\n",
    "df = df.drop(['Id', 'ProfileName', 'HelpfulnessNumerator', 'HelpfulnessDenominator'], axis=1)\n",
    "\n",
    "# Missing value handling \n",
    "df = df.dropna()\n",
    "\n",
    "# Preprocess 'Text' column\n",
    "def preprocess_text(text):\n",
    "    # Lowercase the text\n",
    "    text = text.lower()\n",
    "\n",
    "    # Delete non-alphabetic characters\n",
    "    text = re.sub('[^a-z]', ' ', text)\n",
    "\n",
    "    # Tokenization of text.\n",
    "    words = word_tokenize(text)\n",
    "\n",
    "    # Deleting stopwords\n",
    "    words = [word for word in words if word not in stopwords.words('english')]\n",
    "\n",
    "    return ' '.join(words)\n",
    "\n",
    "df['Text'] = df['Text'].apply(preprocess_text)\n",
    "\n",
    "# Convert 'Text' into tf-idf vectors\n",
    "vectorizer = TfidfVectorizer(max_features=1000) # Limited features to 1000 to prevent memory related issues\n",
    "df['Text_Tfidf'] = list(vectorizer.fit_transform(df['Text']).toarray())\n",
    "\n",
    "print(df.head())\n"
   ]
  },
  {
   "cell_type": "markdown",
   "id": "a2f7dff9",
   "metadata": {},
   "source": [
    "The code cell below first loads the dataset , then Create mapper from product ID to index , then Tranform the productID in the interaction_matrix into indices, then Transform interaction_matrix to scipy sparse matrix, then Split data into training set and testing set, followed by initilization of LightFM model, then train model and compute precision and recall at k."
   ]
  },
  {
   "cell_type": "code",
   "execution_count": 3,
   "id": "74c5521e",
   "metadata": {},
   "outputs": [
    {
     "name": "stderr",
     "output_type": "stream",
     "text": [
      "/Library/Frameworks/Python.framework/Versions/3.9/lib/python3.9/site-packages/lightfm/_lightfm_fast.py:9: UserWarning: LightFM was compiled without OpenMP support. Only a single thread will be used.\n",
      "  warnings.warn(\n"
     ]
    },
    {
     "name": "stdout",
     "output_type": "stream",
     "text": [
      "Precision: train 0.12, test 0.11.\n",
      "Recall: train 0.43, test 0.39.\n"
     ]
    }
   ],
   "source": [
    "# Import libraries\n",
    "import numpy as np\n",
    "import pandas as pd\n",
    "from lightfm import LightFM\n",
    "from lightfm.evaluation import precision_at_k, recall_at_k\n",
    "from scipy.sparse import coo_matrix, csr_matrix\n",
    "\n",
    "# Load the dataset\n",
    "df = pd.read_csv('/Users/himanshu/Desktop/msc/Reviews.csv', nrows=100000) \n",
    "\n",
    "# developing user- & item-interaction matrix\n",
    "interaction_matrix = pd.pivot_table(df, values='Score', index='UserId', columns='ProductId', fill_value=0)\n",
    "\n",
    "# Create mapper from product ID to index\n",
    "item_dict ={}\n",
    "df_n = df[df['ProductId'].isin(interaction_matrix.columns)]\n",
    "df_n = df_n.sort_values('ProductId')\n",
    "item_dict = dict(zip(df_n['ProductId'], list(df_n['ProductId'].astype('category').cat.codes)))\n",
    "\n",
    "# Tranform the productID in the interaction_matrix into indices.\n",
    "interaction_matrix = interaction_matrix.rename(columns=item_dict)\n",
    "\n",
    "# Transform interaction_matrix to scipy sparse matrix\n",
    "interaction_matrix_csr = csr_matrix(interaction_matrix.values)\n",
    "\n",
    "# Split data into training set and testing set\n",
    "test = interaction_matrix_csr.copy()\n",
    "test[test != 0] = 1\n",
    "train = interaction_matrix_csr - test\n",
    "\n",
    "# Initialize of model\n",
    "model = LightFM(loss='warp')\n",
    "\n",
    "# Train model\n",
    "model.fit(train, epochs=30, num_threads=2)\n",
    "\n",
    "# Compute precision at k\n",
    "train_precision = precision_at_k(model, train, k=5).mean()\n",
    "test_precision = precision_at_k(model, test, k=5).mean()\n",
    "\n",
    "print('Precision: train %.2f, test %.2f.' % (train_precision, test_precision))\n",
    "\n",
    "# Compute recall at k\n",
    "train_recall = recall_at_k(model, train, k=5).mean()\n",
    "test_recall = recall_at_k(model, test, k=5).mean()\n",
    "\n",
    "print('Recall: train %.2f, test %.2f.' % (train_recall, test_recall))\n"
   ]
  },
  {
   "cell_type": "markdown",
   "id": "3b5fa9dc",
   "metadata": {},
   "source": [
    "Precision at k: This metrices tell us about how many of the top k recommendation are actually relevant to users.From the results we can say that on average arounf 12% of the top 5 recommended products for training set and around 11% for test set are relevant to users.\n",
    "\n",
    "Recall at k: This tells us about how many actual relevant items are present in top k recommendation. From the result we can observe that for training set , it is aprox 43% of relevant items in top 5 recommendation and for test set, it is 39%.\n"
   ]
  },
  {
   "cell_type": "markdown",
   "id": "4bc7d4d4",
   "metadata": {},
   "source": [
    "The code cell below develop basic SVD model for testing purpose to check wheather everything is working fine on dataset or not and then compute RMSE score."
   ]
  },
  {
   "cell_type": "code",
   "execution_count": 4,
   "id": "6004bd5e",
   "metadata": {},
   "outputs": [
    {
     "name": "stdout",
     "output_type": "stream",
     "text": [
      "RMSE: 1.2177\n"
     ]
    },
    {
     "data": {
      "text/plain": [
       "1.2176765670188174"
      ]
     },
     "execution_count": 4,
     "metadata": {},
     "output_type": "execute_result"
    }
   ],
   "source": [
    "from surprise import SVD, accuracy\n",
    "from surprise import Dataset, Reader\n",
    "from surprise.model_selection import cross_validate, train_test_split\n",
    "\n",
    "# Load dataset\n",
    "reader = Reader(rating_scale=(1, 5))  \n",
    "data = Dataset.load_from_df(df[['UserId', 'ProductId', 'Score']], reader)\n",
    "\n",
    "# Split dataset in train and test\n",
    "trainset, testset = train_test_split(data, test_size=.25)\n",
    "\n",
    "# Use the SVD algorithm.\n",
    "algo = SVD()\n",
    "\n",
    "# Train algorithm on trainset and predicting rating for testset.\n",
    "algo.fit(trainset)\n",
    "\n",
    "# Test rained model\n",
    "predictions = algo.test(testset)\n",
    "\n",
    "# Compute RMSE\n",
    "accuracy.rmse(predictions)"
   ]
  },
  {
   "cell_type": "markdown",
   "id": "42b59187",
   "metadata": {},
   "source": [
    "Output shows that RMSE of model is 1.2176765670188174 for a rating of 1-5."
   ]
  },
  {
   "cell_type": "markdown",
   "id": "e2702d3e",
   "metadata": {},
   "source": [
    "The code below uses previously trained basic SVD Model and predict a user rating for a specific product.The code essentially predicts and shows the expected rating a user would give a specific product based on prior data."
   ]
  },
  {
   "cell_type": "code",
   "execution_count": 6,
   "id": "9fc41aeb",
   "metadata": {},
   "outputs": [
    {
     "name": "stdout",
     "output_type": "stream",
     "text": [
      "3.257795026666391\n"
     ]
    }
   ],
   "source": [
    "predicted_rating = algo.predict(\"A327PCT23YH90\", \"B0009XLVG0\")\n",
    "print(predicted_rating.est)"
   ]
  },
  {
   "cell_type": "markdown",
   "id": "7f887939",
   "metadata": {},
   "source": [
    "The output shows that for a product \"B0009XLVG0\" the user \"A327PCT23YH90\" will give rating of aprox 3.257795026666391."
   ]
  },
  {
   "cell_type": "markdown",
   "id": "852a9cb1",
   "metadata": {},
   "source": [
    "The code cell below measures two distinct accuracy metrics on the given set of predictions using the surprise library. First is MAE which tell the difference between predictes vs actuall rating.Second is FCP which measure that evaluates the proportion of correctly ordered prediction pairs."
   ]
  },
  {
   "cell_type": "code",
   "execution_count": 7,
   "id": "5629d323",
   "metadata": {},
   "outputs": [
    {
     "name": "stdout",
     "output_type": "stream",
     "text": [
      "MAE:  0.9466\n",
      "FCP:  0.5895\n"
     ]
    },
    {
     "data": {
      "text/plain": [
       "0.5894564828111243"
      ]
     },
     "execution_count": 7,
     "metadata": {},
     "output_type": "execute_result"
    }
   ],
   "source": [
    "accuracy.mae(predictions)\n",
    "accuracy.fcp(predictions)"
   ]
  },
  {
   "cell_type": "markdown",
   "id": "373c9794",
   "metadata": {},
   "source": [
    "The code cell below initilize a The code cell is initializing a Singular Value Decomposition (SVD) model from the Surprise library with specific hyperparameters.\n",
    "n_factors=50: It sets the number of latent factors to use in model.\n",
    "n_epochs=20: It sets the number of epochs the SVD algorithm will run.\n",
    "lr_all=0.005: It sets the learning rate for all the parameters in the model.\n"
   ]
  },
  {
   "cell_type": "code",
   "execution_count": 8,
   "id": "d8313aba",
   "metadata": {},
   "outputs": [],
   "source": [
    "algo = SVD(n_factors=50, n_epochs=20, lr_all=0.005)\n"
   ]
  },
  {
   "cell_type": "markdown",
   "id": "decb9676",
   "metadata": {},
   "source": [
    "The code cell below uses Surprise library, it sets up to evaluate multiple collaborative filtering algorithms for recommendation, namely SVD, three variations of K-Nearest Neighbors (KNNBasic, KNNWithMeans, KNNWithZScore), and NMF. \n",
    "Each algorithm is cross-validated using 3-fold process and finds RMSE on this data. The average RMSE of each algorith is printed as output."
   ]
  },
  {
   "cell_type": "code",
   "execution_count": 11,
   "id": "20f94c97",
   "metadata": {},
   "outputs": [
    {
     "name": "stdout",
     "output_type": "stream",
     "text": [
      "SVD:\n",
      "----------------------------------------\n",
      "Test RMSE: 1.2266509196936053\n",
      "\n",
      "\n",
      "Computing the cosine similarity matrix...\n",
      "Done computing similarity matrix.\n",
      "Computing the cosine similarity matrix...\n",
      "Done computing similarity matrix.\n",
      "Computing the cosine similarity matrix...\n",
      "Done computing similarity matrix.\n",
      "KNNBasic:\n",
      "----------------------------------------\n",
      "Test RMSE: 1.2309556052718065\n",
      "\n",
      "\n",
      "Computing the cosine similarity matrix...\n",
      "Done computing similarity matrix.\n",
      "Computing the cosine similarity matrix...\n",
      "Done computing similarity matrix.\n",
      "Computing the cosine similarity matrix...\n",
      "Done computing similarity matrix.\n",
      "KNNWithMeans:\n",
      "----------------------------------------\n",
      "Test RMSE: 1.2383107077704538\n",
      "\n",
      "\n",
      "Computing the cosine similarity matrix...\n",
      "Done computing similarity matrix.\n",
      "Computing the cosine similarity matrix...\n",
      "Done computing similarity matrix.\n",
      "Computing the cosine similarity matrix...\n",
      "Done computing similarity matrix.\n",
      "KNNWithZScore:\n",
      "----------------------------------------\n",
      "Test RMSE: 1.240938024186249\n",
      "\n",
      "\n",
      "NMF:\n",
      "----------------------------------------\n",
      "Test RMSE: 1.2926665307522793\n",
      "\n",
      "\n"
     ]
    }
   ],
   "source": [
    "from surprise import Dataset, Reader\n",
    "from surprise import SVD, KNNBasic, KNNWithMeans, KNNWithZScore, NMF\n",
    "from surprise.model_selection import cross_validate\n",
    "import numpy as np\n",
    "\n",
    "# Subset the dataframe for the first 100,000 rows\n",
    "df = df.iloc[:100000]\n",
    "\n",
    "# Use actual names of columns in your DataFrame\n",
    "user_id = 'UserId'\n",
    "product_id = 'ProductId'\n",
    "rating = 'Score'\n",
    "\n",
    "# Reader object; rating_scale should match the scale of ratings in your DataFrame\n",
    "reader = Reader(rating_scale=(1, 5))\n",
    "\n",
    "# Load the data from the DataFrame\n",
    "data = Dataset.load_from_df(df[[user_id, product_id, rating]], reader)\n",
    "\n",
    "# Adjust KNN algorithm parameters and use cosine similarity\n",
    "sim_options = {\n",
    "    'name': 'cosine',\n",
    "    'user_based': False  # Set to `True` if you want user-based CF\n",
    "}\n",
    "\n",
    "# Define the algorithms\n",
    "algorithms = {\n",
    "    \"SVD\": SVD(),\n",
    "    \"KNNBasic\": KNNBasic(sim_options=sim_options),\n",
    "    \"KNNWithMeans\": KNNWithMeans(sim_options=sim_options),\n",
    "    \"KNNWithZScore\": KNNWithZScore(sim_options=sim_options),\n",
    "    \"NMF\": NMF()\n",
    "}\n",
    "\n",
    "# Apply cross validation for each algorithm and print out the results\n",
    "for name, algo in algorithms.items():\n",
    "    cv_results = cross_validate(algo, data, measures=['RMSE'], cv=3, verbose=False)\n",
    "    print(f'{name}:')\n",
    "    print('-' * 40)\n",
    "    print(f\"Test RMSE: {np.mean(cv_results['test_rmse'])}\")\n",
    "    print('\\n')\n"
   ]
  },
  {
   "cell_type": "markdown",
   "id": "32bdb111",
   "metadata": {},
   "source": [
    "\n",
    "1. **SVD (Singular Value Decomposition):**\n",
    "   - RMSE: 1.2266509196936053\n",
    "\n",
    "2. **KNNBasic:**\n",
    "   - RMSE:  1.2309556052718065\n",
    "   \n",
    "3. **KNNWithMeans:**\n",
    "   - RMSE: 1.2383107077704538\n",
    "\n",
    "4. **KNNWithZScore:**\n",
    "   - RMSE: 1.240938024186249\n",
    "\n",
    "5. **NMF (Non-negative Matrix Factorization):**\n",
    "   - RMSE: 1.2926665307522793\n",
    "\n",
    "In summary, **SVD** performed the best among the algorithms tested, with the lowest RMSE. "
   ]
  },
  {
   "cell_type": "markdown",
   "id": "74866889",
   "metadata": {},
   "source": [
    "The code cells below uses these hyperparameters 'n_epochs': [5, 10, 20], 'lr_all': [0.002, 0.005, 0.01],'reg_all': [0.2, 0.4, 0.6] and finds on which hypterparameters SVD algo will run best on basis of thier RMSE."
   ]
  },
  {
   "cell_type": "code",
   "execution_count": 12,
   "id": "d0e084d1",
   "metadata": {},
   "outputs": [
    {
     "name": "stdout",
     "output_type": "stream",
     "text": [
      "Best parameters for RMSE: {'n_epochs': 20, 'lr_all': 0.01, 'reg_all': 0.2}\n",
      "Best RMSE score: 1.2170725058337772\n"
     ]
    }
   ],
   "source": [
    "from surprise.model_selection import GridSearchCV\n",
    "# Define the parameter grid\n",
    "\n",
    "param_grid = {\n",
    "    'n_epochs': [5, 10, 20], \n",
    "    'lr_all': [0.002, 0.005, 0.01],\n",
    "    'reg_all': [0.2, 0.4, 0.6]\n",
    "}\n",
    "\n",
    "# Use GridSearchCV with SVD\n",
    "gs = GridSearchCV(SVD, param_grid, measures=['rmse', 'mae'], cv=3)\n",
    "\n",
    "# Fit the grid search to the data\n",
    "gs.fit(data)\n",
    "\n",
    "# Get the best parameters\n",
    "best_params = gs.best_params['rmse']\n",
    "\n",
    "print(f\"Best parameters for RMSE: {best_params}\")\n",
    "\n",
    "# Get the best score\n",
    "best_score = gs.best_score['rmse']\n",
    "\n",
    "print(f\"Best RMSE score: {best_score}\")\n",
    "\n"
   ]
  },
  {
   "cell_type": "markdown",
   "id": "9cacba3b",
   "metadata": {},
   "source": [
    "The output shows that on these hyperparameters SVD model performs best.Best parameters for RMSE: {'n_epochs': 20, 'lr_all': 0.01, 'reg_all': 0.2}\n",
    "Best RMSE score: 1.2170725058337772"
   ]
  },
  {
   "cell_type": "markdown",
   "id": "129fee5a",
   "metadata": {},
   "source": [
    "The code cell below uses Best parameters for RMSE: {'n_epochs': 20, 'lr_all': 0.01, 'reg_all': 0.2} to predict rating from particular product by user will give and calculate RMSE of output."
   ]
  },
  {
   "cell_type": "code",
   "execution_count": 13,
   "id": "93fd91c6",
   "metadata": {},
   "outputs": [
    {
     "name": "stdout",
     "output_type": "stream",
     "text": [
      "1.2180160507724898\n",
      "{'n_epochs': 20, 'lr_all': 0.01, 'reg_all': 0.2}\n",
      "user: A3KLWF6WQ5BNYO item: B001GVISJM r_ui = None   est = 3.46   {'was_impossible': False}\n",
      "3.4559131367121414\n"
     ]
    }
   ],
   "source": [
    "import pandas as pd\n",
    "from surprise import SVD, Dataset, Reader\n",
    "from surprise.model_selection import train_test_split, GridSearchCV\n",
    "\n",
    "# Load data\n",
    "df = pd.read_csv('/Users/himanshu/Desktop/msc/Reviews.csv', nrows=100000)\n",
    "\n",
    "user_id = 'UserId'\n",
    "product_id = 'ProductId'\n",
    "rating = 'Score'\n",
    "\n",
    "\n",
    "reader = Reader(rating_scale=(1, 5)) \n",
    "data = Dataset.load_from_df(df[[user_id, product_id, rating]], reader)  # Load data from DF\n",
    "\n",
    "param_grid = {\n",
    "    'n_epochs': [20], \n",
    "    'lr_all': [0.01],\n",
    "    'reg_all': [0.2]\n",
    "}\n",
    "\n",
    "gs = GridSearchCV(SVD, param_grid, measures=['rmse'], cv=3)\n",
    "gs.fit(data)\n",
    "\n",
    "# RMSE score\n",
    "print(gs.best_score['rmse'])\n",
    "\n",
    "# combination of parameters that give best RMSE score\n",
    "print(gs.best_params['rmse'])\n",
    "\n",
    "#making predictions using the algo.predict() method\n",
    "algo = gs.best_estimator['rmse']\n",
    "\n",
    "# Train on the dataset\n",
    "trainset = data.build_full_trainset()\n",
    "algo.fit(trainset)\n",
    "\n",
    "# To predict the rating user 'anyuser from data' would give to item 'any item in dataset':\n",
    "pred = algo.predict('A3KLWF6WQ5BNYO', 'B001GVISJM', verbose=True)\n",
    "print(pred.est)\n",
    "\n"
   ]
  },
  {
   "cell_type": "markdown",
   "id": "738ca7eb",
   "metadata": {},
   "source": [
    "The output shows that RMSE is 1.2180160507724898 for user A3KLWF6WQ5BNYO and item B001GVISJM,\n",
    "est = 3.45 is the estimated rating that the model predicts the user would give to the item.\n",
    "{'was_impossible': False} indicates that the prediction was possible (i.e., it didn't encounter an issue like a lack of data for making a prediction). "
   ]
  },
  {
   "cell_type": "markdown",
   "id": "3945eea1",
   "metadata": {},
   "source": [
    "The code cell below for SVD model with hyperparameters {'n_epochs': 20, 'lr_all': 0.01, 'reg_all': 0.2} finds out RMSE, F1 score, Precision and Recall."
   ]
  },
  {
   "cell_type": "code",
   "execution_count": 188,
   "id": "ec1f1424",
   "metadata": {},
   "outputs": [
    {
     "name": "stdout",
     "output_type": "stream",
     "text": [
      "1.217102048662859\n",
      "{'n_epochs': 20, 'lr_all': 0.01, 'reg_all': 0.2}\n",
      "Precision: 0.9893\n",
      "Recall: 0.9041\n",
      "F1 Score: 0.9448\n"
     ]
    }
   ],
   "source": [
    "import pandas as pd\n",
    "from surprise import SVD, Dataset, Reader, accuracy\n",
    "from surprise.model_selection import train_test_split, GridSearchCV\n",
    "from sklearn.metrics import precision_score, recall_score, f1_score\n",
    "\n",
    "# Load data\n",
    "df = pd.read_csv('/Users/himanshu/Desktop/msc/Reviews.csv', nrows=100000)\n",
    "\n",
    "\n",
    "user_id = 'UserId'\n",
    "product_id = 'ProductId'\n",
    "rating = 'Score'\n",
    "\n",
    "reader = Reader(rating_scale=(1, 5))  \n",
    "data = Dataset.load_from_df(df[[user_id, product_id, rating]], reader) \n",
    "\n",
    "param_grid = {\n",
    "    'n_epochs': [20], \n",
    "    'lr_all': [0.01],\n",
    "    'reg_all': [0.2]\n",
    "}\n",
    "\n",
    "gs = GridSearchCV(SVD, param_grid, measures=['rmse'], cv=3)\n",
    "gs.fit(data)\n",
    "\n",
    "# finding RMSE score\n",
    "print(gs.best_score['rmse'])\n",
    "\n",
    "# combination of parameters that gave RMSE score\n",
    "print(gs.best_params['rmse'])\n",
    "\n",
    "# Use the best model\n",
    "algo = gs.best_estimator['rmse']\n",
    "\n",
    "# Train on the dataset\n",
    "trainset = data.build_full_trainset()\n",
    "algo.fit(trainset)\n",
    "\n",
    "# Test on the test set\n",
    "trainset, testset = train_test_split(data, test_size=0.25)\n",
    "predictions = algo.test(testset)\n",
    "\n",
    "# Convert actual and predicted ratings into binary labels\n",
    "threshold = 4.0 \n",
    "actual = [1 if r >= threshold else 0 for (_, _, r) in testset]\n",
    "predicted = [1 if est >= threshold else 0 for (_, _, _, est, _) in predictions]\n",
    "\n",
    "# Calculates Precision, Recall, F1 Score\n",
    "precision = precision_score(actual, predicted)\n",
    "recall = recall_score(actual, predicted)\n",
    "f1 = f1_score(actual, predicted)\n",
    "\n",
    "print(f\"Precision: {precision:.4f}\")\n",
    "print(f\"Recall: {recall:.4f}\")\n",
    "print(f\"F1 Scor1e: {f1:.4f}\")\n"
   ]
  },
  {
   "cell_type": "markdown",
   "id": "864afcb4",
   "metadata": {},
   "source": [
    "Using the pickle library, the code serialises and saves the trained model algorithm to a file called \"trained_model.pkl.\""
   ]
  },
  {
   "cell_type": "code",
   "execution_count": 14,
   "id": "9313c0ac",
   "metadata": {},
   "outputs": [],
   "source": [
    "import pickle\n",
    "\n",
    "# `algo` is our trained model\n",
    "with open('trained_model.pkl', 'wb') as f:\n",
    "    pickle.dump(algo, f)"
   ]
  },
  {
   "cell_type": "markdown",
   "id": "9729c8b3",
   "metadata": {},
   "source": [
    "The programme first loads a model from \"trained_model.pkl\" and tests the prediction function for a certain user and item. It next imports a stored model from a file using the pickle programme and predicts a rating for a given user-item combination."
   ]
  },
  {
   "cell_type": "code",
   "execution_count": 15,
   "id": "54339ce4",
   "metadata": {},
   "outputs": [
    {
     "name": "stdout",
     "output_type": "stream",
     "text": [
      "4.626440496550361\n"
     ]
    }
   ],
   "source": [
    "import pickle\n",
    "\n",
    "def load_model(model_file):\n",
    "    with open(model_file, 'rb') as f:\n",
    "        return pickle.load(f)\n",
    "\n",
    "def predict_rating(user_id, item_id, model):\n",
    "    prediction = model.predict(user_id, item_id)\n",
    "    return prediction.est\n",
    "\n",
    "# Load the model\n",
    "model = load_model('trained_model.pkl')\n",
    "\n",
    "# Test the function\n",
    "user_id = 'A31OQO709M20Y7'\n",
    "item_id = 'B003F6UO7K'\n",
    "print(predict_rating(user_id, item_id, model))\n",
    "\n"
   ]
  },
  {
   "cell_type": "markdown",
   "id": "5d81e474",
   "metadata": {},
   "source": [
    "The trained model's predicted rating of 4.62 indicates that user 'A31OQO709M20Y7' would give to product'B003F6UO7K'."
   ]
  },
  {
   "cell_type": "markdown",
   "id": "ef2cafdb",
   "metadata": {},
   "source": [
    "The code cell below calculates the average accuracy and recall for user-item rating predictions at a certain cutoff k, taking into account only ratings that are higher than a predetermined threshold."
   ]
  },
  {
   "cell_type": "code",
   "execution_count": 18,
   "id": "ed799a41",
   "metadata": {},
   "outputs": [],
   "source": [
    "from collections import defaultdict\n",
    "\n",
    "def precision_recall_at_k(predictions, k=10, threshold=3.5):\n",
    "    \"\"\"It Returns precision and recall at k metrics for each user\"\"\"\n",
    "\n",
    "    # First map the predictions to each user.\n",
    "    user_est_true = defaultdict(list)\n",
    "    for uid, _, true_r, est, _ in predictions:\n",
    "        user_est_true[uid].append((est, true_r))\n",
    "\n",
    "    precisions = dict()\n",
    "    recalls = dict()\n",
    "    for uid, user_ratings in user_est_true.items():\n",
    "        # Sorting user's ratings by estimated value\n",
    "        user_ratings.sort(key=lambda x: x[0], reverse=True)\n",
    "\n",
    "        # Number of relevant products\n",
    "        n_rel = sum((true_r >= threshold) for (_, true_r) in user_ratings)\n",
    "\n",
    "        # Number of recommended items in top k\n",
    "        n_rec_k = sum((est >= threshold) for (est, _) in user_ratings[:k])\n",
    "\n",
    "        # Number of relevant and recommended items in top k\n",
    "        n_rel_and_rec_k = sum(((true_r >= threshold) and (est >= threshold))\n",
    "                              for (est, true_r) in user_ratings[:k])\n",
    "\n",
    "        # Precision@K: Proportion of recommended items that are relevant\n",
    "        precisions[uid] = n_rel_and_rec_k / n_rec_k if n_rec_k != 0 else 1\n",
    "\n",
    "        # Recall@K: Proportion of relevant items that are recommended\n",
    "        recalls[uid] = n_rel_and_rec_k / n_rel if n_rel != 0 else 1\n",
    "\n",
    "    return precisions, recalls\n",
    "\n",
    "precisions, recalls = precision_recall_at_k(predictions, k=5, threshold=4)\n",
    "\n",
    "# Calculate precision and recall over all users\n",
    "avg_precision = sum(prec for prec in precisions.values()) / len(precisions)\n",
    "avg_recall = sum(rec for rec in recalls.values()) / len(recalls)\n"
   ]
  },
  {
   "cell_type": "markdown",
   "id": "1e6f6693",
   "metadata": {},
   "source": [
    "The code cell below produces overlapping histograms to better compare the distributions of the actual and Predicted user-item ratings."
   ]
  },
  {
   "cell_type": "code",
   "execution_count": 19,
   "id": "2974498f",
   "metadata": {},
   "outputs": [
    {
     "data": {
      "image/png": "[encoded data removed]",
      "text/plain": [
       "<Figure size 432x288 with 1 Axes>"
      ]
     },
     "metadata": {
      "needs_background": "light"
     },
     "output_type": "display_data"
    }
   ],
   "source": [
    "import matplotlib.pyplot as plt\n",
    "\n",
    "# Ploating Actual ratings\n",
    "actual_ratings = [true_r for (_, _, true_r, _, _) in predictions]\n",
    "plt.hist(actual_ratings, alpha=0.5, label='Actual Ratings')\n",
    "\n",
    "# Ploating Predicted ratings\n",
    "predicted_ratings = [est for (_, _, _, est, _) in predictions]\n",
    "plt.hist(predicted_ratings, alpha=0.5, label='Predicted Ratings')\n",
    "\n",
    "plt.legend(loc='upper left')\n",
    "plt.title('Distribution of Actual vs. Predicted Ratings')\n",
    "plt.xlabel('Rating Value')  \n",
    "plt.ylabel('Number of Ratings')\n",
    "plt.show()\n",
    "\n"
   ]
  },
  {
   "cell_type": "markdown",
   "id": "ef270c0d",
   "metadata": {},
   "source": [
    "The code cell below print first 10 predictions based on model."
   ]
  },
  {
   "cell_type": "code",
   "execution_count": 20,
   "id": "d1d19354",
   "metadata": {},
   "outputs": [
    {
     "name": "stdout",
     "output_type": "stream",
     "text": [
      "[Prediction(uid='A1NCBHQ4VIES48', iid='B0015R9BQG', r_ui=5.0, est=4.331162939456401, details={'was_impossible': False}), Prediction(uid='AIW77UMHDBGLU', iid='B002GJ9JWS', r_ui=2.0, est=3.946170299926893, details={'was_impossible': False}), Prediction(uid='A1F7NPONOI6KP7', iid='B002PI82P0', r_ui=1.0, est=3.7979393692093217, details={'was_impossible': False}), Prediction(uid='A3NXMA1A5761IN', iid='B000KOSDY6', r_ui=5.0, est=4.526733833165899, details={'was_impossible': False}), Prediction(uid='A3NHUQ33CFH3VM', iid='B000ER6YO0', r_ui=3.0, est=3.3079871068551148, details={'was_impossible': False}), Prediction(uid='A3SIN3XBXYNMPB', iid='B0012YEKCM', r_ui=5.0, est=4.160846118070443, details={'was_impossible': False}), Prediction(uid='A1Z7UMW0Q2333R', iid='B000QV4U4U', r_ui=5.0, est=4.438783163714065, details={'was_impossible': False}), Prediction(uid='ARX7Z3NI6O0F7', iid='B004BW45Q8', r_ui=5.0, est=4.259346675278836, details={'was_impossible': False}), Prediction(uid='A1O229NVVDJUX2', iid='B000FA15RW', r_ui=4.0, est=3.9207615520532895, details={'was_impossible': False}), Prediction(uid='A2D2SU3FC1WKKV', iid='B0012YEKCW', r_ui=3.0, est=4.538938136217228, details={'was_impossible': False})]\n"
     ]
    }
   ],
   "source": [
    "print(predictions[:10]) \n"
   ]
  },
  {
   "cell_type": "markdown",
   "id": "b9ffca0d",
   "metadata": {},
   "source": [
    "The code below tunes the hyperparameters of an SVD recommendation model, trains the best model on a dataset, and then compares the popularity ranks of its top 5 item suggestions for a random subset of users against a set of random recommendations, using a t-test for statistical significance."
   ]
  },
  {
   "cell_type": "code",
   "execution_count": 22,
   "id": "d94a9bc0",
   "metadata": {},
   "outputs": [
    {
     "name": "stdout",
     "output_type": "stream",
     "text": [
      "1.2178472614017215\n",
      "{'n_epochs': 20, 'lr_all': 0.01, 'reg_all': 0.2}\n",
      "T-statistic: [10.63668615  5.92446186  2.98859666 16.78226198 -7.17150981]\n",
      "P-value: [3.43842139e-21 1.36771019e-08 3.15746926e-03 6.69880814e-40\n",
      " 1.44466403e-11]\n"
     ]
    }
   ],
   "source": [
    "import pandas as pd\n",
    "from surprise import Reader, Dataset, SVD\n",
    "from surprise.model_selection import GridSearchCV\n",
    "from surprise.accuracy import rmse\n",
    "from collections import defaultdict\n",
    "from scipy.stats import ttest_ind\n",
    "import random\n",
    "\n",
    "# Load 100,000 rows of dataset\n",
    "df = pd.read_csv('/Users/himanshu/Desktop/msc/Reviews.csv', nrows=100000)\n",
    "\n",
    "\n",
    "user_id = 'UserId'\n",
    "product_id = 'ProductId'\n",
    "rating = 'Score'\n",
    "\n",
    "# Load data\n",
    "reader = Reader(rating_scale=(1, 5))\n",
    "data = Dataset.load_from_df(df[[user_id, product_id, rating]], reader)\n",
    "\n",
    "# Hyperparameter tuning with GridSearchCV\n",
    "param_grid = {\n",
    "    'n_epochs': [20],\n",
    "    'lr_all': [0.01],\n",
    "    'reg_all': [0.2]\n",
    "}\n",
    "gs = GridSearchCV(SVD, param_grid, measures=['rmse'], cv=3)\n",
    "gs.fit(data)\n",
    "\n",
    "# Get best model\n",
    "best_model = gs.best_estimator['rmse']\n",
    "print(gs.best_score['rmse'])\n",
    "print(gs.best_params['rmse'])\n",
    "\n",
    "# Train model on full dataset\n",
    "trainset = data.build_full_trainset()\n",
    "best_model.fit(trainset)\n",
    "\n",
    "# Create Popularity Rankings\n",
    "item_popularity = df.groupby(product_id).size().sort_values(ascending=False)\n",
    "popularity_rankings = item_popularity.index.tolist()\n",
    "\n",
    "# Function to get top N predictions\n",
    "def get_top_n(predictions, n=10):\n",
    "    \n",
    "    '''Make the top-N item suggestions for each user.\n",
    "      Predictions (list of Prediction objects), parameters: a group of forecasted ratings.\n",
    "     n(int): The desired number of highly rated products to recommend to each user, with a default value of 10.\n",
    "      Outcome:\n",
    "     A dictionary with keys that are the user's (raw) ids and values that are lists of tuples with the following combinations: [(item's raw id, projected rating),...], with a maximum of 'n' items.'''\n",
    "    top_n = defaultdict(list)\n",
    "    for uid, iid, true_r, est, _ in predictions:\n",
    "        top_n[uid].append((iid, est))\n",
    "        \n",
    "    for uid, user_ratings in top_n.items():\n",
    "        user_ratings.sort(key=lambda x: x[1], reverse=True)\n",
    "        top_n[uid] = user_ratings[:n]\n",
    "    return top_n\n",
    "\n",
    "# Select a random subset of users\n",
    "subset_users = random.sample(trainset.all_users(), 100)\n",
    "\n",
    "# Generate a testset for the selected users\n",
    "subset_testset = [(uid, iid, trainset.global_mean) for uid in subset_users for iid in trainset.all_items()]\n",
    "\n",
    "# Generate predictions for the subset\n",
    "subset_predictions = best_model.test(subset_testset)\n",
    "\n",
    "# Get top 5 recommendations\n",
    "top_n = get_top_n(subset_predictions, n=5)\n",
    "\n",
    "# Extract item ids from recommendations\n",
    "recommendations_item_ids = {trainset.to_raw_uid(uid): [trainset.to_raw_iid(iid) for (iid, _) in user_ratings] for uid, user_ratings in top_n.items()}\n",
    "\n",
    "# Analyze the Recommendations\n",
    "recommendation_ranks = [[popularity_rankings.index(item_id) for item_id in user_rec] for user_rec in recommendations_item_ids.values()]\n",
    "\n",
    "# Compare with Random Recommendations\n",
    "random_recommendations = [random.choices(popularity_rankings, k=5) for _ in range(len(recommendations_item_ids))]\n",
    "random_ranks = [[popularity_rankings.index(item_id) for item_id in user_rec] for user_rec in random_recommendations]\n",
    "\n",
    "# Statistical Tests\n",
    "t_stat, p_value = ttest_ind(recommendation_ranks, random_ranks)\n",
    "print(f\"T-statistic: {t_stat}\")\n",
    "print(f\"P-value: {p_value}\")\n"
   ]
  },
  {
   "cell_type": "markdown",
   "id": "94ea9ddf",
   "metadata": {},
   "source": [
    "The code cell below for every user,it obtains the top five products that are highly recommended, shows those products together with the ratings that are expected, and then displays the user's prior rating or purchase history."
   ]
  },
  {
   "cell_type": "code",
   "execution_count": 23,
   "id": "52c3796a",
   "metadata": {},
   "outputs": [
    {
     "name": "stdout",
     "output_type": "stream",
     "text": [
      "\n",
      "User: A1HW6MXJT4Y7YL\n",
      "Top 5 recommendations:\n",
      "Product ID: B001E4KFG0 Predicted Rating: 4.15263\n",
      "Product ID: B00813GRG4 Predicted Rating: 4.15263\n",
      "Product ID: B000LQOCH0 Predicted Rating: 4.15263\n",
      "Product ID: B000UA0QIQ Predicted Rating: 4.15263\n",
      "Product ID: B006K2ZZ7K Predicted Rating: 4.15263\n",
      "\n",
      "User history:\n",
      "          Id   ProductId          UserId             ProfileName  \\\n",
      "90013  90014  B0046GRD0O  A1HW6MXJT4Y7YL  J. Shepherd \"jenithea\"   \n",
      "\n",
      "       HelpfulnessNumerator  HelpfulnessDenominator  Score        Time  \\\n",
      "90013                     0                       0      5  1349481600   \n",
      "\n",
      "                           Summary  \\\n",
      "90013  delicious and not too sweet   \n",
      "\n",
      "                                                    Text  \n",
      "90013  If you like extremely sweet things, like fudge...  \n",
      "\n",
      "User: AJ5DZEHLRHP9V\n",
      "Top 5 recommendations:\n",
      "Product ID: B001E4KFG0 Predicted Rating: 4.15263\n",
      "Product ID: B00813GRG4 Predicted Rating: 4.15263\n",
      "Product ID: B000LQOCH0 Predicted Rating: 4.15263\n",
      "Product ID: B000UA0QIQ Predicted Rating: 4.15263\n",
      "Product ID: B006K2ZZ7K Predicted Rating: 4.15263\n",
      "\n",
      "User history:\n",
      "          Id   ProductId         UserId ProfileName  HelpfulnessNumerator  \\\n",
      "42048  42049  B0019SAT94  AJ5DZEHLRHP9V   J. Brandt                     1   \n",
      "\n",
      "       HelpfulnessDenominator  Score        Time   Summary  \\\n",
      "42048                       3      5  1255305600  The Best   \n",
      "\n",
      "                                                    Text  \n",
      "42048  The very best! I've tried quite a few cocoa an...  \n",
      "\n",
      "User: A1XIT3BE15E4I4\n",
      "Top 5 recommendations:\n",
      "Product ID: B001E4KFG0 Predicted Rating: 4.15263\n",
      "Product ID: B00813GRG4 Predicted Rating: 4.15263\n",
      "Product ID: B000LQOCH0 Predicted Rating: 4.15263\n",
      "Product ID: B000UA0QIQ Predicted Rating: 4.15263\n",
      "Product ID: B006K2ZZ7K Predicted Rating: 4.15263\n",
      "\n",
      "User history:\n",
      "          Id   ProductId          UserId     ProfileName  \\\n",
      "17429  17430  B0045Z6K50  A1XIT3BE15E4I4  Vicky L. Scott   \n",
      "80279  80280  B004342XH2  A1XIT3BE15E4I4  Vicky L. Scott   \n",
      "\n",
      "       HelpfulnessNumerator  HelpfulnessDenominator  Score        Time  \\\n",
      "17429                     0                       0      4  1318809600   \n",
      "80279                     0                       0      3  1318809600   \n",
      "\n",
      "                       Summary  \\\n",
      "17429  strong but good tasting   \n",
      "80279          Nothing special   \n",
      "\n",
      "                                                    Text  \n",
      "17429  I bought this because of the \"medium roast\" bu...  \n",
      "80279  I was a little disappointed with this product....  \n",
      "\n",
      "User: ATZTCJX84STS1\n",
      "Top 5 recommendations:\n",
      "Product ID: B001E4KFG0 Predicted Rating: 4.15263\n",
      "Product ID: B00813GRG4 Predicted Rating: 4.15263\n",
      "Product ID: B000LQOCH0 Predicted Rating: 4.15263\n",
      "Product ID: B000UA0QIQ Predicted Rating: 4.15263\n",
      "Product ID: B006K2ZZ7K Predicted Rating: 4.15263\n",
      "\n",
      "User history:\n",
      "          Id   ProductId         UserId ProfileName  HelpfulnessNumerator  \\\n",
      "57184  57185  B000E6727Y  ATZTCJX84STS1       Sue S                     0   \n",
      "\n",
      "       HelpfulnessDenominator  Score        Time          Summary  \\\n",
      "57184                       0      5  1226880000  Best Chai ever!   \n",
      "\n",
      "                                                    Text  \n",
      "57184  Celestial Seasonings Chai Tea is the best bran...  \n",
      "\n",
      "User: A358LYMJRR1IJW\n",
      "Top 5 recommendations:\n",
      "Product ID: B001E4KFG0 Predicted Rating: 4.15263\n",
      "Product ID: B00813GRG4 Predicted Rating: 4.15263\n",
      "Product ID: B000LQOCH0 Predicted Rating: 4.15263\n",
      "Product ID: B000UA0QIQ Predicted Rating: 4.15263\n",
      "Product ID: B006K2ZZ7K Predicted Rating: 4.15263\n",
      "\n",
      "User history:\n",
      "          Id   ProductId          UserId                        ProfileName  \\\n",
      "36774  36775  B001HTJ2BQ  A358LYMJRR1IJW  AngryMonkey \"serg3480fg34f7g1231\"   \n",
      "\n",
      "       HelpfulnessNumerator  HelpfulnessDenominator  Score        Time  \\\n",
      "36774                     3                       3      2  1312329600   \n",
      "\n",
      "                                  Summary  \\\n",
      "36774  Used to be great, Not sure anymore   \n",
      "\n",
      "                                                    Text  \n",
      "36774  Same experience as others here<br /><br />Been...  \n",
      "\n",
      "User: ANEXFROORI6F6\n",
      "Top 5 recommendations:\n",
      "Product ID: B001E4KFG0 Predicted Rating: 4.15263\n",
      "Product ID: B00813GRG4 Predicted Rating: 4.15263\n",
      "Product ID: B000LQOCH0 Predicted Rating: 4.15263\n",
      "Product ID: B000UA0QIQ Predicted Rating: 4.15263\n",
      "Product ID: B006K2ZZ7K Predicted Rating: 4.15263\n",
      "\n",
      "User history:\n",
      "          Id   ProductId         UserId ProfileName  HelpfulnessNumerator  \\\n",
      "25589  25590  B005CGUTIA  ANEXFROORI6F6    Pilchard                     3   \n",
      "\n",
      "       HelpfulnessDenominator  Score        Time  \\\n",
      "25589                       4      5  1325808000   \n",
      "\n",
      "                                              Summary  \\\n",
      "25589  This is very fragrant, and loved by my kitties   \n",
      "\n",
      "                                                    Text  \n",
      "25589  I'm a cat lover, and spoil them very often. Re...  \n",
      "\n",
      "User: A1YZ3BK6V1DAQ\n",
      "Top 5 recommendations:\n",
      "Product ID: B001E4KFG0 Predicted Rating: 4.15263\n",
      "Product ID: B00813GRG4 Predicted Rating: 4.15263\n",
      "Product ID: B000LQOCH0 Predicted Rating: 4.15263\n",
      "Product ID: B000UA0QIQ Predicted Rating: 4.15263\n",
      "Product ID: B006K2ZZ7K Predicted Rating: 4.15263\n",
      "\n",
      "User history:\n",
      "          Id   ProductId         UserId   ProfileName  HelpfulnessNumerator  \\\n",
      "97627  97628  B0010VFKYE  A1YZ3BK6V1DAQ  Eve Williams                     1   \n",
      "\n",
      "       HelpfulnessDenominator  Score        Time              Summary  \\\n",
      "97627                       1      5  1213056000  Hands down favorite   \n",
      "\n",
      "                                                    Text  \n",
      "97627  This is by far my favorite sandwich spread, ho...  \n",
      "\n",
      "User: AJN2TAVFBN7FI\n",
      "Top 5 recommendations:\n",
      "Product ID: B001E4KFG0 Predicted Rating: 4.15263\n",
      "Product ID: B00813GRG4 Predicted Rating: 4.15263\n",
      "Product ID: B000LQOCH0 Predicted Rating: 4.15263\n",
      "Product ID: B000UA0QIQ Predicted Rating: 4.15263\n",
      "Product ID: B006K2ZZ7K Predicted Rating: 4.15263\n",
      "\n",
      "User history:\n",
      "          Id   ProductId         UserId   ProfileName  HelpfulnessNumerator  \\\n",
      "57936  57937  B000EVOSE4  AJN2TAVFBN7FI  ralph_wiggum                     0   \n",
      "\n",
      "       HelpfulnessDenominator  Score        Time     Summary  \\\n",
      "57936                       0      5  1350518400  Delicious!   \n",
      "\n",
      "                                                    Text  \n",
      "57936  Accept no imitation as this is the gold standa...  \n",
      "\n",
      "User: A1NVL8EQ6ZP4NF\n",
      "Top 5 recommendations:\n",
      "Product ID: B001E4KFG0 Predicted Rating: 4.15263\n",
      "Product ID: B00813GRG4 Predicted Rating: 4.15263\n",
      "Product ID: B000LQOCH0 Predicted Rating: 4.15263\n",
      "Product ID: B000UA0QIQ Predicted Rating: 4.15263\n",
      "Product ID: B006K2ZZ7K Predicted Rating: 4.15263\n",
      "\n",
      "User history:\n",
      "          Id   ProductId          UserId ProfileName  HelpfulnessNumerator  \\\n",
      "71982  71983  B0062QAQ00  A1NVL8EQ6ZP4NF  Larry Rust                     1   \n",
      "\n",
      "       HelpfulnessDenominator  Score        Time   Summary  \\\n",
      "71982                       1      5  1335744000  Loved it   \n",
      "\n",
      "                                                    Text  \n",
      "71982  I love this Chef Pauls NO salt NO Sugar Lemon ...  \n",
      "\n",
      "User: A10FL3TBQ7TI48\n",
      "Top 5 recommendations:\n",
      "Product ID: B001E4KFG0 Predicted Rating: 4.15263\n",
      "Product ID: B00813GRG4 Predicted Rating: 4.15263\n",
      "Product ID: B000LQOCH0 Predicted Rating: 4.15263\n",
      "Product ID: B000UA0QIQ Predicted Rating: 4.15263\n",
      "Product ID: B006K2ZZ7K Predicted Rating: 4.15263\n",
      "\n",
      "User history:\n",
      "          Id   ProductId          UserId ProfileName  HelpfulnessNumerator  \\\n",
      "56817  56818  B001NDZXV4  A10FL3TBQ7TI48     J. King                     0   \n",
      "68091  68092  B002GWH5BM  A10FL3TBQ7TI48     J. King                     0   \n",
      "\n",
      "       HelpfulnessDenominator  Score        Time                     Summary  \\\n",
      "56817                       0      5  1309996800  Real Kona Coffee med roast   \n",
      "68091                       0      5  1326672000              Very Very Good   \n",
      "\n",
      "                                                    Text  \n",
      "56817  Not oily on the surface like dark roast where ...  \n",
      "68091  Finally, I found an online coffee that'll matc...  \n",
      "\n",
      "User: A1XRXZI5KOMVDD\n",
      "Top 5 recommendations:\n",
      "Product ID: B001E4KFG0 Predicted Rating: 4.15263\n",
      "Product ID: B00813GRG4 Predicted Rating: 4.15263\n",
      "Product ID: B000LQOCH0 Predicted Rating: 4.15263\n",
      "Product ID: B000UA0QIQ Predicted Rating: 4.15263\n",
      "Product ID: B006K2ZZ7K Predicted Rating: 4.15263\n",
      "\n",
      "User history:\n",
      "          Id   ProductId          UserId            ProfileName  \\\n",
      "11086  11087  B002TSHYSW  A1XRXZI5KOMVDD  KAF1958 \"amandaf0626\"   \n",
      "12346  12347  B003O7AD9Y  A1XRXZI5KOMVDD  KAF1958 \"amandaf0626\"   \n",
      "19995  19996  B002C50X1M  A1XRXZI5KOMVDD  KAF1958 \"amandaf0626\"   \n",
      "64416  64417  B000MIDROQ  A1XRXZI5KOMVDD  KAF1958 \"amandaf0626\"   \n",
      "\n",
      "       HelpfulnessNumerator  HelpfulnessDenominator  Score        Time  \\\n",
      "11086                     0                       0      4  1307664000   \n",
      "12346                     1                       1      4  1337990400   \n",
      "19995                     0                       0      4  1307664000   \n",
      "64416                     2                       3      2  1303689600   \n",
      "\n",
      "                          Summary  \\\n",
      "11086             Crispy and tart   \n",
      "12346        tasty but too pricey   \n",
      "19995             Crispy and tart   \n",
      "64416  Not as good as the ravioli   \n",
      "\n",
      "                                                    Text  \n",
      "11086  Deep River Salt & Vinegar chips are thick and ...  \n",
      "12346  These are pleasantly sweet with a nice vanilla...  \n",
      "19995  Deep River Salt & Vinegar chips are thick and ...  \n",
      "64416  I bought these thinking that they would be as ...  \n",
      "\n",
      "User: A2G1Y8UKU9BEFI\n",
      "Top 5 recommendations:\n",
      "Product ID: B001E4KFG0 Predicted Rating: 4.15263\n",
      "Product ID: B00813GRG4 Predicted Rating: 4.15263\n",
      "Product ID: B000LQOCH0 Predicted Rating: 4.15263\n",
      "Product ID: B000UA0QIQ Predicted Rating: 4.15263\n",
      "Product ID: B006K2ZZ7K Predicted Rating: 4.15263\n",
      "\n",
      "User history:\n",
      "          Id   ProductId          UserId ProfileName  HelpfulnessNumerator  \\\n",
      "14568  14569  B0032BXUJM  A2G1Y8UKU9BEFI    4dabirds                     0   \n",
      "\n",
      "       HelpfulnessDenominator  Score        Time  \\\n",
      "14568                       0      5  1311638400   \n",
      "\n",
      "                              Summary  \\\n",
      "14568  Great coffee - Less packaging!   \n",
      "\n",
      "                                                    Text  \n",
      "14568  The Emeril Lagasse coffee has good flavor - I ...  \n",
      "\n",
      "User: A294154CGM7J9T\n",
      "Top 5 recommendations:\n",
      "Product ID: B001E4KFG0 Predicted Rating: 4.15263\n",
      "Product ID: B00813GRG4 Predicted Rating: 4.15263\n",
      "Product ID: B000LQOCH0 Predicted Rating: 4.15263\n",
      "Product ID: B000UA0QIQ Predicted Rating: 4.15263\n",
      "Product ID: B006K2ZZ7K Predicted Rating: 4.15263\n",
      "\n",
      "User history:\n",
      "          Id   ProductId          UserId ProfileName  HelpfulnessNumerator  \\\n",
      "56190  56191  B0039ZOZ86  A294154CGM7J9T   indy46254                     2   \n",
      "\n",
      "       HelpfulnessDenominator  Score        Time    Summary  \\\n",
      "56190                       3      3  1288656000  Just okay   \n",
      "\n",
      "                                                    Text  \n",
      "56190  This product was not as flavorful as I had exp...  \n",
      "\n",
      "User: A25E8V5JMW43RY\n",
      "Top 5 recommendations:\n",
      "Product ID: B001E4KFG0 Predicted Rating: 4.15263\n",
      "Product ID: B00813GRG4 Predicted Rating: 4.15263\n",
      "Product ID: B000LQOCH0 Predicted Rating: 4.15263\n",
      "Product ID: B000UA0QIQ Predicted Rating: 4.15263\n",
      "Product ID: B006K2ZZ7K Predicted Rating: 4.15263\n",
      "\n",
      "User history:\n",
      "          Id   ProductId          UserId      ProfileName  \\\n",
      "17183  17184  B000EH0RU2  A25E8V5JMW43RY  Carol D. Pippin   \n",
      "\n",
      "       HelpfulnessNumerator  HelpfulnessDenominator  Score        Time  \\\n",
      "17183                     0                       0      5  1297900800   \n",
      "\n",
      "         Summary                                               Text  \n",
      "17183  Good rice  This rice has a nice taste and the whole famil...  \n",
      "\n",
      "User: AO6QR8ZYUQJZF\n",
      "Top 5 recommendations:\n",
      "Product ID: B001E4KFG0 Predicted Rating: 4.15263\n",
      "Product ID: B00813GRG4 Predicted Rating: 4.15263\n",
      "Product ID: B000LQOCH0 Predicted Rating: 4.15263\n",
      "Product ID: B000UA0QIQ Predicted Rating: 4.15263\n",
      "Product ID: B006K2ZZ7K Predicted Rating: 4.15263\n",
      "\n",
      "User history:\n",
      "          Id   ProductId         UserId         ProfileName  \\\n",
      "69375  69376  B001LQRCO4  AO6QR8ZYUQJZF  Relentlessly Geeky   \n",
      "\n",
      "       HelpfulnessNumerator  HelpfulnessDenominator  Score        Time  \\\n",
      "69375                     0                       0      4  1241308800   \n",
      "\n",
      "                               Summary  \\\n",
      "69375  Wonderful way to start the day!   \n",
      "\n",
      "                                                    Text  \n",
      "69375  This is one of my favorite pod coffees.  It's ...  \n",
      "\n",
      "User: A110RS7QL8Q1UX\n",
      "Top 5 recommendations:\n",
      "Product ID: B001E4KFG0 Predicted Rating: 4.15263\n",
      "Product ID: B00813GRG4 Predicted Rating: 4.15263\n",
      "Product ID: B000LQOCH0 Predicted Rating: 4.15263\n",
      "Product ID: B000UA0QIQ Predicted Rating: 4.15263\n",
      "Product ID: B006K2ZZ7K Predicted Rating: 4.15263\n",
      "\n",
      "User history:\n",
      "          Id   ProductId          UserId       ProfileName  \\\n",
      "71991  71992  B007K449CE  A110RS7QL8Q1UX  Jonathan Pedrone   \n",
      "\n",
      "       HelpfulnessNumerator  HelpfulnessDenominator  Score        Time  \\\n",
      "71991                     1                       2      5  1337904000   \n",
      "\n",
      "                 Summary                                               Text  \n",
      "71991  Excellent shampoo  I was pleasantly surprised by this shampoo.  I...  \n",
      "\n",
      "User: A2E52FZB9WIECA\n",
      "Top 5 recommendations:\n",
      "Product ID: B001E4KFG0 Predicted Rating: 4.15263\n",
      "Product ID: B00813GRG4 Predicted Rating: 4.15263\n",
      "Product ID: B000LQOCH0 Predicted Rating: 4.15263\n",
      "Product ID: B000UA0QIQ Predicted Rating: 4.15263\n",
      "Product ID: B006K2ZZ7K Predicted Rating: 4.15263\n",
      "\n",
      "User history:\n",
      "          Id   ProductId          UserId ProfileName  HelpfulnessNumerator  \\\n",
      "43997  43998  B0031U9VI8  A2E52FZB9WIECA         Ada                     0   \n",
      "\n",
      "       HelpfulnessDenominator  Score        Time         Summary  \\\n",
      "43997                       2      1  1317945600  Way overpriced   \n",
      "\n",
      "                                                    Text  \n",
      "43997  I too, thought I was getting 4 pouches, and be...  \n",
      "\n",
      "User: A2RXV5YUM8T4MP\n",
      "Top 5 recommendations:\n",
      "Product ID: B001E4KFG0 Predicted Rating: 4.15263\n",
      "Product ID: B00813GRG4 Predicted Rating: 4.15263\n",
      "Product ID: B000LQOCH0 Predicted Rating: 4.15263\n",
      "Product ID: B000UA0QIQ Predicted Rating: 4.15263\n",
      "Product ID: B006K2ZZ7K Predicted Rating: 4.15263\n",
      "\n",
      "User history:\n",
      "          Id   ProductId          UserId                ProfileName  \\\n",
      "60359  60360  B004FELZLK  A2RXV5YUM8T4MP  Natalie \"eternal student\"   \n",
      "\n",
      "       HelpfulnessNumerator  HelpfulnessDenominator  Score        Time  \\\n",
      "60359                     1                       1      5  1332547200   \n",
      "\n",
      "                    Summary                                               Text  \n",
      "60359  My favorite Iced tea  I use four bags to make a gallon of tea, very ...  \n",
      "\n",
      "User: ATEF8LDISJK8E\n",
      "Top 5 recommendations:\n",
      "Product ID: B001E4KFG0 Predicted Rating: 4.15263\n",
      "Product ID: B00813GRG4 Predicted Rating: 4.15263\n",
      "Product ID: B000LQOCH0 Predicted Rating: 4.15263\n",
      "Product ID: B000UA0QIQ Predicted Rating: 4.15263\n",
      "Product ID: B006K2ZZ7K Predicted Rating: 4.15263\n",
      "\n",
      "User history:\n",
      "          Id   ProductId         UserId ProfileName  HelpfulnessNumerator  \\\n",
      "13032  13033  B000261NPI  ATEF8LDISJK8E     luvpugs                     2   \n",
      "\n",
      "       HelpfulnessDenominator  Score        Time  \\\n",
      "13032                       2      5  1163894400   \n",
      "\n",
      "                                      Summary  \\\n",
      "13032  High Quality and all around excellent.   \n",
      "\n",
      "                                                    Text  \n",
      "13032  I have been on a quest to find the most nutrit...  \n",
      "\n",
      "User: AP6T0CI46U93Z\n",
      "Top 5 recommendations:\n",
      "Product ID: B001E4KFG0 Predicted Rating: 4.15263\n",
      "Product ID: B00813GRG4 Predicted Rating: 4.15263\n",
      "Product ID: B000LQOCH0 Predicted Rating: 4.15263\n",
      "Product ID: B000UA0QIQ Predicted Rating: 4.15263\n",
      "Product ID: B006K2ZZ7K Predicted Rating: 4.15263\n",
      "\n",
      "User history:\n",
      "          Id   ProductId         UserId         ProfileName  \\\n",
      "88497  88498  B001PUHFF2  AP6T0CI46U93Z  lala \"crazy gamer\"   \n",
      "\n",
      "       HelpfulnessNumerator  HelpfulnessDenominator  Score        Time  \\\n",
      "88497                     0                       1      5  1308873600   \n",
      "\n",
      "                         Summary  \\\n",
      "88497  Different than I expected   \n",
      "\n",
      "                                                    Text  \n",
      "88497  It took them a few days to fill my order but o...  \n",
      "\n",
      "User: ABQEKKRD6WZFA\n",
      "Top 5 recommendations:\n",
      "Product ID: B001E4KFG0 Predicted Rating: 4.15263\n",
      "Product ID: B00813GRG4 Predicted Rating: 4.15263\n",
      "Product ID: B000LQOCH0 Predicted Rating: 4.15263\n",
      "Product ID: B000UA0QIQ Predicted Rating: 4.15263\n",
      "Product ID: B006K2ZZ7K Predicted Rating: 4.15263\n",
      "\n",
      "User history:\n",
      "          Id   ProductId         UserId ProfileName  HelpfulnessNumerator  \\\n",
      "74079  74080  B004JRKEH4  ABQEKKRD6WZFA    cpt matt                     0   \n",
      "89827  89828  B002LANN56  ABQEKKRD6WZFA    cpt matt                     0   \n",
      "\n",
      "       HelpfulnessDenominator  Score        Time  \\\n",
      "74079                       0      3  1311897600   \n",
      "89827                       0      5  1339718400   \n",
      "\n",
      "                                    Summary  \\\n",
      "74079              Just like the restaurant   \n",
      "89827  Grilled Sirloin - My Dog Loves This!   \n",
      "\n",
      "                                                    Text  \n",
      "74079  My 18 yr old son thinks Taco Bell is ok and sa...  \n",
      "89827  We normally feed our dog beneful, it's what sh...  \n",
      "\n",
      "User: A1P884I6FYMV6S\n",
      "Top 5 recommendations:\n",
      "Product ID: B001E4KFG0 Predicted Rating: 4.15263\n",
      "Product ID: B00813GRG4 Predicted Rating: 4.15263\n",
      "Product ID: B000LQOCH0 Predicted Rating: 4.15263\n",
      "Product ID: B000UA0QIQ Predicted Rating: 4.15263\n",
      "Product ID: B006K2ZZ7K Predicted Rating: 4.15263\n",
      "\n",
      "User history:\n",
      "          Id   ProductId          UserId ProfileName  HelpfulnessNumerator  \\\n",
      "46010  46011  B004I613H6  A1P884I6FYMV6S     ashmoff                     0   \n",
      "\n",
      "       HelpfulnessDenominator  Score        Time                  Summary  \\\n",
      "46010                       0      5  1345420800  Excellent for training!   \n",
      "\n",
      "                                                    Text  \n",
      "46010  These are the best dog treats I have found for...  \n",
      "\n",
      "User: A3NT2GEZ24WC7X\n",
      "Top 5 recommendations:\n",
      "Product ID: B001E4KFG0 Predicted Rating: 4.15263\n",
      "Product ID: B00813GRG4 Predicted Rating: 4.15263\n",
      "Product ID: B000LQOCH0 Predicted Rating: 4.15263\n",
      "Product ID: B000UA0QIQ Predicted Rating: 4.15263\n",
      "Product ID: B006K2ZZ7K Predicted Rating: 4.15263\n",
      "\n",
      "User history:\n",
      "          Id   ProductId          UserId ProfileName  HelpfulnessNumerator  \\\n",
      "80757  80758  B000H27K04  A3NT2GEZ24WC7X   R. Flower                     1   \n",
      "\n",
      "       HelpfulnessDenominator  Score        Time  \\\n",
      "80757                       1      5  1175817600   \n",
      "\n",
      "                                                 Summary  \\\n",
      "80757  This is the sauce I grew up with.. and it's st...   \n",
      "\n",
      "                                                    Text  \n",
      "80757  Unfortunately we can't get this product locall...  \n",
      "\n",
      "User: A9PJISOCHI067\n",
      "Top 5 recommendations:\n",
      "Product ID: B001E4KFG0 Predicted Rating: 4.15263\n",
      "Product ID: B00813GRG4 Predicted Rating: 4.15263\n",
      "Product ID: B000LQOCH0 Predicted Rating: 4.15263\n",
      "Product ID: B000UA0QIQ Predicted Rating: 4.15263\n",
      "Product ID: B006K2ZZ7K Predicted Rating: 4.15263\n",
      "\n",
      "User history:\n",
      "          Id   ProductId         UserId ProfileName  HelpfulnessNumerator  \\\n",
      "25950  25951  B001FA1KXU  A9PJISOCHI067    Carolann                     9   \n",
      "\n",
      "       HelpfulnessDenominator  Score        Time  \\\n",
      "25950                       9      5  1293062400   \n",
      "\n",
      "                                                 Summary  \\\n",
      "25950  Borden None Such CONDENSED Mincemeat impossibl...   \n",
      "\n",
      "                                                    Text  \n",
      "25950  Well, it's finally happened...we couldn't make...  \n",
      "\n",
      "User: A1SJYXJH8A9YHU\n",
      "Top 5 recommendations:\n",
      "Product ID: B001E4KFG0 Predicted Rating: 4.15263\n",
      "Product ID: B00813GRG4 Predicted Rating: 4.15263\n",
      "Product ID: B000LQOCH0 Predicted Rating: 4.15263\n",
      "Product ID: B000UA0QIQ Predicted Rating: 4.15263\n",
      "Product ID: B006K2ZZ7K Predicted Rating: 4.15263\n",
      "\n",
      "User history:\n",
      "          Id   ProductId          UserId ProfileName  HelpfulnessNumerator  \\\n",
      "95013  95014  B0034L4Y0Y  A1SJYXJH8A9YHU  M. Walling                     1   \n",
      "\n",
      "       HelpfulnessDenominator  Score        Time  \\\n",
      "95013                       1      5  1304812800   \n",
      "\n",
      "                            Summary  \\\n",
      "95013  best steak marinade, period.   \n",
      "\n",
      "                                                    Text  \n",
      "95013  Not really much to explain, whatever the speci...  \n",
      "\n",
      "User: A2ZYXG7MNG2FTD\n",
      "Top 5 recommendations:\n",
      "Product ID: B001E4KFG0 Predicted Rating: 4.15263\n",
      "Product ID: B00813GRG4 Predicted Rating: 4.15263\n",
      "Product ID: B000LQOCH0 Predicted Rating: 4.15263\n",
      "Product ID: B000UA0QIQ Predicted Rating: 4.15263\n",
      "Product ID: B006K2ZZ7K Predicted Rating: 4.15263\n",
      "\n",
      "User history:\n",
      "          Id   ProductId          UserId      ProfileName  \\\n",
      "69473  69474  B000EDKDVY  A2ZYXG7MNG2FTD  Yvonne M. Ellis   \n",
      "\n",
      "       HelpfulnessNumerator  HelpfulnessDenominator  Score        Time  \\\n",
      "69473                     0                       0      4  1208131200   \n",
      "\n",
      "                     Summary  \\\n",
      "69473  Excellent food source   \n",
      "\n",
      "                                                    Text  \n",
      "69473  This snack is great and the power of the flavo...  \n",
      "\n",
      "User: A9EOWARBIWW47\n",
      "Top 5 recommendations:\n",
      "Product ID: B001E4KFG0 Predicted Rating: 4.15263\n",
      "Product ID: B00813GRG4 Predicted Rating: 4.15263\n",
      "Product ID: B000LQOCH0 Predicted Rating: 4.15263\n",
      "Product ID: B000UA0QIQ Predicted Rating: 4.15263\n",
      "Product ID: B006K2ZZ7K Predicted Rating: 4.15263\n",
      "\n",
      "User history:\n",
      "          Id   ProductId         UserId                 ProfileName  \\\n",
      "12592  12593  B000GG0BPW  A9EOWARBIWW47  Debra A. Gerdes \"JJohnson\"   \n",
      "\n",
      "       HelpfulnessNumerator  HelpfulnessDenominator  Score        Time  \\\n",
      "12592                     0                       0      3  1269475200   \n",
      "\n",
      "       Summary                                               Text  \n",
      "12592  Vanilla  Not as strong of a taste or smell like other t...  \n",
      "\n",
      "User: A5I7WGK59PA5G\n",
      "Top 5 recommendations:\n",
      "Product ID: B001E4KFG0 Predicted Rating: 4.15263\n",
      "Product ID: B00813GRG4 Predicted Rating: 4.15263\n",
      "Product ID: B000LQOCH0 Predicted Rating: 4.15263\n",
      "Product ID: B000UA0QIQ Predicted Rating: 4.15263\n",
      "Product ID: B006K2ZZ7K Predicted Rating: 4.15263\n",
      "\n",
      "User history:\n",
      "        Id   ProductId         UserId  ProfileName  HelpfulnessNumerator  \\\n",
      "1655  1656  B001RVFDOO  A5I7WGK59PA5G  Greg Bowser                     0   \n",
      "\n",
      "      HelpfulnessDenominator  Score        Time                    Summary  \\\n",
      "1655                       0      5  1298937600  Great price; Great taste;   \n",
      "\n",
      "                                                   Text  \n",
      "1655  Found these while looking for good, cheap, low...  \n",
      "\n",
      "User: A24OUREQZCDM0N\n",
      "Top 5 recommendations:\n",
      "Product ID: B001E4KFG0 Predicted Rating: 4.15263\n",
      "Product ID: B00813GRG4 Predicted Rating: 4.15263\n",
      "Product ID: B000LQOCH0 Predicted Rating: 4.15263\n",
      "Product ID: B000UA0QIQ Predicted Rating: 4.15263\n",
      "Product ID: B006K2ZZ7K Predicted Rating: 4.15263\n",
      "\n",
      "User history:\n",
      "          Id   ProductId          UserId ProfileName  HelpfulnessNumerator  \\\n",
      "12326  12327  B0019SA1MY  A24OUREQZCDM0N  Tamdidelam                     1   \n",
      "\n",
      "       HelpfulnessDenominator  Score        Time            Summary  \\\n",
      "12326                       1      1  1344297600  Not spicy at ALL!   \n",
      "\n",
      "                                                    Text  \n",
      "12326  Either I got 15 tubes that came from a bad bat...  \n",
      "\n",
      "User: A16D5LXXH8RRO9\n",
      "Top 5 recommendations:\n",
      "Product ID: B001E4KFG0 Predicted Rating: 4.15263\n",
      "Product ID: B00813GRG4 Predicted Rating: 4.15263\n",
      "Product ID: B000LQOCH0 Predicted Rating: 4.15263\n",
      "Product ID: B000UA0QIQ Predicted Rating: 4.15263\n",
      "Product ID: B006K2ZZ7K Predicted Rating: 4.15263\n",
      "\n",
      "User history:\n",
      "          Id   ProductId          UserId     ProfileName  \\\n",
      "72505  72506  B003ZXAN4C  A16D5LXXH8RRO9  Brenda Beabout   \n",
      "\n",
      "       HelpfulnessNumerator  HelpfulnessDenominator  Score        Time  \\\n",
      "72505                     1                       1      1  1315267200   \n",
      "\n",
      "                    Summary                                               Text  \n",
      "72505  Chocolate all melted  The freshness wasn't a problem with this order...  \n",
      "\n",
      "User: AL9HJY3YUPGLD\n",
      "Top 5 recommendations:\n",
      "Product ID: B001E4KFG0 Predicted Rating: 4.15263\n",
      "Product ID: B00813GRG4 Predicted Rating: 4.15263\n",
      "Product ID: B000LQOCH0 Predicted Rating: 4.15263\n",
      "Product ID: B000UA0QIQ Predicted Rating: 4.15263\n",
      "Product ID: B006K2ZZ7K Predicted Rating: 4.15263\n",
      "\n",
      "User history:\n",
      "          Id   ProductId         UserId          ProfileName  \\\n",
      "57179  57180  B000E6727Y  AL9HJY3YUPGLD  Robert J. Lafayette   \n",
      "\n",
      "       HelpfulnessNumerator  HelpfulnessDenominator  Score        Time  \\\n",
      "57179                     0                       0      5  1277942400   \n",
      "\n",
      "         Summary                                               Text  \n",
      "57179  Great tea  Love the taste and distinct flavor of Chai, de...  \n",
      "\n",
      "User: A1WMKMEAOWO4CZ\n",
      "Top 5 recommendations:\n",
      "Product ID: B001E4KFG0 Predicted Rating: 4.15263\n",
      "Product ID: B00813GRG4 Predicted Rating: 4.15263\n",
      "Product ID: B000LQOCH0 Predicted Rating: 4.15263\n",
      "Product ID: B000UA0QIQ Predicted Rating: 4.15263\n",
      "Product ID: B006K2ZZ7K Predicted Rating: 4.15263\n",
      "\n",
      "User history:\n",
      "          Id   ProductId          UserId ProfileName  HelpfulnessNumerator  \\\n",
      "12976  12977  B007GFLXVM  A1WMKMEAOWO4CZ   Jeff Jing                     1   \n",
      "\n",
      "       HelpfulnessDenominator  Score        Time  \\\n",
      "12976                       1      5  1335571200   \n",
      "\n",
      "                            Summary  \\\n",
      "12976  Good product, and good deal.   \n",
      "\n",
      "                                                    Text  \n",
      "12976  I like the VIA Colombia instant coffee. It's m...  \n",
      "\n",
      "User: AKZPJVRNT4CR9\n",
      "Top 5 recommendations:\n",
      "Product ID: B001E4KFG0 Predicted Rating: 4.15263\n",
      "Product ID: B00813GRG4 Predicted Rating: 4.15263\n",
      "Product ID: B000LQOCH0 Predicted Rating: 4.15263\n",
      "Product ID: B000UA0QIQ Predicted Rating: 4.15263\n",
      "Product ID: B006K2ZZ7K Predicted Rating: 4.15263\n",
      "\n",
      "User history:\n",
      "          Id   ProductId         UserId     ProfileName  HelpfulnessNumerator  \\\n",
      "24197  24198  B0013NUGDE  AKZPJVRNT4CR9  Reagan's Mommy                    10   \n",
      "31210  31211  B007M83302  AKZPJVRNT4CR9  Reagan's Mommy                    10   \n",
      "\n",
      "       HelpfulnessDenominator  Score        Time  \\\n",
      "24197                      23      1  1277337600   \n",
      "31210                      23      1  1277337600   \n",
      "\n",
      "                                                 Summary  \\\n",
      "24197  Yeast Extract = MSG, They DO Contain Preservat...   \n",
      "31210  Yeast Extract = MSG, They DO Contain Preservat...   \n",
      "\n",
      "                                                    Text  \n",
      "24197  Just an FYI that \"Yeast Extract\" is one of the...  \n",
      "31210  Just an FYI that \"Yeast Extract\" is one of the...  \n",
      "\n",
      "User: A3D1WWGRM8V28L\n",
      "Top 5 recommendations:\n",
      "Product ID: B001E4KFG0 Predicted Rating: 4.15263\n",
      "Product ID: B00813GRG4 Predicted Rating: 4.15263\n",
      "Product ID: B000LQOCH0 Predicted Rating: 4.15263\n",
      "Product ID: B000UA0QIQ Predicted Rating: 4.15263\n",
      "Product ID: B006K2ZZ7K Predicted Rating: 4.15263\n",
      "\n",
      "User history:\n",
      "        Id   ProductId          UserId ProfileName  HelpfulnessNumerator  \\\n",
      "5940  5941  B001O2IX8E  A3D1WWGRM8V28L  Annie W.H.                     0   \n",
      "\n",
      "      HelpfulnessDenominator  Score        Time Summary  \\\n",
      "5940                       0      1  1339977600   Nasty   \n",
      "\n",
      "                                                   Text  \n",
      "5940  My daughter thinks this tastes nasty, and I ag...  \n",
      "\n",
      "User: A2YDL5H5GLKVO6\n",
      "Top 5 recommendations:\n",
      "Product ID: B001E4KFG0 Predicted Rating: 4.15263\n",
      "Product ID: B00813GRG4 Predicted Rating: 4.15263\n",
      "Product ID: B000LQOCH0 Predicted Rating: 4.15263\n",
      "Product ID: B000UA0QIQ Predicted Rating: 4.15263\n",
      "Product ID: B006K2ZZ7K Predicted Rating: 4.15263\n",
      "\n",
      "User history:\n",
      "          Id   ProductId          UserId        ProfileName  \\\n",
      "47029  47030  B001E5E3B2  A2YDL5H5GLKVO6  Ellen Finkelpearl   \n",
      "\n",
      "       HelpfulnessNumerator  HelpfulnessDenominator  Score        Time  \\\n",
      "47029                     6                       7      5  1169078400   \n",
      "\n",
      "                     Summary  \\\n",
      "47029  Skinner's is the best   \n",
      "\n",
      "                                                    Text  \n",
      "47029  I think maybe there's a Skinner's Raisin Bran ...  \n",
      "\n",
      "User: A2UVWWWAB0QK4V\n",
      "Top 5 recommendations:\n",
      "Product ID: B001E4KFG0 Predicted Rating: 4.15263\n",
      "Product ID: B00813GRG4 Predicted Rating: 4.15263\n",
      "Product ID: B000LQOCH0 Predicted Rating: 4.15263\n",
      "Product ID: B000UA0QIQ Predicted Rating: 4.15263\n",
      "Product ID: B006K2ZZ7K Predicted Rating: 4.15263\n",
      "\n",
      "User history:\n",
      "          Id   ProductId          UserId     ProfileName  \\\n",
      "14390  14391  B001CWV4PA  A2UVWWWAB0QK4V  Alice McCarley   \n",
      "\n",
      "       HelpfulnessNumerator  HelpfulnessDenominator  Score        Time  \\\n",
      "14390                     1                       2      4  1282608000   \n",
      "\n",
      "                 Summary                                               Text  \n",
      "14390  \"I Like it - But\"  The crackers are very good and we were delight...  \n",
      "\n",
      "User: A2BNRUNT2X918E\n",
      "Top 5 recommendations:\n",
      "Product ID: B001E4KFG0 Predicted Rating: 4.15263\n",
      "Product ID: B00813GRG4 Predicted Rating: 4.15263\n",
      "Product ID: B000LQOCH0 Predicted Rating: 4.15263\n",
      "Product ID: B000UA0QIQ Predicted Rating: 4.15263\n",
      "Product ID: B006K2ZZ7K Predicted Rating: 4.15263\n",
      "\n",
      "User history:\n",
      "          Id   ProductId          UserId           ProfileName  \\\n",
      "13560  13561  B000VMI8W4  A2BNRUNT2X918E  Kevin & Linda \"K.S.\"   \n",
      "\n",
      "       HelpfulnessNumerator  HelpfulnessDenominator  Score        Time  \\\n",
      "13560                     0                       0      3  1336608000   \n",
      "\n",
      "                              Summary  \\\n",
      "13560  works if your dog chews slowly   \n",
      "\n",
      "                                                    Text  \n",
      "13560  I had originally bought these in medium for my...  \n",
      "\n",
      "User: ARG6GL04T8QZQ\n",
      "Top 5 recommendations:\n",
      "Product ID: B001E4KFG0 Predicted Rating: 4.15263\n",
      "Product ID: B00813GRG4 Predicted Rating: 4.15263\n",
      "Product ID: B000LQOCH0 Predicted Rating: 4.15263\n",
      "Product ID: B000UA0QIQ Predicted Rating: 4.15263\n",
      "Product ID: B006K2ZZ7K Predicted Rating: 4.15263\n",
      "\n",
      "User history:\n",
      "          Id   ProductId         UserId ProfileName  HelpfulnessNumerator  \\\n",
      "41669  41670  B001YXXKTK  ARG6GL04T8QZQ        enna                     2   \n",
      "\n",
      "       HelpfulnessDenominator  Score        Time  \\\n",
      "41669                       3      5  1295481600   \n",
      "\n",
      "                                          Summary  \\\n",
      "41669  Best Chai Ever- Way Better Than Starbucks!   \n",
      "\n",
      "                                                    Text  \n",
      "41669  Mystic Chai Latte is the best chai you'll ever...  \n",
      "\n",
      "User: A278YHYE17ZIMJ\n",
      "Top 5 recommendations:\n",
      "Product ID: B001E4KFG0 Predicted Rating: 4.15263\n",
      "Product ID: B00813GRG4 Predicted Rating: 4.15263\n",
      "Product ID: B000LQOCH0 Predicted Rating: 4.15263\n",
      "Product ID: B000UA0QIQ Predicted Rating: 4.15263\n",
      "Product ID: B006K2ZZ7K Predicted Rating: 4.15263\n",
      "\n",
      "User history:\n",
      "          Id   ProductId          UserId                      ProfileName  \\\n",
      "12938  12939  B001SAQDYS  A278YHYE17ZIMJ  Alice Kauzlarich \"ilflatlander\"   \n",
      "\n",
      "       HelpfulnessNumerator  HelpfulnessDenominator  Score        Time  \\\n",
      "12938                     0                       0      5  1335139200   \n",
      "\n",
      "            Summary                                               Text  \n",
      "12938  Great sauce!  I have used Pastorelli Pizza Sauce for many, m...  \n",
      "\n",
      "User: A22X71KUJGUJ0C\n",
      "Top 5 recommendations:\n",
      "Product ID: B001E4KFG0 Predicted Rating: 4.15263\n",
      "Product ID: B00813GRG4 Predicted Rating: 4.15263\n",
      "Product ID: B000LQOCH0 Predicted Rating: 4.15263\n",
      "Product ID: B000UA0QIQ Predicted Rating: 4.15263\n",
      "Product ID: B006K2ZZ7K Predicted Rating: 4.15263\n",
      "\n",
      "User history:\n",
      "          Id   ProductId          UserId    ProfileName  HelpfulnessNumerator  \\\n",
      "51671  51672  B0002PHEU2  A22X71KUJGUJ0C  S. Dahanayake                     9   \n",
      "\n",
      "       HelpfulnessDenominator  Score        Time                     Summary  \\\n",
      "51671                      13      1  1318550400  This is not the real thing   \n",
      "\n",
      "                                                    Text  \n",
      "51671  First of all this stuff is Cinnamon Leaf Oil a...  \n",
      "\n",
      "User: A52D7G2GFP0D1\n",
      "Top 5 recommendations:\n",
      "Product ID: B001E4KFG0 Predicted Rating: 4.15263\n",
      "Product ID: B00813GRG4 Predicted Rating: 4.15263\n",
      "Product ID: B000LQOCH0 Predicted Rating: 4.15263\n",
      "Product ID: B000UA0QIQ Predicted Rating: 4.15263\n",
      "Product ID: B006K2ZZ7K Predicted Rating: 4.15263\n",
      "\n",
      "User history:\n",
      "          Id   ProductId         UserId ProfileName  HelpfulnessNumerator  \\\n",
      "23534  23535  B000HDOOL6  A52D7G2GFP0D1   J. DEGEUS                     1   \n",
      "\n",
      "       HelpfulnessDenominator  Score        Time     Summary  \\\n",
      "23534                       1      5  1264896000  Love this!   \n",
      "\n",
      "                                                    Text  \n",
      "23534  I ordered this and the Big Train Sugarfree Van...  \n",
      "\n",
      "User: A1JZE0P75SWGD9\n",
      "Top 5 recommendations:\n",
      "Product ID: B001E4KFG0 Predicted Rating: 4.15263\n",
      "Product ID: B00813GRG4 Predicted Rating: 4.15263\n",
      "Product ID: B000LQOCH0 Predicted Rating: 4.15263\n",
      "Product ID: B000UA0QIQ Predicted Rating: 4.15263\n",
      "Product ID: B006K2ZZ7K Predicted Rating: 4.15263\n",
      "\n",
      "User history:\n",
      "          Id   ProductId          UserId     ProfileName  \\\n",
      "60652  60653  B003QNJYXM  A1JZE0P75SWGD9  David P. Johns   \n",
      "\n",
      "       HelpfulnessNumerator  HelpfulnessDenominator  Score        Time  \\\n",
      "60652                     1                       2      5  1234656000   \n",
      "\n",
      "                       Summary  \\\n",
      "60652  Tremendous Energy Boost   \n",
      "\n",
      "                                                    Text  \n",
      "60652  Great energy boost from amino acids, vitamin b...  \n",
      "\n",
      "User: AWU1TUJEEJ1U3\n",
      "Top 5 recommendations:\n",
      "Product ID: B001E4KFG0 Predicted Rating: 4.15263\n",
      "Product ID: B00813GRG4 Predicted Rating: 4.15263\n",
      "Product ID: B000LQOCH0 Predicted Rating: 4.15263\n",
      "Product ID: B000UA0QIQ Predicted Rating: 4.15263\n",
      "Product ID: B006K2ZZ7K Predicted Rating: 4.15263\n",
      "\n",
      "User history:\n",
      "          Id   ProductId         UserId   ProfileName  HelpfulnessNumerator  \\\n",
      "99861  99862  B003Y19D82  AWU1TUJEEJ1U3  Silent14life                     0   \n",
      "\n",
      "       HelpfulnessDenominator  Score        Time Summary  \\\n",
      "99861                       0      1  1323216000   Stale   \n",
      "\n",
      "                                                    Text  \n",
      "99861  Wasnt happy with this purchase. Coffee was com...  \n",
      "\n",
      "User: A2CZHIHFBIAW9U\n",
      "Top 5 recommendations:\n",
      "Product ID: B001E4KFG0 Predicted Rating: 4.15263\n",
      "Product ID: B00813GRG4 Predicted Rating: 4.15263\n",
      "Product ID: B000LQOCH0 Predicted Rating: 4.15263\n",
      "Product ID: B000UA0QIQ Predicted Rating: 4.15263\n",
      "Product ID: B006K2ZZ7K Predicted Rating: 4.15263\n",
      "\n",
      "User history:\n",
      "          Id   ProductId          UserId ProfileName  HelpfulnessNumerator  \\\n",
      "19387  19388  B002GP405S  A2CZHIHFBIAW9U    Brit1969                     5   \n",
      "\n",
      "       HelpfulnessDenominator  Score        Time            Summary  \\\n",
      "19387                       6      5  1297209600  Garlic Naan Bread   \n",
      "\n",
      "                                                    Text  \n",
      "19387  Hi, I am from the UK and we are used to all th...  \n",
      "\n",
      "User: AJFWXWW6SZ8IT\n",
      "Top 5 recommendations:\n",
      "Product ID: B001E4KFG0 Predicted Rating: 4.15263\n",
      "Product ID: B00813GRG4 Predicted Rating: 4.15263\n",
      "Product ID: B000LQOCH0 Predicted Rating: 4.15263\n",
      "Product ID: B000UA0QIQ Predicted Rating: 4.15263\n",
      "Product ID: B006K2ZZ7K Predicted Rating: 4.15263\n",
      "\n",
      "User history:\n",
      "          Id   ProductId         UserId ProfileName  HelpfulnessNumerator  \\\n",
      "54651  54652  B00248CB30  AJFWXWW6SZ8IT   Therapist                     3   \n",
      "60758  60759  B003QNJYXM  AJFWXWW6SZ8IT   Therapist                     4   \n",
      "\n",
      "       HelpfulnessDenominator  Score        Time  \\\n",
      "54651                       3      5  1255737600   \n",
      "60758                       5      5  1205712000   \n",
      "\n",
      "                                                 Summary  \\\n",
      "54651                 Good Quality, easy to travel with.   \n",
      "60758  You don't have to drink the entire 2 oz at one...   \n",
      "\n",
      "                                                    Text  \n",
      "54651  I drink teas everyday. This product made it ea...  \n",
      "60758  I drink this one third at a time. It works gre...  \n",
      "\n",
      "User: ADOIQICFHWRCK\n",
      "Top 5 recommendations:\n",
      "Product ID: B001E4KFG0 Predicted Rating: 4.15263\n",
      "Product ID: B00813GRG4 Predicted Rating: 4.15263\n",
      "Product ID: B000LQOCH0 Predicted Rating: 4.15263\n",
      "Product ID: B000UA0QIQ Predicted Rating: 4.15263\n",
      "Product ID: B006K2ZZ7K Predicted Rating: 4.15263\n",
      "\n",
      "User history:\n",
      "          Id   ProductId         UserId     ProfileName  HelpfulnessNumerator  \\\n",
      "60187  60188  B001IW1W06  ADOIQICFHWRCK  Mark D. Thomas                     1   \n",
      "\n",
      "       HelpfulnessDenominator  Score        Time         Summary  \\\n",
      "60187                       2      2  1319414400  Not Good......   \n",
      "\n",
      "                                                    Text  \n",
      "60187  I love Diet Vernors and have been drinking it ...  \n",
      "\n",
      "User: A2OZ2TSGVBBFLW\n",
      "Top 5 recommendations:\n",
      "Product ID: B001E4KFG0 Predicted Rating: 4.15263\n",
      "Product ID: B00813GRG4 Predicted Rating: 4.15263\n",
      "Product ID: B000LQOCH0 Predicted Rating: 4.15263\n",
      "Product ID: B000UA0QIQ Predicted Rating: 4.15263\n",
      "Product ID: B006K2ZZ7K Predicted Rating: 4.15263\n",
      "\n",
      "User history:\n",
      "        Id   ProductId          UserId                ProfileName  \\\n",
      "9923  9924  B001CGTN1I  A2OZ2TSGVBBFLW  Malcoln_Rodgers \"scrolls\"   \n",
      "\n",
      "      HelpfulnessNumerator  HelpfulnessDenominator  Score        Time  \\\n",
      "9923                     3                       3      5  1312070400   \n",
      "\n",
      "                        Summary  \\\n",
      "9923  love it, don't ask me why   \n",
      "\n",
      "                                                   Text  \n",
      "9923  i've heard a bunch of great things about chia ...  \n",
      "\n",
      "User: A146ME6317JTJH\n",
      "Top 5 recommendations:\n",
      "Product ID: B001E4KFG0 Predicted Rating: 4.15263\n",
      "Product ID: B00813GRG4 Predicted Rating: 4.15263\n",
      "Product ID: B000LQOCH0 Predicted Rating: 4.15263\n",
      "Product ID: B000UA0QIQ Predicted Rating: 4.15263\n",
      "Product ID: B006K2ZZ7K Predicted Rating: 4.15263\n",
      "\n",
      "User history:\n",
      "          Id   ProductId          UserId ProfileName  HelpfulnessNumerator  \\\n",
      "93854  93855  B003X0NXJO  A146ME6317JTJH       nancy                     3   \n",
      "\n",
      "       HelpfulnessDenominator  Score        Time               Summary  \\\n",
      "93854                       3      5  1313712000  Fan of PLAIN Puffins   \n",
      "\n",
      "                                                    Text  \n",
      "93854  I will order Puffins because I have tried it a...  \n",
      "\n",
      "User: AANUQPG0OKZCH\n",
      "Top 5 recommendations:\n",
      "Product ID: B001E4KFG0 Predicted Rating: 4.15263\n",
      "Product ID: B00813GRG4 Predicted Rating: 4.15263\n",
      "Product ID: B000LQOCH0 Predicted Rating: 4.15263\n",
      "Product ID: B000UA0QIQ Predicted Rating: 4.15263\n",
      "Product ID: B006K2ZZ7K Predicted Rating: 4.15263\n",
      "\n",
      "User history:\n",
      "          Id   ProductId         UserId ProfileName  HelpfulnessNumerator  \\\n",
      "83472  83473  B005ZBZLT4  AANUQPG0OKZCH    T. Maxey                     0   \n",
      "\n",
      "       HelpfulnessDenominator  Score        Time  \\\n",
      "83472                       0      5  1345161600   \n",
      "\n",
      "                                                 Summary  \\\n",
      "83472  Good Coffee and great price plus better for en...   \n",
      "\n",
      "                                                    Text  \n",
      "83472  Tastes great and cheaper.. Looks a little diff...  \n",
      "\n",
      "User: A2BWVHB69YFI3U\n",
      "Top 5 recommendations:\n",
      "Product ID: B001E4KFG0 Predicted Rating: 4.15263\n",
      "Product ID: B00813GRG4 Predicted Rating: 4.15263\n",
      "Product ID: B000LQOCH0 Predicted Rating: 4.15263\n",
      "Product ID: B000UA0QIQ Predicted Rating: 4.15263\n",
      "Product ID: B006K2ZZ7K Predicted Rating: 4.15263\n",
      "\n",
      "User history:\n",
      "          Id   ProductId          UserId ProfileName  HelpfulnessNumerator  \\\n",
      "70002  70003  B001B185I6  A2BWVHB69YFI3U       Chloe                     0   \n",
      "\n",
      "       HelpfulnessDenominator  Score        Time       Summary  \\\n",
      "70002                       0      5  1343001600  Dr. Harvey's   \n",
      "\n",
      "                                                    Text  \n",
      "70002  There is no better dog food on the market!  I ...  \n",
      "\n",
      "User: A1B977KWGHEZ8V\n",
      "Top 5 recommendations:\n",
      "Product ID: B001E4KFG0 Predicted Rating: 4.15263\n",
      "Product ID: B00813GRG4 Predicted Rating: 4.15263\n",
      "Product ID: B000LQOCH0 Predicted Rating: 4.15263\n",
      "Product ID: B000UA0QIQ Predicted Rating: 4.15263\n",
      "Product ID: B006K2ZZ7K Predicted Rating: 4.15263\n",
      "\n",
      "User history:\n",
      "          Id   ProductId          UserId  \\\n",
      "13597  13598  B001E5E33A  A1B977KWGHEZ8V   \n",
      "96775  96776  B001ELL4F4  A1B977KWGHEZ8V   \n",
      "\n",
      "                                 ProfileName  HelpfulnessNumerator  \\\n",
      "13597  David R. Richardson \"David..........\"                     3   \n",
      "96775  David R. Richardson \"David..........\"                     0   \n",
      "\n",
      "       HelpfulnessDenominator  Score        Time      Summary  \\\n",
      "13597                       3      5  1235174400    Excellent   \n",
      "96775                       0      5  1318291200  Very smooth   \n",
      "\n",
      "                                                    Text  \n",
      "13597  We have been waiting for Earl Grey Decaf and n...  \n",
      "96775  This was a very nice addition to my coffees.  ...  \n",
      "\n",
      "User: AAPB6MD6IA25W\n",
      "Top 5 recommendations:\n",
      "Product ID: B001E4KFG0 Predicted Rating: 4.15263\n",
      "Product ID: B00813GRG4 Predicted Rating: 4.15263\n",
      "Product ID: B000LQOCH0 Predicted Rating: 4.15263\n",
      "Product ID: B000UA0QIQ Predicted Rating: 4.15263\n",
      "Product ID: B006K2ZZ7K Predicted Rating: 4.15263\n",
      "\n",
      "User history:\n",
      "          Id   ProductId         UserId ProfileName  HelpfulnessNumerator  \\\n",
      "42756  42757  B000S2K1XQ  AAPB6MD6IA25W      ToniVe                     0   \n",
      "43315  43316  B000S2K1X6  AAPB6MD6IA25W      ToniVe                     0   \n",
      "\n",
      "       HelpfulnessDenominator  Score        Time  \\\n",
      "42756                       1      1  1313884800   \n",
      "43315                       0      1  1313884800   \n",
      "\n",
      "                                                 Summary  \\\n",
      "42756  Worst Product ever Amazon should not allow thi...   \n",
      "43315                                WORTHLESS - NO GOOD   \n",
      "\n",
      "                                                    Text  \n",
      "42756  WORTHLESS - NO GOOD \"Enerjets Wake Up Energy B...  \n",
      "43315  THis product is a cheap candy ($3) three dolla...  \n",
      "\n",
      "User: A30IFFL9Q5094D\n",
      "Top 5 recommendations:\n",
      "Product ID: B001E4KFG0 Predicted Rating: 4.15263\n",
      "Product ID: B00813GRG4 Predicted Rating: 4.15263\n",
      "Product ID: B000LQOCH0 Predicted Rating: 4.15263\n",
      "Product ID: B000UA0QIQ Predicted Rating: 4.15263\n",
      "Product ID: B006K2ZZ7K Predicted Rating: 4.15263\n",
      "\n",
      "User history:\n",
      "        Id   ProductId          UserId ProfileName  HelpfulnessNumerator  \\\n",
      "8819  8820  B00060PTLO  A30IFFL9Q5094D    J. Marck                     2   \n",
      "\n",
      "      HelpfulnessDenominator  Score        Time                       Summary  \\\n",
      "8819                       2      1  1340236800  Twice the Price as in Stores   \n",
      "\n",
      "                                                   Text  \n",
      "8819  This is a good product, especially for iced co...  \n",
      "\n",
      "User: A23TGI02RB7JC\n",
      "Top 5 recommendations:\n",
      "Product ID: B001E4KFG0 Predicted Rating: 4.15263\n",
      "Product ID: B00813GRG4 Predicted Rating: 4.15263\n",
      "Product ID: B000LQOCH0 Predicted Rating: 4.15263\n",
      "Product ID: B000UA0QIQ Predicted Rating: 4.15263\n",
      "Product ID: B006K2ZZ7K Predicted Rating: 4.15263\n",
      "\n",
      "User history:\n",
      "          Id   ProductId         UserId                 ProfileName  \\\n",
      "77053  77054  B001OCKIP0  A23TGI02RB7JC  Marilyn J. Adams \"Marilyn\"   \n",
      "\n",
      "       HelpfulnessNumerator  HelpfulnessDenominator  Score        Time  \\\n",
      "77053                     1                       3      1  1244851200   \n",
      "\n",
      "                          Summary  \\\n",
      "77053  Could not have been worse!   \n",
      "\n",
      "                                                    Text  \n",
      "77053  I requested this item from the Amazon Vine pro...  \n",
      "\n",
      "User: A3L88AH6MABEDL\n",
      "Top 5 recommendations:\n",
      "Product ID: B001E4KFG0 Predicted Rating: 4.15263\n",
      "Product ID: B00813GRG4 Predicted Rating: 4.15263\n",
      "Product ID: B000LQOCH0 Predicted Rating: 4.15263\n",
      "Product ID: B000UA0QIQ Predicted Rating: 4.15263\n",
      "Product ID: B006K2ZZ7K Predicted Rating: 4.15263\n",
      "\n",
      "User history:\n",
      "          Id   ProductId          UserId     ProfileName  \\\n",
      "11048  11049  B0000VYKXC  A3L88AH6MABEDL  Javier Denison   \n",
      "56480  56481  B0000VYKZA  A3L88AH6MABEDL  Javier Denison   \n",
      "\n",
      "       HelpfulnessNumerator  HelpfulnessDenominator  Score        Time  \\\n",
      "11048                     0                       0      5  1081209600   \n",
      "56480                     0                       0      5  1081209600   \n",
      "\n",
      "                                                 Summary  \\\n",
      "11048  Best coffee I've tasted. I try others but alwa...   \n",
      "56480  Best coffee I've tasted. I try others but alwa...   \n",
      "\n",
      "                                                    Text  \n",
      "11048  If you like a strong but smooth flavorful coff...  \n",
      "56480  If you like a strong but smooth flavorful coff...  \n",
      "\n",
      "User: A2T7PDYDNRNBXQ\n",
      "Top 5 recommendations:\n",
      "Product ID: B001E4KFG0 Predicted Rating: 4.15263\n",
      "Product ID: B00813GRG4 Predicted Rating: 4.15263\n",
      "Product ID: B000LQOCH0 Predicted Rating: 4.15263\n",
      "Product ID: B000UA0QIQ Predicted Rating: 4.15263\n",
      "Product ID: B006K2ZZ7K Predicted Rating: 4.15263\n",
      "\n",
      "User history:\n",
      "          Id   ProductId          UserId ProfileName  HelpfulnessNumerator  \\\n",
      "67963  67964  B001HTC17S  A2T7PDYDNRNBXQ     D. Sadd                     1   \n",
      "\n",
      "       HelpfulnessDenominator  Score        Time  \\\n",
      "67963                       1      5  1281225600   \n",
      "\n",
      "                                 Summary  \\\n",
      "67963  Best Gluten Free Noodles. Period.   \n",
      "\n",
      "                                                    Text  \n",
      "67963  We have spent 9 years cooking gluten free. We ...  \n",
      "\n",
      "User: A3OYNX4MJ8M9LZ\n",
      "Top 5 recommendations:\n",
      "Product ID: B001E4KFG0 Predicted Rating: 4.15263\n",
      "Product ID: B00813GRG4 Predicted Rating: 4.15263\n",
      "Product ID: B000LQOCH0 Predicted Rating: 4.15263\n",
      "Product ID: B000UA0QIQ Predicted Rating: 4.15263\n",
      "Product ID: B006K2ZZ7K Predicted Rating: 4.15263\n",
      "\n",
      "User history:\n",
      "          Id   ProductId          UserId            ProfileName  \\\n",
      "30105  30106  B000DZFMEQ  A3OYNX4MJ8M9LZ  Winnie \"travelinyaya\"   \n",
      "\n",
      "       HelpfulnessNumerator  HelpfulnessDenominator  Score        Time  \\\n",
      "30105                     0                       0      5  1239148800   \n",
      "\n",
      "                      Summary  \\\n",
      "30105  Best GF Mix I've Tried   \n",
      "\n",
      "                                                    Text  \n",
      "30105  I've been making Pamela's Gluten-Free Bread Mi...  \n",
      "\n",
      "User: A329WJEOBESSZ\n",
      "Top 5 recommendations:\n",
      "Product ID: B001E4KFG0 Predicted Rating: 4.15263\n",
      "Product ID: B00813GRG4 Predicted Rating: 4.15263\n",
      "Product ID: B000LQOCH0 Predicted Rating: 4.15263\n",
      "Product ID: B000UA0QIQ Predicted Rating: 4.15263\n",
      "Product ID: B006K2ZZ7K Predicted Rating: 4.15263\n",
      "\n",
      "User history:\n",
      "          Id   ProductId         UserId ProfileName  HelpfulnessNumerator  \\\n",
      "97941  97942  B001RJ9266  A329WJEOBESSZ     Mindray                     2   \n",
      "\n",
      "       HelpfulnessDenominator  Score        Time  \\\n",
      "97941                       3      5  1308700800   \n",
      "\n",
      "                                    Summary  \\\n",
      "97941  Great Trail Mix...Even Greater Price   \n",
      "\n",
      "                                                    Text  \n",
      "97941  Decided to buy this trail mix to take to the o...  \n",
      "\n",
      "User: A1N589SRLARG2P\n",
      "Top 5 recommendations:\n",
      "Product ID: B001E4KFG0 Predicted Rating: 4.15263\n",
      "Product ID: B00813GRG4 Predicted Rating: 4.15263\n",
      "Product ID: B000LQOCH0 Predicted Rating: 4.15263\n",
      "Product ID: B000UA0QIQ Predicted Rating: 4.15263\n",
      "Product ID: B006K2ZZ7K Predicted Rating: 4.15263\n",
      "\n",
      "User history:\n",
      "          Id   ProductId          UserId ProfileName  HelpfulnessNumerator  \\\n",
      "28290  28291  B000RFS57I  A1N589SRLARG2P    Woodsman                     2   \n",
      "\n",
      "       HelpfulnessDenominator  Score        Time                Summary  \\\n",
      "28290                       2      5  1302652800  Jack Link beef sticks   \n",
      "\n",
      "                                                    Text  \n",
      "28290  After consuming 72 sticks and starting on my n...  \n",
      "\n",
      "User: A26EEX6LF8CQUF\n",
      "Top 5 recommendations:\n",
      "Product ID: B001E4KFG0 Predicted Rating: 4.15263\n",
      "Product ID: B00813GRG4 Predicted Rating: 4.15263\n",
      "Product ID: B000LQOCH0 Predicted Rating: 4.15263\n",
      "Product ID: B000UA0QIQ Predicted Rating: 4.15263\n",
      "Product ID: B006K2ZZ7K Predicted Rating: 4.15263\n",
      "\n",
      "User history:\n",
      "          Id   ProductId          UserId ProfileName  HelpfulnessNumerator  \\\n",
      "68474  68475  B005G8A82G  A26EEX6LF8CQUF    S. Grigg                     3   \n",
      "\n",
      "       HelpfulnessDenominator  Score        Time Summary  \\\n",
      "68474                       3      5  1315440000    Yum!   \n",
      "\n",
      "                                                    Text  \n",
      "68474  These are pretty good!.  They remind me of Chi...  \n",
      "\n",
      "User: A2GRD2QRTIHLO5\n",
      "Top 5 recommendations:\n",
      "Product ID: B001E4KFG0 Predicted Rating: 4.15263\n",
      "Product ID: B00813GRG4 Predicted Rating: 4.15263\n",
      "Product ID: B000LQOCH0 Predicted Rating: 4.15263\n",
      "Product ID: B000UA0QIQ Predicted Rating: 4.15263\n",
      "Product ID: B006K2ZZ7K Predicted Rating: 4.15263\n",
      "\n",
      "User history:\n",
      "          Id   ProductId          UserId   ProfileName  HelpfulnessNumerator  \\\n",
      "23760  23761  B0013NUGDE  A2GRD2QRTIHLO5  jackiemasumi                     0   \n",
      "30773  30774  B007M83302  A2GRD2QRTIHLO5  jackiemasumi                     0   \n",
      "\n",
      "       HelpfulnessDenominator  Score        Time            Summary  \\\n",
      "23760                       0      5  1349222400  Love, Love, LOVE!   \n",
      "30773                       0      5  1349222400  Love, Love, LOVE!   \n",
      "\n",
      "                                                    Text  \n",
      "23760  So far my absolute favorite chips.  I get my \"...  \n",
      "30773  So far my absolute favorite chips.  I get my \"...  \n",
      "\n",
      "User: A2WPWBM78IC94X\n",
      "Top 5 recommendations:\n",
      "Product ID: B001E4KFG0 Predicted Rating: 4.15263\n",
      "Product ID: B00813GRG4 Predicted Rating: 4.15263\n",
      "Product ID: B000LQOCH0 Predicted Rating: 4.15263\n",
      "Product ID: B000UA0QIQ Predicted Rating: 4.15263\n",
      "Product ID: B006K2ZZ7K Predicted Rating: 4.15263\n",
      "\n",
      "User history:\n",
      "          Id   ProductId          UserId ProfileName  HelpfulnessNumerator  \\\n",
      "42379  42380  B000F0FX52  A2WPWBM78IC94X    rsnewton                     0   \n",
      "58163  58164  B000KGIKOW  A2WPWBM78IC94X    rsnewton                     1   \n",
      "\n",
      "       HelpfulnessDenominator  Score        Time  \\\n",
      "42379                       0      3  1346371200   \n",
      "58163                       1      4  1346371200   \n",
      "\n",
      "                                            Summary  \\\n",
      "42379  Sprout Master wobbles across the finish line   \n",
      "58163                 Good product, not for newbies   \n",
      "\n",
      "                                                    Text  \n",
      "42379  The Sprout Master standard/larger trays in eit...  \n",
      "58163  The seeds contained in this mix seem to be spr...  \n",
      "\n",
      "User: A1YII1QL6F73VV\n",
      "Top 5 recommendations:\n",
      "Product ID: B001E4KFG0 Predicted Rating: 4.15263\n",
      "Product ID: B00813GRG4 Predicted Rating: 4.15263\n",
      "Product ID: B000LQOCH0 Predicted Rating: 4.15263\n",
      "Product ID: B000UA0QIQ Predicted Rating: 4.15263\n",
      "Product ID: B006K2ZZ7K Predicted Rating: 4.15263\n",
      "\n",
      "User history:\n",
      "          Id   ProductId          UserId  ProfileName  HelpfulnessNumerator  \\\n",
      "30152  30153  B000DZFMEQ  A1YII1QL6F73VV  Wesley Parr                     0   \n",
      "\n",
      "       HelpfulnessDenominator  Score        Time      Summary  \\\n",
      "30152                       0      5  1212105600  great bread   \n",
      "\n",
      "                                                    Text  \n",
      "30152  This bread is delicious and very easy to fix w...  \n",
      "\n",
      "User: A3ACVJEAM4L2LQ\n",
      "Top 5 recommendations:\n",
      "Product ID: B001E4KFG0 Predicted Rating: 4.15263\n",
      "Product ID: B00813GRG4 Predicted Rating: 4.15263\n",
      "Product ID: B000LQOCH0 Predicted Rating: 4.15263\n",
      "Product ID: B000UA0QIQ Predicted Rating: 4.15263\n",
      "Product ID: B006K2ZZ7K Predicted Rating: 4.15263\n",
      "\n",
      "User history:\n",
      "          Id   ProductId          UserId ProfileName  HelpfulnessNumerator  \\\n",
      "21784  21785  B000KV61FC  A3ACVJEAM4L2LQ         Elb                     1   \n",
      "66131  66132  B0007A0AQW  A3ACVJEAM4L2LQ         Elb                     1   \n",
      "\n",
      "       HelpfulnessDenominator  Score        Time  \\\n",
      "21784                       1      4  1319155200   \n",
      "66131                       2      5  1319155200   \n",
      "\n",
      "                                                 Summary  \\\n",
      "21784             Keeps my big Dog busy for a long time!   \n",
      "66131  Great for training and dogs who just love gett...   \n",
      "\n",
      "                                                    Text  \n",
      "21784  My Doberman/pointer mix has a lot of extra ene...  \n",
      "66131  I originally bought a 6 ounce bag of these tre...  \n",
      "\n",
      "User: APHXWZJ22M17M\n",
      "Top 5 recommendations:\n",
      "Product ID: B001E4KFG0 Predicted Rating: 4.15263\n",
      "Product ID: B00813GRG4 Predicted Rating: 4.15263\n",
      "Product ID: B000LQOCH0 Predicted Rating: 4.15263\n",
      "Product ID: B000UA0QIQ Predicted Rating: 4.15263\n",
      "Product ID: B006K2ZZ7K Predicted Rating: 4.15263\n",
      "\n",
      "User history:\n",
      "          Id   ProductId         UserId  ProfileName  HelpfulnessNumerator  \\\n",
      "23421  23422  B004R8J8E0  APHXWZJ22M17M  T. Stratton                     0   \n",
      "88481  88482  B001D0KG4Q  APHXWZJ22M17M  T. Stratton                     0   \n",
      "\n",
      "       HelpfulnessDenominator  Score        Time                Summary  \\\n",
      "23421                       1      5  1320278400  Excellent cooking aid   \n",
      "88481                       0      5  1226361600       Very good coffee   \n",
      "\n",
      "                                                    Text  \n",
      "23421  This product is great cooking pork chops.....b...  \n",
      "88481  Timothy's K-Cups are very good.  Timothy's and...  \n",
      "\n",
      "User: AJAABFVT3LHNX\n",
      "Top 5 recommendations:\n",
      "Product ID: B001E4KFG0 Predicted Rating: 4.15263\n",
      "Product ID: B00813GRG4 Predicted Rating: 4.15263\n",
      "Product ID: B000LQOCH0 Predicted Rating: 4.15263\n",
      "Product ID: B000UA0QIQ Predicted Rating: 4.15263\n",
      "Product ID: B006K2ZZ7K Predicted Rating: 4.15263\n",
      "\n",
      "User history:\n",
      "        Id   ProductId         UserId ProfileName  HelpfulnessNumerator  \\\n",
      "6461  6462  B000FNEX50  AJAABFVT3LHNX   jenkinsjh                     1   \n",
      "\n",
      "      HelpfulnessDenominator  Score        Time          Summary  \\\n",
      "6461                       1      1  1338768000  Taste like dirt   \n",
      "\n",
      "                                                   Text  \n",
      "6461  I purchased these because they do not contain ...  \n",
      "\n",
      "User: A2L7S7MN8IBG52\n",
      "Top 5 recommendations:\n",
      "Product ID: B001E4KFG0 Predicted Rating: 4.15263\n",
      "Product ID: B00813GRG4 Predicted Rating: 4.15263\n",
      "Product ID: B000LQOCH0 Predicted Rating: 4.15263\n",
      "Product ID: B000UA0QIQ Predicted Rating: 4.15263\n",
      "Product ID: B006K2ZZ7K Predicted Rating: 4.15263\n",
      "\n",
      "User history:\n",
      "          Id   ProductId          UserId      ProfileName  \\\n",
      "69936  69937  B003O6YWHE  A2L7S7MN8IBG52  Robert Shagoury   \n",
      "\n",
      "       HelpfulnessNumerator  HelpfulnessDenominator  Score        Time  \\\n",
      "69936                     0                       1      1  1324598400   \n",
      "\n",
      "                      Summary  \\\n",
      "69936  Just like Sugar Review   \n",
      "\n",
      "                                                    Text  \n",
      "69936  <a href=\"http://www.amazon.com/gp/product/B004...  \n",
      "\n",
      "User: A308PQN54RYMHX\n",
      "Top 5 recommendations:\n",
      "Product ID: B001E4KFG0 Predicted Rating: 4.15263\n",
      "Product ID: B00813GRG4 Predicted Rating: 4.15263\n",
      "Product ID: B000LQOCH0 Predicted Rating: 4.15263\n",
      "Product ID: B000UA0QIQ Predicted Rating: 4.15263\n",
      "Product ID: B006K2ZZ7K Predicted Rating: 4.15263\n",
      "\n",
      "User history:\n",
      "          Id   ProductId          UserId           ProfileName  \\\n",
      "69504  69505  B000EDBQ4M  A308PQN54RYMHX  J. Bruns \"happy mom\"   \n",
      "\n",
      "       HelpfulnessNumerator  HelpfulnessDenominator  Score        Time  \\\n",
      "69504                     1                       1      5  1168473600   \n",
      "\n",
      "      Summary                                               Text  \n",
      "69504  Yummy!  We make these for my son, who is on a gluten f...  \n",
      "\n",
      "User: A1W04NF05ZTQAO\n",
      "Top 5 recommendations:\n",
      "Product ID: B001E4KFG0 Predicted Rating: 4.15263\n",
      "Product ID: B00813GRG4 Predicted Rating: 4.15263\n",
      "Product ID: B000LQOCH0 Predicted Rating: 4.15263\n",
      "Product ID: B000UA0QIQ Predicted Rating: 4.15263\n",
      "Product ID: B006K2ZZ7K Predicted Rating: 4.15263\n",
      "\n",
      "User history:\n",
      "          Id   ProductId          UserId ProfileName  HelpfulnessNumerator  \\\n",
      "55290  55291  B008Z4VAPM  A1W04NF05ZTQAO         jer                     1   \n",
      "\n",
      "       HelpfulnessDenominator  Score        Time  \\\n",
      "55290                       1      3  1270339200   \n",
      "\n",
      "                              Summary  \\\n",
      "55290  Tasty but the serving is small   \n",
      "\n",
      "                                                    Text  \n",
      "55290  Serving size is a bit small. Fits in a 6 ounce...  \n",
      "\n",
      "User: A2IHDSWGOJBZ2Q\n",
      "Top 5 recommendations:\n",
      "Product ID: B001E4KFG0 Predicted Rating: 4.15263\n",
      "Product ID: B00813GRG4 Predicted Rating: 4.15263\n",
      "Product ID: B000LQOCH0 Predicted Rating: 4.15263\n",
      "Product ID: B000UA0QIQ Predicted Rating: 4.15263\n",
      "Product ID: B006K2ZZ7K Predicted Rating: 4.15263\n",
      "\n",
      "User history:\n",
      "        Id   ProductId          UserId ProfileName  HelpfulnessNumerator  \\\n",
      "6055  6056  B000H227BG  A2IHDSWGOJBZ2Q      Hoopee                     0   \n",
      "\n",
      "      HelpfulnessDenominator  Score        Time                     Summary  \\\n",
      "6055                       0      5  1343865600  This stuff is the GREATEST   \n",
      "\n",
      "                                                   Text  \n",
      "6055  Premium Ghiradelli chocolate mixed with just a...  \n",
      "\n",
      "User: A26JWWM1UMATTR\n",
      "Top 5 recommendations:\n",
      "Product ID: B001E4KFG0 Predicted Rating: 4.15263\n",
      "Product ID: B00813GRG4 Predicted Rating: 4.15263\n",
      "Product ID: B000LQOCH0 Predicted Rating: 4.15263\n",
      "Product ID: B000UA0QIQ Predicted Rating: 4.15263\n",
      "Product ID: B006K2ZZ7K Predicted Rating: 4.15263\n",
      "\n",
      "User history:\n",
      "          Id   ProductId          UserId ProfileName  HelpfulnessNumerator  \\\n",
      "87314  87315  B005YYFHCS  A26JWWM1UMATTR    knjlgint                     1   \n",
      "\n",
      "       HelpfulnessDenominator  Score        Time     Summary  \\\n",
      "87314                       1      5  1333411200  Great Soda   \n",
      "\n",
      "                                                    Text  \n",
      "87314  When i order this soda I was expecting the wor...  \n",
      "\n",
      "User: A3BNZV3HFOR22N\n",
      "Top 5 recommendations:\n",
      "Product ID: B001E4KFG0 Predicted Rating: 4.15263\n",
      "Product ID: B00813GRG4 Predicted Rating: 4.15263\n",
      "Product ID: B000LQOCH0 Predicted Rating: 4.15263\n",
      "Product ID: B000UA0QIQ Predicted Rating: 4.15263\n",
      "Product ID: B006K2ZZ7K Predicted Rating: 4.15263\n",
      "\n",
      "User history:\n",
      "          Id   ProductId          UserId ProfileName  HelpfulnessNumerator  \\\n",
      "69865  69866  B003U81TPE  A3BNZV3HFOR22N    Smithmom                     0   \n",
      "\n",
      "       HelpfulnessDenominator  Score        Time                Summary  \\\n",
      "69865                       2      2  1303689600  Cats will not eat it!   \n",
      "\n",
      "                                                    Text  \n",
      "69865  My cats are not picky, but they will not eat t...  \n",
      "\n",
      "User: A2BBKZJ8VBYHGF\n",
      "Top 5 recommendations:\n",
      "Product ID: B001E4KFG0 Predicted Rating: 4.15263\n",
      "Product ID: B00813GRG4 Predicted Rating: 4.15263\n",
      "Product ID: B000LQOCH0 Predicted Rating: 4.15263\n",
      "Product ID: B000UA0QIQ Predicted Rating: 4.15263\n",
      "Product ID: B006K2ZZ7K Predicted Rating: 4.15263\n",
      "\n",
      "User history:\n",
      "          Id   ProductId          UserId ProfileName  HelpfulnessNumerator  \\\n",
      "71638  71639  B000FKIYM6  A2BBKZJ8VBYHGF        Rick                     0   \n",
      "\n",
      "       HelpfulnessDenominator  Score        Time Summary  \\\n",
      "71638                       0      5  1349136000  SoSour   \n",
      "\n",
      "                                                    Text  \n",
      "71638  This is a really good deal. They are costing m...  \n",
      "\n",
      "User: A2RXRKRI8YSQWQ\n",
      "Top 5 recommendations:\n",
      "Product ID: B001E4KFG0 Predicted Rating: 4.15263\n",
      "Product ID: B00813GRG4 Predicted Rating: 4.15263\n",
      "Product ID: B000LQOCH0 Predicted Rating: 4.15263\n",
      "Product ID: B000UA0QIQ Predicted Rating: 4.15263\n",
      "Product ID: B006K2ZZ7K Predicted Rating: 4.15263\n",
      "\n",
      "User history:\n",
      "      Id   ProductId          UserId ProfileName  HelpfulnessNumerator  \\\n",
      "313  314  B001EPQ0J0  A2RXRKRI8YSQWQ   Susan Toy                     0   \n",
      "\n",
      "     HelpfulnessDenominator  Score        Time           Summary  \\\n",
      "313                       0      5  1341014400  Very Good Coffee   \n",
      "\n",
      "                                                  Text  \n",
      "313  I love ordering whole bean coffee on Amazon.  ...  \n",
      "\n",
      "User: A248RO4GSIWDII\n",
      "Top 5 recommendations:\n",
      "Product ID: B001E4KFG0 Predicted Rating: 4.15263\n",
      "Product ID: B00813GRG4 Predicted Rating: 4.15263\n",
      "Product ID: B000LQOCH0 Predicted Rating: 4.15263\n",
      "Product ID: B000UA0QIQ Predicted Rating: 4.15263\n",
      "Product ID: B006K2ZZ7K Predicted Rating: 4.15263\n",
      "\n",
      "User history:\n",
      "          Id   ProductId          UserId     ProfileName  \\\n",
      "20689  20690  B003ZNXCKE  A248RO4GSIWDII  Robert Kawalec   \n",
      "86940  86941  B003ZNRDWC  A248RO4GSIWDII  Robert Kawalec   \n",
      "\n",
      "       HelpfulnessNumerator  HelpfulnessDenominator  Score        Time  \\\n",
      "20689                     0                       0      5  1339718400   \n",
      "86940                     0                       0      5  1339718400   \n",
      "\n",
      "             Summary                                               Text  \n",
      "20689  They love it!  The girls lost their taste for rawhide, but we...  \n",
      "86940  They love it!  The girls lost their taste for rawhide, but we...  \n",
      "\n",
      "User: A1HX3R6JSBZVU2\n",
      "Top 5 recommendations:\n",
      "Product ID: B001E4KFG0 Predicted Rating: 4.15263\n",
      "Product ID: B00813GRG4 Predicted Rating: 4.15263\n",
      "Product ID: B000LQOCH0 Predicted Rating: 4.15263\n",
      "Product ID: B000UA0QIQ Predicted Rating: 4.15263\n",
      "Product ID: B006K2ZZ7K Predicted Rating: 4.15263\n",
      "\n",
      "User history:\n",
      "          Id   ProductId          UserId ProfileName  HelpfulnessNumerator  \\\n",
      "43515  43516  B001EQ4P2I  A1HX3R6JSBZVU2    NW Elvis                     0   \n",
      "51525  51526  B004HOLD92  A1HX3R6JSBZVU2    NW Elvis                     0   \n",
      "81506  81507  B001EQ4RBM  A1HX3R6JSBZVU2    NW Elvis                     0   \n",
      "96185  96186  B004HOLD4W  A1HX3R6JSBZVU2    NW Elvis                     0   \n",
      "\n",
      "       HelpfulnessDenominator  Score        Time            Summary  \\\n",
      "43515                       0      5  1233532800  Not a typical nut   \n",
      "51525                       0      5  1233532800  Not a typical nut   \n",
      "81506                       0      5  1233532800  Not a typical nut   \n",
      "96185                       0      5  1233532800  Not a typical nut   \n",
      "\n",
      "                                                    Text  \n",
      "43515  This flavor is the best of the bunch by far.  ...  \n",
      "51525  This flavor is the best of the bunch by far.  ...  \n",
      "81506  This flavor is the best of the bunch by far.  ...  \n",
      "96185  This flavor is the best of the bunch by far.  ...  \n",
      "\n",
      "User: ACZGB19Q9TLBL\n",
      "Top 5 recommendations:\n",
      "Product ID: B001E4KFG0 Predicted Rating: 4.15263\n",
      "Product ID: B00813GRG4 Predicted Rating: 4.15263\n",
      "Product ID: B000LQOCH0 Predicted Rating: 4.15263\n",
      "Product ID: B000UA0QIQ Predicted Rating: 4.15263\n",
      "Product ID: B006K2ZZ7K Predicted Rating: 4.15263\n",
      "\n",
      "User history:\n",
      "          Id   ProductId         UserId ProfileName  HelpfulnessNumerator  \\\n",
      "35607  35608  B000BPOSC0  ACZGB19Q9TLBL      Lyomen                     1   \n",
      "\n",
      "       HelpfulnessDenominator  Score        Time                    Summary  \\\n",
      "35607                       2      1  1284249600  Residue is semi-permanent   \n",
      "\n",
      "                                                    Text  \n",
      "35607  The product might work fine except that it dep...  \n",
      "\n",
      "User: A1898U6W2QMOLS\n",
      "Top 5 recommendations:\n",
      "Product ID: B001E4KFG0 Predicted Rating: 4.15263\n",
      "Product ID: B00813GRG4 Predicted Rating: 4.15263\n",
      "Product ID: B000LQOCH0 Predicted Rating: 4.15263\n",
      "Product ID: B000UA0QIQ Predicted Rating: 4.15263\n",
      "Product ID: B006K2ZZ7K Predicted Rating: 4.15263\n",
      "\n",
      "User history:\n",
      "          Id   ProductId          UserId    ProfileName  HelpfulnessNumerator  \\\n",
      "71260  71261  B001QQY1WK  A1898U6W2QMOLS  Nikki Douglas                     0   \n",
      "\n",
      "       HelpfulnessDenominator  Score        Time       Summary  \\\n",
      "71260                       0      5  1348272000  Great flavor   \n",
      "\n",
      "                                                    Text  \n",
      "71260  I bought the Tomato Preserves as well but that...  \n",
      "\n",
      "User: A14DJM89L24C35\n",
      "Top 5 recommendations:\n",
      "Product ID: B001E4KFG0 Predicted Rating: 4.15263\n",
      "Product ID: B00813GRG4 Predicted Rating: 4.15263\n",
      "Product ID: B000LQOCH0 Predicted Rating: 4.15263\n",
      "Product ID: B000UA0QIQ Predicted Rating: 4.15263\n",
      "Product ID: B006K2ZZ7K Predicted Rating: 4.15263\n",
      "\n",
      "User history:\n",
      "          Id   ProductId          UserId ProfileName  HelpfulnessNumerator  \\\n",
      "43553  43554  B001EQ4P2I  A14DJM89L24C35   Patroller                     2   \n",
      "51563  51564  B004HOLD92  A14DJM89L24C35   Patroller                     2   \n",
      "81544  81545  B001EQ4RBM  A14DJM89L24C35   Patroller                     2   \n",
      "96223  96224  B004HOLD4W  A14DJM89L24C35   Patroller                     2   \n",
      "\n",
      "       HelpfulnessDenominator  Score        Time     Summary  \\\n",
      "43553                       2      4  1316304000  Delicious!   \n",
      "51563                       2      4  1316304000  Delicious!   \n",
      "81544                       2      4  1316304000  Delicious!   \n",
      "96223                       2      4  1316304000  Delicious!   \n",
      "\n",
      "                                                    Text  \n",
      "43553  Seriously, these things are delicious.  Amazon...  \n",
      "51563  Seriously, these things are delicious.  Amazon...  \n",
      "81544  Seriously, these things are delicious.  Amazon...  \n",
      "96223  Seriously, these things are delicious.  Amazon...  \n",
      "\n",
      "User: A1TCDA19DRCPLF\n",
      "Top 5 recommendations:\n",
      "Product ID: B001E4KFG0 Predicted Rating: 4.15263\n",
      "Product ID: B00813GRG4 Predicted Rating: 4.15263\n",
      "Product ID: B000LQOCH0 Predicted Rating: 4.15263\n",
      "Product ID: B000UA0QIQ Predicted Rating: 4.15263\n",
      "Product ID: B006K2ZZ7K Predicted Rating: 4.15263\n",
      "\n",
      "User history:\n",
      "          Id   ProductId          UserId      ProfileName  \\\n",
      "39284  39285  B0000DG5AO  A1TCDA19DRCPLF  A Charlie Brown   \n",
      "\n",
      "       HelpfulnessNumerator  HelpfulnessDenominator  Score        Time  \\\n",
      "39284                     0                       0      5  1350518400   \n",
      "\n",
      "      Summary                                               Text  \n",
      "39284     Yum  One of the best hot sauce is out there, with a...  \n",
      "\n",
      "User: AYAUX7L6IPIGT\n",
      "Top 5 recommendations:\n",
      "Product ID: B001E4KFG0 Predicted Rating: 4.15263\n",
      "Product ID: B00813GRG4 Predicted Rating: 4.15263\n",
      "Product ID: B000LQOCH0 Predicted Rating: 4.15263\n",
      "Product ID: B000UA0QIQ Predicted Rating: 4.15263\n",
      "Product ID: B006K2ZZ7K Predicted Rating: 4.15263\n",
      "\n",
      "User history:\n",
      "          Id   ProductId         UserId ProfileName  HelpfulnessNumerator  \\\n",
      "70724  70725  B001EQ5ACC  AYAUX7L6IPIGT  B. Willmot                     2   \n",
      "\n",
      "       HelpfulnessDenominator  Score        Time                Summary  \\\n",
      "70724                       2      5  1215043200  All Brits love it ...   \n",
      "\n",
      "                                                    Text  \n",
      "70724  Wherever I am in the world, I cannot survive w...  \n",
      "\n",
      "User: A15RAF8IT6GJNF\n",
      "Top 5 recommendations:\n",
      "Product ID: B001E4KFG0 Predicted Rating: 4.15263\n",
      "Product ID: B00813GRG4 Predicted Rating: 4.15263\n",
      "Product ID: B000LQOCH0 Predicted Rating: 4.15263\n",
      "Product ID: B000UA0QIQ Predicted Rating: 4.15263\n",
      "Product ID: B006K2ZZ7K Predicted Rating: 4.15263\n",
      "\n",
      "User history:\n",
      "          Id   ProductId          UserId ProfileName  HelpfulnessNumerator  \\\n",
      "72948  72949  B0042GZSMI  A15RAF8IT6GJNF     J. Gray                     0   \n",
      "\n",
      "       HelpfulnessDenominator  Score        Time      Summary  \\\n",
      "72948                       0      1  1346889600  The Quality   \n",
      "\n",
      "                                                    Text  \n",
      "72948  I recently purchased a box of this candy at Se...  \n",
      "\n",
      "User: A1UTWWRVE4VG1P\n",
      "Top 5 recommendations:\n",
      "Product ID: B001E4KFG0 Predicted Rating: 4.15263\n",
      "Product ID: B00813GRG4 Predicted Rating: 4.15263\n",
      "Product ID: B000LQOCH0 Predicted Rating: 4.15263\n",
      "Product ID: B000UA0QIQ Predicted Rating: 4.15263\n",
      "Product ID: B006K2ZZ7K Predicted Rating: 4.15263\n",
      "\n",
      "User history:\n",
      "          Id   ProductId          UserId ProfileName  HelpfulnessNumerator  \\\n",
      "44896  44897  B003TIVBBC  A1UTWWRVE4VG1P  Rock N. CA                     0   \n",
      "93584  93585  B004IJMVQK  A1UTWWRVE4VG1P  Rock N. CA                     1   \n",
      "\n",
      "       HelpfulnessDenominator  Score        Time               Summary  \\\n",
      "44896                       0      5  1312329600           Sweet Treat   \n",
      "93584                       1      3  1315785600  More Peanuts, Please   \n",
      "\n",
      "                                                    Text  \n",
      "44896  I really like the cranberry Corazonas. They ar...  \n",
      "93584  I usually love Barbara's bakery goods, so orde...  \n",
      "\n",
      "User: A2NVDIXUP9E6BW\n",
      "Top 5 recommendations:\n",
      "Product ID: B001E4KFG0 Predicted Rating: 4.15263\n",
      "Product ID: B00813GRG4 Predicted Rating: 4.15263\n",
      "Product ID: B000LQOCH0 Predicted Rating: 4.15263\n",
      "Product ID: B000UA0QIQ Predicted Rating: 4.15263\n",
      "Product ID: B006K2ZZ7K Predicted Rating: 4.15263\n",
      "\n",
      "User history:\n",
      "          Id   ProductId          UserId         ProfileName  \\\n",
      "76598  76599  B0049ULB78  A2NVDIXUP9E6BW  D. Lopez \"A dude.\"   \n",
      "\n",
      "       HelpfulnessNumerator  HelpfulnessDenominator  Score        Time  \\\n",
      "76598                     0                       0      5  1328400000   \n",
      "\n",
      "                        Summary  \\\n",
      "76598  Excellent dark coffee...   \n",
      "\n",
      "                                                    Text  \n",
      "76598  I think what I like about the Dark Magic blend...  \n",
      "\n",
      "User: A208JXKF4ICTE1\n",
      "Top 5 recommendations:\n",
      "Product ID: B001E4KFG0 Predicted Rating: 4.15263\n",
      "Product ID: B00813GRG4 Predicted Rating: 4.15263\n",
      "Product ID: B000LQOCH0 Predicted Rating: 4.15263\n",
      "Product ID: B000UA0QIQ Predicted Rating: 4.15263\n",
      "Product ID: B006K2ZZ7K Predicted Rating: 4.15263\n",
      "\n",
      "User history:\n",
      "          Id   ProductId          UserId ProfileName  HelpfulnessNumerator  \\\n",
      "58414  58415  B0011MXOB8  A208JXKF4ICTE1      Robert                     0   \n",
      "\n",
      "       HelpfulnessDenominator  Score        Time                      Summary  \\\n",
      "58414                       2      4  1307664000  Everything you would expect   \n",
      "\n",
      "                                                    Text  \n",
      "58414  It's Pop-Tarts. What do you expect? She likes ...  \n",
      "\n",
      "User: A3OYVA7W6SKSL1\n",
      "Top 5 recommendations:\n",
      "Product ID: B001E4KFG0 Predicted Rating: 4.15263\n",
      "Product ID: B00813GRG4 Predicted Rating: 4.15263\n",
      "Product ID: B000LQOCH0 Predicted Rating: 4.15263\n",
      "Product ID: B000UA0QIQ Predicted Rating: 4.15263\n",
      "Product ID: B006K2ZZ7K Predicted Rating: 4.15263\n",
      "\n",
      "User history:\n",
      "          Id   ProductId          UserId ProfileName  HelpfulnessNumerator  \\\n",
      "91660  91661  B000EZOKX4  A3OYVA7W6SKSL1  Scab's Mom                     7   \n",
      "\n",
      "       HelpfulnessDenominator  Score        Time Summary  \\\n",
      "91660                       7      5  1216512000  Great!   \n",
      "\n",
      "                                                    Text  \n",
      "91660  My cats loved this dry food. For me, it's a to...  \n",
      "\n",
      "User: AKK7QWC6B82BN\n",
      "Top 5 recommendations:\n",
      "Product ID: B001E4KFG0 Predicted Rating: 4.15263\n",
      "Product ID: B00813GRG4 Predicted Rating: 4.15263\n",
      "Product ID: B000LQOCH0 Predicted Rating: 4.15263\n",
      "Product ID: B000UA0QIQ Predicted Rating: 4.15263\n",
      "Product ID: B006K2ZZ7K Predicted Rating: 4.15263\n",
      "\n",
      "User history:\n",
      "          Id   ProductId         UserId ProfileName  HelpfulnessNumerator  \\\n",
      "99922  99923  B0024NOZAC  AKK7QWC6B82BN     d1ngess                     2   \n",
      "\n",
      "       HelpfulnessDenominator  Score        Time  \\\n",
      "99922                       2      1  1332288000   \n",
      "\n",
      "                                                Summary  \\\n",
      "99922  Look at the shipping -  $12.65 + $20.99 shipping   \n",
      "\n",
      "                                                    Text  \n",
      "99922  $21 for shipping? No thanks, I prefer to not g...  \n",
      "\n",
      "User: A25UUUOR9LD0AG\n",
      "Top 5 recommendations:\n",
      "Product ID: B001E4KFG0 Predicted Rating: 4.15263\n",
      "Product ID: B00813GRG4 Predicted Rating: 4.15263\n",
      "Product ID: B000LQOCH0 Predicted Rating: 4.15263\n",
      "Product ID: B000UA0QIQ Predicted Rating: 4.15263\n",
      "Product ID: B006K2ZZ7K Predicted Rating: 4.15263\n",
      "\n",
      "User history:\n",
      "          Id   ProductId          UserId ProfileName  HelpfulnessNumerator  \\\n",
      "12544  12545  B000FEJ11U  A25UUUOR9LD0AG         Ken                     0   \n",
      "\n",
      "       HelpfulnessDenominator  Score        Time                   Summary  \\\n",
      "12544                       0      4  1338076800  Best Popcorn butter salt   \n",
      "\n",
      "                                                    Text  \n",
      "12544  Not a writer but this Reese Cheesy Popcorn is ...  \n",
      "\n",
      "User: A4LS21C3NKDJZ\n",
      "Top 5 recommendations:\n",
      "Product ID: B001E4KFG0 Predicted Rating: 4.15263\n",
      "Product ID: B00813GRG4 Predicted Rating: 4.15263\n",
      "Product ID: B000LQOCH0 Predicted Rating: 4.15263\n",
      "Product ID: B000UA0QIQ Predicted Rating: 4.15263\n",
      "Product ID: B006K2ZZ7K Predicted Rating: 4.15263\n",
      "\n",
      "User history:\n",
      "          Id   ProductId         UserId ProfileName  HelpfulnessNumerator  \\\n",
      "50648  50649  B001EQ5L0I  A4LS21C3NKDJZ  cat_cattus                     0   \n",
      "\n",
      "       HelpfulnessDenominator  Score        Time  \\\n",
      "50648                       2      5  1247875200   \n",
      "\n",
      "                            Summary  \\\n",
      "50648  nice pu-erh for a nice price   \n",
      "\n",
      "                                                    Text  \n",
      "50648  it is a very nice tea with rather strong pu-er...  \n",
      "\n",
      "User: A2S9G2IRA33LHW\n",
      "Top 5 recommendations:\n",
      "Product ID: B001E4KFG0 Predicted Rating: 4.15263\n",
      "Product ID: B00813GRG4 Predicted Rating: 4.15263\n",
      "Product ID: B000LQOCH0 Predicted Rating: 4.15263\n",
      "Product ID: B000UA0QIQ Predicted Rating: 4.15263\n",
      "Product ID: B006K2ZZ7K Predicted Rating: 4.15263\n",
      "\n",
      "User history:\n",
      "          Id   ProductId          UserId       ProfileName  \\\n",
      "23304  23305  B00514DPDY  A2S9G2IRA33LHW  Kathleen Proctor   \n",
      "\n",
      "       HelpfulnessNumerator  HelpfulnessDenominator  Score        Time  \\\n",
      "23304                     0                       0      5  1334880000   \n",
      "\n",
      "                                                 Summary  \\\n",
      "23304  A great alternative for those with food sensit...   \n",
      "\n",
      "                                                    Text  \n",
      "23304  Rice Thins are crunchy and delicious wafers th...  \n",
      "\n",
      "User: A2LKVXQ8Q0FJ54\n",
      "Top 5 recommendations:\n",
      "Product ID: B001E4KFG0 Predicted Rating: 4.15263\n",
      "Product ID: B00813GRG4 Predicted Rating: 4.15263\n",
      "Product ID: B000LQOCH0 Predicted Rating: 4.15263\n",
      "Product ID: B000UA0QIQ Predicted Rating: 4.15263\n",
      "Product ID: B006K2ZZ7K Predicted Rating: 4.15263\n",
      "\n",
      "User history:\n",
      "          Id   ProductId          UserId ProfileName  HelpfulnessNumerator  \\\n",
      "88465  88466  B001D0KG4Q  A2LKVXQ8Q0FJ54     M. Cera                     0   \n",
      "\n",
      "       HelpfulnessDenominator  Score        Time       Summary  \\\n",
      "88465                       0      5  1269993600  Good Variety   \n",
      "\n",
      "                                                    Text  \n",
      "88465  I liked this because I was able to sample many...  \n",
      "\n",
      "User: A1W7AHIB240VIV\n",
      "Top 5 recommendations:\n",
      "Product ID: B001E4KFG0 Predicted Rating: 4.15263\n",
      "Product ID: B00813GRG4 Predicted Rating: 4.15263\n",
      "Product ID: B000LQOCH0 Predicted Rating: 4.15263\n",
      "Product ID: B000UA0QIQ Predicted Rating: 4.15263\n",
      "Product ID: B006K2ZZ7K Predicted Rating: 4.15263\n",
      "\n",
      "User history:\n",
      "          Id   ProductId          UserId ProfileName  HelpfulnessNumerator  \\\n",
      "45336  45337  B001KP8EO8  A1W7AHIB240VIV     Saundra                     1   \n",
      "\n",
      "       HelpfulnessDenominator  Score        Time  \\\n",
      "45336                       1      5  1294963200   \n",
      "\n",
      "                                Summary  \\\n",
      "45336  Candied Orang Peel Slices-Yummy!   \n",
      "\n",
      "                                                    Text  \n",
      "45336  I love these candied orange peels.  I purchase...  \n",
      "\n",
      "User: A3AH0O44PVP09I\n",
      "Top 5 recommendations:\n",
      "Product ID: B001E4KFG0 Predicted Rating: 4.15263\n",
      "Product ID: B00813GRG4 Predicted Rating: 4.15263\n",
      "Product ID: B000LQOCH0 Predicted Rating: 4.15263\n",
      "Product ID: B000UA0QIQ Predicted Rating: 4.15263\n",
      "Product ID: B006K2ZZ7K Predicted Rating: 4.15263\n",
      "\n",
      "User history:\n",
      "          Id   ProductId          UserId   ProfileName  HelpfulnessNumerator  \\\n",
      "63887  63888  B000DZAXCW  A3AH0O44PVP09I  S. Rosenthal                     1   \n",
      "\n",
      "       HelpfulnessDenominator  Score        Time        Summary  \\\n",
      "63887                       3      5  1235174400  great product   \n",
      "\n",
      "                                                    Text  \n",
      "63887  I enjoy the syrup from Monin. Glad it is organ...  \n",
      "\n",
      "User: A2PGHD6BA9TT2M\n",
      "Top 5 recommendations:\n",
      "Product ID: B001E4KFG0 Predicted Rating: 4.15263\n",
      "Product ID: B00813GRG4 Predicted Rating: 4.15263\n",
      "Product ID: B000LQOCH0 Predicted Rating: 4.15263\n",
      "Product ID: B000UA0QIQ Predicted Rating: 4.15263\n",
      "Product ID: B006K2ZZ7K Predicted Rating: 4.15263\n",
      "\n",
      "User history:\n",
      "          Id   ProductId          UserId        ProfileName  \\\n",
      "32586  32587  B000YV7X1O  A2PGHD6BA9TT2M  Dennis Chiamulera   \n",
      "\n",
      "       HelpfulnessNumerator  HelpfulnessDenominator  Score        Time  \\\n",
      "32586                     2                       2      5  1299196800   \n",
      "\n",
      "             Summary                                               Text  \n",
      "32586  Great Product  This is a great product and i cook alot so thi...  \n",
      "\n",
      "User: A3BGZT7VSOVMVH\n",
      "Top 5 recommendations:\n",
      "Product ID: B001E4KFG0 Predicted Rating: 4.15263\n",
      "Product ID: B00813GRG4 Predicted Rating: 4.15263\n",
      "Product ID: B000LQOCH0 Predicted Rating: 4.15263\n",
      "Product ID: B000UA0QIQ Predicted Rating: 4.15263\n",
      "Product ID: B006K2ZZ7K Predicted Rating: 4.15263\n",
      "\n",
      "User history:\n",
      "          Id   ProductId          UserId ProfileName  HelpfulnessNumerator  \\\n",
      "12497  12498  B007MI2RU4  A3BGZT7VSOVMVH     Matthew                     1   \n",
      "\n",
      "       HelpfulnessDenominator  Score        Time  \\\n",
      "12497                       1      5  1337558400   \n",
      "\n",
      "                              Summary  \\\n",
      "12497  My secret weapon for recovery!   \n",
      "\n",
      "                                                    Text  \n",
      "12497  I found out about this product a year ago when...  \n",
      "\n",
      "User: A27UAV5WNW3OWL\n",
      "Top 5 recommendations:\n",
      "Product ID: B001E4KFG0 Predicted Rating: 4.15263\n",
      "Product ID: B00813GRG4 Predicted Rating: 4.15263\n",
      "Product ID: B000LQOCH0 Predicted Rating: 4.15263\n",
      "Product ID: B000UA0QIQ Predicted Rating: 4.15263\n",
      "Product ID: B006K2ZZ7K Predicted Rating: 4.15263\n",
      "\n",
      "User history:\n",
      "          Id   ProductId          UserId          ProfileName  \\\n",
      "26723  26724  B0009RM2WS  A27UAV5WNW3OWL  holmesmd \"holmesmd\"   \n",
      "\n",
      "       HelpfulnessNumerator  HelpfulnessDenominator  Score        Time  \\\n",
      "26723                     1                       1      5  1226361600   \n",
      "\n",
      "               Summary                                               Text  \n",
      "26723  get up & GO !!!  This stuff is fantastic. I agree with the othe...  \n",
      "\n",
      "User: AKPW2LRDVK9YE\n",
      "Top 5 recommendations:\n",
      "Product ID: B001E4KFG0 Predicted Rating: 4.15263\n",
      "Product ID: B00813GRG4 Predicted Rating: 4.15263\n",
      "Product ID: B000LQOCH0 Predicted Rating: 4.15263\n",
      "Product ID: B000UA0QIQ Predicted Rating: 4.15263\n",
      "Product ID: B006K2ZZ7K Predicted Rating: 4.15263\n",
      "\n",
      "User history:\n",
      "          Id   ProductId         UserId           ProfileName  \\\n",
      "57489  57490  B003NYX12O  AKPW2LRDVK9YE  Mitch Cote-Crosskill   \n",
      "\n",
      "       HelpfulnessNumerator  HelpfulnessDenominator  Score        Time  \\\n",
      "57489                     0                       0      5  1277942400   \n",
      "\n",
      "                        Summary  \\\n",
      "57489  A Welcome Change of Pace   \n",
      "\n",
      "                                                    Text  \n",
      "57489  I've been an avid coffee drinker for many year...  \n",
      "\n",
      "User: A3G6RNW7XG12FT\n",
      "Top 5 recommendations:\n",
      "Product ID: B001E4KFG0 Predicted Rating: 4.15263\n",
      "Product ID: B00813GRG4 Predicted Rating: 4.15263\n",
      "Product ID: B000LQOCH0 Predicted Rating: 4.15263\n",
      "Product ID: B000UA0QIQ Predicted Rating: 4.15263\n",
      "Product ID: B006K2ZZ7K Predicted Rating: 4.15263\n",
      "\n",
      "User history:\n",
      "          Id   ProductId          UserId ProfileName  HelpfulnessNumerator  \\\n",
      "78997  78998  B001E5E34E  A3G6RNW7XG12FT    BaZingaa                     0   \n",
      "\n",
      "       HelpfulnessDenominator  Score        Time                  Summary  \\\n",
      "78997                       0      5  1299196800  Perfect cup every time!   \n",
      "\n",
      "                                                    Text  \n",
      "78997  I have been drinking this tea for a long time ...  \n",
      "\n",
      "User: A3KE6TMMH3BG00\n",
      "Top 5 recommendations:\n",
      "Product ID: B001E4KFG0 Predicted Rating: 4.15263\n",
      "Product ID: B00813GRG4 Predicted Rating: 4.15263\n",
      "Product ID: B000LQOCH0 Predicted Rating: 4.15263\n",
      "Product ID: B000UA0QIQ Predicted Rating: 4.15263\n",
      "Product ID: B006K2ZZ7K Predicted Rating: 4.15263\n",
      "\n",
      "User history:\n",
      "          Id   ProductId          UserId             ProfileName  \\\n",
      "37351  37352  B003CK2BQG  A3KE6TMMH3BG00  Walker \"pseudo-savant\"   \n",
      "50897  50898  B00139C3P2  A3KE6TMMH3BG00  Walker \"pseudo-savant\"   \n",
      "50965  50966  B00139C3P2  A3KE6TMMH3BG00  Walker \"pseudo-savant\"   \n",
      "62801  62802  B000I1OLT2  A3KE6TMMH3BG00  Walker \"pseudo-savant\"   \n",
      "76422  76423  B001HTKOWC  A3KE6TMMH3BG00  Walker \"pseudo-savant\"   \n",
      "\n",
      "       HelpfulnessNumerator  HelpfulnessDenominator  Score        Time  \\\n",
      "37351                     1                       1      5  1302825600   \n",
      "50897                     3                       6      1  1263772800   \n",
      "50965                     3                       4      1  1263772800   \n",
      "62801                     1                       1      5  1302825600   \n",
      "76422                     1                       1      5  1302825600   \n",
      "\n",
      "                                                 Summary  \\\n",
      "37351  Clean and subtle rather than grassy, a stand-o...   \n",
      "50897              None of my cats will touch this stuff   \n",
      "50965              None of my cats will touch this stuff   \n",
      "62801  Clean and subtle rather than grassy, a stand-o...   \n",
      "76422  Clean and subtle rather than grassy, a stand-o...   \n",
      "\n",
      "                                                    Text  \n",
      "37351  I drink STASH PREMIUM MOROCCAN MINT GREEN TEA ...  \n",
      "50897  I have three cats, and even the chow-hound (th...  \n",
      "50965  I have three cats, and even the chow-hound (th...  \n",
      "62801  I drink STASH PREMIUM MOROCCAN MINT GREEN TEA ...  \n",
      "76422  I drink STASH PREMIUM MOROCCAN MINT GREEN TEA ...  \n",
      "\n",
      "User: A1LYUQ0TISWM9I\n",
      "Top 5 recommendations:\n",
      "Product ID: B001E4KFG0 Predicted Rating: 4.15263\n",
      "Product ID: B00813GRG4 Predicted Rating: 4.15263\n",
      "Product ID: B000LQOCH0 Predicted Rating: 4.15263\n",
      "Product ID: B000UA0QIQ Predicted Rating: 4.15263\n",
      "Product ID: B006K2ZZ7K Predicted Rating: 4.15263\n",
      "\n",
      "User history:\n",
      "          Id   ProductId          UserId    ProfileName  HelpfulnessNumerator  \\\n",
      "87344  87345  B005YYFHCS  A1LYUQ0TISWM9I  NOLAphotolady                     0   \n",
      "\n",
      "       HelpfulnessDenominator  Score        Time  \\\n",
      "87344                       1      5  1339200000   \n",
      "\n",
      "                                  Summary  \\\n",
      "87344  Great taste and I love the variety   \n",
      "\n",
      "                                                    Text  \n",
      "87344  I like to drink diet drinks over tea but do no...  \n"
     ]
    }
   ],
   "source": [
    "# Get top 5 recommendations for each user\n",
    "top_n = get_top_n(subset_predictions, n=5)\n",
    "\n",
    "\n",
    "for uid, user_ratings in top_n.items():\n",
    "    print(\"\\nUser:\", trainset.to_raw_uid(uid))\n",
    "    print(\"Top 5 recommendations:\")\n",
    "    for (iid, rating) in user_ratings:\n",
    "        print(\"Product ID:\", trainset.to_raw_iid(iid), \"Predicted Rating:\", rating)\n",
    "        \n",
    "    # Display past behavior of the user\n",
    "    user_history = df[df[user_id] == trainset.to_raw_uid(uid)]\n",
    "    print(\"\\nUser history:\")\n",
    "    print(user_history)\n"
   ]
  },
  {
   "cell_type": "markdown",
   "id": "7333b6b5",
   "metadata": {},
   "source": [
    "The output includes a brief history of each user's product interactions as well as the top product suggestions for that user. For instance:\n",
    "User: A3IR834T7AROBT:\n",
    "\n",
    "Top 5 recommendations: The model gives 5 products to this user and all the products have the same predicted rating of 4.15263.\n",
    "User history: This section displays products that this user, denoted as \"Ed,\" has previously rated or interacted with. Each product's review details are shown, such as the product ID, the score given by the user, the time of the review, and the review's summary and text. For example, Ed has previously given a 5-star rating to product \"B003VXFK44\" with the summary \"Pleasant, smooth and flavorful cup of coffee.\"\n",
    "In conclusion, the output offers insights into the products recommended to particular users based on the model's predictions and compares these suggestions with the user's previous interactions to understand and analyse the relevance and accuracy of the recommendations. \n",
    "\n",
    "\n",
    "\n"
   ]
  },
  {
   "cell_type": "markdown",
   "id": "79c450db",
   "metadata": {},
   "source": [
    "The code below again discover the ideal combination of parameters that minimises root mean square error (RMSE) during cross-validation, the code conducts hyperparameter tuning on the SVD method using GridSearchCV from the Surprise library."
   ]
  },
  {
   "cell_type": "code",
   "execution_count": 185,
   "id": "20bc6172",
   "metadata": {},
   "outputs": [
    {
     "name": "stdout",
     "output_type": "stream",
     "text": [
      "1.1975680546763705\n",
      "{'n_epochs': 30, 'lr_all': 0.01, 'reg_all': 0.02}\n"
     ]
    }
   ],
   "source": [
    "from surprise import SVD\n",
    "from surprise.model_selection import GridSearchCV\n",
    "\n",
    "param_grid = {\n",
    "    'n_epochs': [20, 30],  # No. of iterations \n",
    "    'lr_all': [0.002, 0.005, 0.01],  # Learning rates\n",
    "    'reg_all': [0.02, 0.1, 0.2]  # Regularization terms\n",
    "}\n",
    "\n",
    "gs = GridSearchCV(SVD, param_grid, measures=['rmse'], cv=3)\n",
    "\n",
    "gs.fit(data)\n",
    "\n",
    "print(gs.best_score['rmse'])\n",
    "print(gs.best_params['rmse'])\n"
   ]
  },
  {
   "cell_type": "markdown",
   "id": "4e5d6f16",
   "metadata": {},
   "source": [
    "The output shows that for new better hyperparameters \n",
    "RMSE is  `1.1955225489888262` with `{'n_epochs': 30, 'lr_all': 0.01, 'reg_all': 0.02}`.\n"
   ]
  },
  {
   "cell_type": "markdown",
   "id": "2a7bbdea",
   "metadata": {},
   "source": [
    "The code cell below sets up the SVD model with the best parameters, trains it on a training set, tests it on a test set, and then reports the root mean square error (RMSE) of its predictions."
   ]
  },
  {
   "cell_type": "code",
   "execution_count": 186,
   "id": "b83cd29d",
   "metadata": {},
   "outputs": [
    {
     "name": "stdout",
     "output_type": "stream",
     "text": [
      "RMSE: 1.1814\n"
     ]
    },
    {
     "data": {
      "text/plain": [
       "1.1813625680621598"
      ]
     },
     "execution_count": 186,
     "metadata": {},
     "output_type": "execute_result"
    }
   ],
   "source": [
    "\n",
    "# Compile SVD model with best parameters\n",
    "model = SVD(n_epochs=30, lr_all=0.01, reg_all=0.02)\n",
    "\n",
    "# Training on the trainset\n",
    "model.fit(trainset)\n",
    "\n",
    "# Predict and compute RMSE \n",
    "predictions = model.test(testset)\n",
    "accuracy.rmse(predictions)\n"
   ]
  },
  {
   "cell_type": "markdown",
   "id": "d776cba5",
   "metadata": {},
   "source": [
    "The code cell below run the SVD model with parameters {'n_epochs': 30, 'lr_all': 0.01, 'reg_all': 0.02} and finds RMSE,Precision, Recall and F1 Score."
   ]
  },
  {
   "cell_type": "code",
   "execution_count": 189,
   "id": "93c54c75",
   "metadata": {},
   "outputs": [
    {
     "name": "stdout",
     "output_type": "stream",
     "text": [
      "RMSE: 1.1810\n",
      "RMSE: 1.1809891560964174\n",
      "Precision: 0.8595\n",
      "Recall: 0.7812\n",
      "F1 Score: 0.8185\n"
     ]
    }
   ],
   "source": [
    "from surprise import accuracy, SVD, Dataset, Reader\n",
    "from surprise.model_selection import train_test_split\n",
    "from sklearn.metrics import precision_score, recall_score, f1_score\n",
    "\n",
    "# Split the dataset\n",
    "trainset, testset = train_test_split(data, test_size=0.25)\n",
    "\n",
    "# Complie SVD model with following parameters\n",
    "model = SVD(n_epochs=30, lr_all=0.01, reg_all=0.02)\n",
    "\n",
    "# Train model on the trainset\n",
    "model.fit(trainset)\n",
    "\n",
    "# Compute RMSE on testset\n",
    "predictions = model.test(testset)\n",
    "print(\"RMSE:\", accuracy.rmse(predictions))\n",
    "\n",
    "threshold = 4.0 \n",
    "actual = [1 if r >= threshold else 0 for (_, _, r) in testset]\n",
    "predicted = [1 if est >= threshold else 0 for (_, _, _, est, _) in predictions]\n",
    "\n",
    "# Calculate Precision, Recall, F1 Score\n",
    "precision = precision_score(actual, predicted)\n",
    "recall = recall_score(actual, predicted)\n",
    "f1 = f1_score(actual, predicted)\n",
    "\n",
    "print(f\"Precision: {precision:.4f}\")\n",
    "print(f\"Recall: {recall:.4f}\")\n",
    "print(f\"F1 Score: {f1:.4f}\")\n"
   ]
  },
  {
   "cell_type": "markdown",
   "id": "2a071ec7",
   "metadata": {},
   "source": [
    "The code cell below creates predictions for all the objects in the training set, turns them into a DataFrame, determines the absolute error for each prediction, and prints the 10 predictions with the biggest mistakes."
   ]
  },
  {
   "cell_type": "code",
   "execution_count": 182,
   "id": "8222f898",
   "metadata": {},
   "outputs": [
    {
     "name": "stdout",
     "output_type": "stream",
     "text": [
      "                  uid         iid  rui       est                    details  \\\n",
      "26051   A4JSQFCKVKX2A  B004HOLD4W  1.0  3.427924  {'was_impossible': False}   \n",
      "26054   A4JSQFCKVKX2A  B001EQ4RBM  1.0  3.283807  {'was_impossible': False}   \n",
      "40205   ARRNOA2H9V4ZZ  B004SRH2B6  5.0  2.780987  {'was_impossible': False}   \n",
      "16275  A165ME21JE98VF  B0089SPEO2  1.0  3.187323  {'was_impossible': False}   \n",
      "17505  A1SB8CXAUIKT8X  B000FBQ50I  2.0  4.152606  {'was_impossible': False}   \n",
      "33951  A2IRI9FQ3Y2THO  B0030VBRIU  1.0  3.139065  {'was_impossible': False}   \n",
      "46514   AQAE1BZM6GQ2I  B0030VBQOK  1.0  3.127932  {'was_impossible': False}   \n",
      "30082  A2GO0AIHB846UX  B004SRH2B6  5.0  2.876552  {'was_impossible': False}   \n",
      "17511  A1SB8CXAUIKT8X  B000FBO9LK  2.0  4.123209  {'was_impossible': False}   \n",
      "6049   A1TYQC1QMX1117  B000FNB3AI  1.0  3.122331  {'was_impossible': False}   \n",
      "\n",
      "            err  \n",
      "26051  2.427924  \n",
      "26054  2.283807  \n",
      "40205  2.219013  \n",
      "16275  2.187323  \n",
      "17505  2.152606  \n",
      "33951  2.139065  \n",
      "46514  2.127932  \n",
      "30082  2.123448  \n",
      "17511  2.123209  \n",
      "6049   2.122331  \n"
     ]
    }
   ],
   "source": [
    "# Get all predictions\n",
    "predictions = model.test(trainset.build_testset())\n",
    "\n",
    "# Convert predictions to df\n",
    "df_predictions = pd.DataFrame(predictions, columns=['uid', 'iid', 'rui', 'est', 'details'])\n",
    "\n",
    "# Calculate error in prediction\n",
    "df_predictions['err'] = abs(df_predictions.est - df_predictions.rui)\n",
    "\n",
    "# Show worst predictions\n",
    "print(df_predictions.sort_values(by='err', ascending=False).head(10))\n"
   ]
  },
  {
   "cell_type": "markdown",
   "id": "893923f2",
   "metadata": {},
   "source": [
    "The output displays the 10 predictions from the model with the biggest errors. The user ID (uid), item ID (iid), actual rating (rui), estimated rating (est), information about the prediction (details), and the absolute difference between the actual and estimated ratings (err) are all provided for each prediction. The predictions are arranged in decreasing order of error to highlight the areas where the model's predictions were most off from actual user ratings.\n"
   ]
  },
  {
   "cell_type": "markdown",
   "id": "dbc687ec",
   "metadata": {},
   "source": [
    "The code below divides the data into training and test sets, builds a better SVD model on the training data, and then uses histograms to show how the test set's actual ratings compare to those that were predicted."
   ]
  },
  {
   "cell_type": "code",
   "execution_count": 28,
   "id": "18ef5da3",
   "metadata": {},
   "outputs": [
    {
     "data": {
      "image/png": "[encoded data removed]",
      "text/plain": [
       "<Figure size 432x288 with 1 Axes>"
      ]
     },
     "metadata": {
      "needs_background": "light"
     },
     "output_type": "display_data"
    }
   ],
   "source": [
    "from surprise import SVD, accuracy\n",
    "from surprise.model_selection import train_test_split\n",
    "import matplotlib.pyplot as plt\n",
    "\n",
    "trainset, testset = train_test_split(data, test_size=0.25)\n",
    "\n",
    "# Run SVD model with new better parameters.\n",
    "model_improved = SVD(n_epochs=30, lr_all=0.01, reg_all=0.02)  \n",
    "\n",
    "# Train model\n",
    "model_improved.fit(trainset)\n",
    "\n",
    "# Geting predictions\n",
    "predictions_improved = model_improved.test(testset)\n",
    "\n",
    "# Actual ratings\n",
    "actual_ratings_improved = [true_r for (_, _, true_r, _, _) in predictions_improved]\n",
    "plt.hist(actual_ratings_improved, alpha=0.5, bins=10, label='Actual Ratings')\n",
    "\n",
    "# Predicting and ploating ratings.\n",
    "predicted_ratings_improved = [est for (_, _, _, est, _) in predictions_improved]\n",
    "plt.hist(predicted_ratings_improved, alpha=0.5, bins=10, label='Predicted Ratings')\n",
    "\n",
    "plt.legend(loc='upper left')\n",
    "plt.title('Distribution of Actual vs. Predicted Ratings for Improved SVD Model')\n",
    "plt.xlabel('Rating Value')   # Label for x-axis\n",
    "plt.ylabel('Number of Ratings')   # Label for y-axis\n",
    "plt.show()\n"
   ]
  },
  {
   "cell_type": "markdown",
   "id": "1aceb545",
   "metadata": {},
   "source": [
    "The code cell below compare old SVD model with parameters {'n_epochs': 20, 'lr_all': 0.01, 'reg_all': 0.2} and new improved SVD model with parameters {'n_epochs': 30, 'lr_all': 0.01, 'reg_all': 0.02} in tabular form."
   ]
  },
  {
   "cell_type": "code",
   "execution_count": 193,
   "id": "00d6da45",
   "metadata": {},
   "outputs": [
    {
     "name": "stdout",
     "output_type": "stream",
     "text": [
      "     Model      RMSE  Precision  Recall  F1 Score\n",
      "0  Old SVD  1.217102     0.9893  0.9041    0.9448\n",
      "1  New SVD  1.180989     0.8595  0.7812    0.8185\n"
     ]
    }
   ],
   "source": [
    "import pandas as pd\n",
    "\n",
    "models = ['Old SVD', 'New SVD']\n",
    "rmse = [1.217102048662859, 1.1809891560964174]\n",
    "precision = [0.9893, 0.8595]\n",
    "recall = [0.9041, 0.7812]\n",
    "f1 = [0.9448, 0.8185]\n",
    "\n",
    "df = pd.DataFrame({\n",
    "    'Model': models,\n",
    "    'RMSE': rmse,\n",
    "    'Precision': precision,\n",
    "    'Recall': recall,\n",
    "    'F1 Score': f1\n",
    "})\n",
    "\n",
    "print(df)\n"
   ]
  },
  {
   "cell_type": "markdown",
   "id": "262096e5",
   "metadata": {},
   "source": [
    "The code cell below compare old SVD model with parameters {'n_epochs': 20, 'lr_all': 0.01, 'reg_all': 0.2} and new improved SVD model with parameters {'n_epochs': 30, 'lr_all': 0.01, 'reg_all': 0.02} and showing difference by graph."
   ]
  },
  {
   "cell_type": "code",
   "execution_count": 196,
   "id": "55100300",
   "metadata": {},
   "outputs": [
    {
     "data": {
      "image/png": "[encoded data removed]",
      "text/plain": [
       "<Figure size 720x504 with 1 Axes>"
      ]
     },
     "metadata": {
      "needs_background": "light"
     },
     "output_type": "display_data"
    }
   ],
   "source": [
    "import matplotlib.pyplot as plt\n",
    "import numpy as np\n",
    "\n",
    "labels = ['RMSE', 'Precision', 'Recall', 'F1 Score']\n",
    "old_svd_values = [1.217102048662859, 0.9893, 0.9041, 0.9448]\n",
    "new_svd_values = [1.1809891560964174, 0.8595, 0.7812, 0.8185]\n",
    "\n",
    "x = np.arange(len(labels))\n",
    "width = 0.35  \n",
    "\n",
    "fig, ax = plt.subplots(figsize=(10,7))\n",
    "rects1 = ax.bar(x - width/2, old_svd_values, width, label='Old SVD', color='Green')\n",
    "rects2 = ax.bar(x + width/2, new_svd_values, width, label='New SVD', color='red')\n",
    "\n",
    "\n",
    "ax.set_ylabel('Value')\n",
    "ax.set_title('OLD SVD MODEL VS NEW SVD MODEL')\n",
    "ax.set_xticks(x)\n",
    "ax.set_xticklabels(labels)\n",
    "ax.legend()\n",
    "\n",
    "# Plot graph that is showing difference.\n",
    "plt.show()\n"
   ]
  },
  {
   "cell_type": "markdown",
   "id": "b0befef2",
   "metadata": {},
   "source": [
    "The code cell below compare old SVD model with parameters {'n_epochs': 20, 'lr_all': 0.01, 'reg_all': 0.2} and new improved SVD model with parameters {'n_epochs': 30, 'lr_all': 0.01, 'reg_all': 0.02} by showing comparison by heatmap."
   ]
  },
  {
   "cell_type": "code",
   "execution_count": 200,
   "id": "ce485769",
   "metadata": {},
   "outputs": [
    {
     "data": {
      "image/png": "[encoded data removed]",
      "text/plain": [
       "<Figure size 720x432 with 2 Axes>"
      ]
     },
     "metadata": {
      "needs_background": "light"
     },
     "output_type": "display_data"
    }
   ],
   "source": [
    "import numpy as np\n",
    "import pandas as pd\n",
    "import seaborn as sns\n",
    "import matplotlib.pyplot as plt\n",
    "\n",
    "labels = ['RMSE', 'Precision', 'Recall', 'F1 Score']\n",
    "old_svd_values = [1.217102048662859, 0.9893, 0.9041, 0.9448]\n",
    "new_svd_values = [1.1809891560964174, 0.8595, 0.7812, 0.8185]\n",
    "\n",
    "\n",
    "metrics_df = pd.DataFrame({'Old SVD': old_svd_values, 'New SVD': new_svd_values}, index=labels)\n",
    "\n",
    "# Creating heatmap\n",
    "plt.figure(figsize=(10,6))\n",
    "sns.heatmap(metrics_df, annot=True, cmap=\"YlGnBu\", cbar=True, linewidths=.5)\n",
    "plt.title(\"Old SVD vs New SVD Metrics Comparison\")\n",
    "plt.show()\n"
   ]
  },
  {
   "cell_type": "markdown",
   "id": "fafb2192",
   "metadata": {},
   "source": [
    "The code cell below trians two SVD models (old and improved(new)) , predict ratings and then plot graph for the distributions of actual vs. predicted ratings for both models."
   ]
  },
  {
   "cell_type": "code",
   "execution_count": 33,
   "id": "ab97204a",
   "metadata": {
    "scrolled": false
   },
   "outputs": [
    {
     "data": {
      "image/png": "[encoded data removed]",
      "text/plain": [
       "<Figure size 864x720 with 2 Axes>"
      ]
     },
     "metadata": {
      "needs_background": "light"
     },
     "output_type": "display_data"
    }
   ],
   "source": [
    "from surprise import SVD, accuracy\n",
    "from surprise.model_selection import train_test_split\n",
    "import matplotlib.pyplot as plt\n",
    "\n",
    "trainset, testset = train_test_split(data, test_size=0.25)\n",
    "\n",
    "# Define old and new(improved) SVD models\n",
    "model_old = SVD(n_epochs=20, lr_all=0.01, reg_all=0.2)\n",
    "model_improved = SVD(n_epochs=30, lr_all=0.01, reg_all=0.02)\n",
    "\n",
    "# Train the models\n",
    "model_old.fit(trainset)\n",
    "model_improved.fit(trainset)\n",
    "\n",
    "# Doing prediction\n",
    "predictions_old = model_old.test(testset)\n",
    "predictions_improved = model_improved.test(testset)\n",
    "\n",
    "# Actual ratings for both models\n",
    "actual_ratings_old = [true_r for (_, _, true_r, _, _) in predictions_old]\n",
    "actual_ratings_improved = [true_r for (_, _, true_r, _, _) in predictions_improved]\n",
    "\n",
    "# Predicted ratings by both models\n",
    "predicted_ratings_old = [est for (_, _, _, est, _) in predictions_old]\n",
    "predicted_ratings_improved = [est for (_, _, _, est, _) in predictions_improved]\n",
    "\n",
    "# Ploting graph \n",
    "fig, ax = plt.subplots(nrows=2, ncols=1, figsize=(12, 10))\n",
    "\n",
    "# old model\n",
    "ax[0].hist(actual_ratings_old, alpha=0.5, bins=10, label='Actual Ratings')\n",
    "ax[0].hist(predicted_ratings_old, alpha=0.5, bins=10, label='Predicted Ratings')\n",
    "ax[0].legend(loc='upper left')\n",
    "ax[0].set_title('Old SVD Model: Actual vs. Predicted Ratings')\n",
    "ax[0].set_xlabel('Rating Value')\n",
    "ax[0].set_ylabel('Number of Ratings')\n",
    "\n",
    "# improved new model\n",
    "ax[1].hist(actual_ratings_improved, alpha=0.5, bins=10, label='Actual Ratings')\n",
    "ax[1].hist(predicted_ratings_improved, alpha=0.5, bins=10, label='Predicted Ratings')\n",
    "ax[1].legend(loc='upper left')\n",
    "ax[1].set_title('Improved SVD Model: Actual vs. Predicted Ratings')\n",
    "ax[1].set_xlabel('Rating Value')\n",
    "ax[1].set_ylabel('Number of Ratings')\n",
    "\n",
    "plt.tight_layout()\n",
    "plt.show()\n"
   ]
  },
  {
   "cell_type": "markdown",
   "id": "120b8d35",
   "metadata": {},
   "source": [
    "The code below is installing python libraries that we are using later in our code."
   ]
  },
  {
   "cell_type": "code",
   "execution_count": 40,
   "id": "60c889c2",
   "metadata": {},
   "outputs": [
    {
     "name": "stdout",
     "output_type": "stream",
     "text": [
      "Requirement already satisfied: pandas in /Library/Frameworks/Python.framework/Versions/3.9/lib/python3.9/site-packages (1.4.1)\n",
      "Requirement already satisfied: numpy in /Library/Frameworks/Python.framework/Versions/3.9/lib/python3.9/site-packages (1.22.3)\n",
      "Requirement already satisfied: tensorflow in /Library/Frameworks/Python.framework/Versions/3.9/lib/python3.9/site-packages (2.8.0)\n",
      "Requirement already satisfied: scikit-learn in /Library/Frameworks/Python.framework/Versions/3.9/lib/python3.9/site-packages (1.0.2)\n",
      "Requirement already satisfied: python-dateutil>=2.8.1 in /Library/Frameworks/Python.framework/Versions/3.9/lib/python3.9/site-packages (from pandas) (2.8.2)\n",
      "Requirement already satisfied: pytz>=2020.1 in /Library/Frameworks/Python.framework/Versions/3.9/lib/python3.9/site-packages (from pandas) (2022.1)\n",
      "Requirement already satisfied: absl-py>=0.4.0 in /Library/Frameworks/Python.framework/Versions/3.9/lib/python3.9/site-packages (from tensorflow) (1.0.0)\n",
      "Requirement already satisfied: astunparse>=1.6.0 in /Library/Frameworks/Python.framework/Versions/3.9/lib/python3.9/site-packages (from tensorflow) (1.6.3)\n",
      "Requirement already satisfied: flatbuffers>=1.12 in /Library/Frameworks/Python.framework/Versions/3.9/lib/python3.9/site-packages (from tensorflow) (2.0)\n",
      "Requirement already satisfied: gast>=0.2.1 in /Library/Frameworks/Python.framework/Versions/3.9/lib/python3.9/site-packages (from tensorflow) (0.5.3)\n",
      "Requirement already satisfied: google-pasta>=0.1.1 in /Library/Frameworks/Python.framework/Versions/3.9/lib/python3.9/site-packages (from tensorflow) (0.2.0)\n",
      "Requirement already satisfied: h5py>=2.9.0 in /Library/Frameworks/Python.framework/Versions/3.9/lib/python3.9/site-packages (from tensorflow) (3.6.0)\n",
      "Requirement already satisfied: keras-preprocessing>=1.1.1 in /Library/Frameworks/Python.framework/Versions/3.9/lib/python3.9/site-packages (from tensorflow) (1.1.2)\n",
      "Requirement already satisfied: libclang>=9.0.1 in /Library/Frameworks/Python.framework/Versions/3.9/lib/python3.9/site-packages (from tensorflow) (13.0.0)\n",
      "Requirement already satisfied: opt-einsum>=2.3.2 in /Library/Frameworks/Python.framework/Versions/3.9/lib/python3.9/site-packages (from tensorflow) (3.3.0)\n",
      "Requirement already satisfied: protobuf>=3.9.2 in /Library/Frameworks/Python.framework/Versions/3.9/lib/python3.9/site-packages (from tensorflow) (3.19.4)\n",
      "Requirement already satisfied: setuptools in /Library/Frameworks/Python.framework/Versions/3.9/lib/python3.9/site-packages (from tensorflow) (49.2.1)\n",
      "Requirement already satisfied: six>=1.12.0 in /Library/Frameworks/Python.framework/Versions/3.9/lib/python3.9/site-packages (from tensorflow) (1.16.0)\n",
      "Requirement already satisfied: termcolor>=1.1.0 in /Library/Frameworks/Python.framework/Versions/3.9/lib/python3.9/site-packages (from tensorflow) (1.1.0)\n",
      "Requirement already satisfied: typing-extensions>=3.6.6 in /Library/Frameworks/Python.framework/Versions/3.9/lib/python3.9/site-packages (from tensorflow) (4.1.1)\n",
      "Requirement already satisfied: wrapt>=1.11.0 in /Library/Frameworks/Python.framework/Versions/3.9/lib/python3.9/site-packages (from tensorflow) (1.14.0)\n",
      "Requirement already satisfied: tensorboard<2.9,>=2.8 in /Library/Frameworks/Python.framework/Versions/3.9/lib/python3.9/site-packages (from tensorflow) (2.8.0)\n",
      "Requirement already satisfied: tf-estimator-nightly==2.8.0.dev2021122109 in /Library/Frameworks/Python.framework/Versions/3.9/lib/python3.9/site-packages (from tensorflow) (2.8.0.dev2021122109)\n",
      "Requirement already satisfied: keras<2.9,>=2.8.0rc0 in /Library/Frameworks/Python.framework/Versions/3.9/lib/python3.9/site-packages (from tensorflow) (2.8.0)\n",
      "Requirement already satisfied: tensorflow-io-gcs-filesystem>=0.23.1 in /Library/Frameworks/Python.framework/Versions/3.9/lib/python3.9/site-packages (from tensorflow) (0.24.0)\n",
      "Requirement already satisfied: grpcio<2.0,>=1.24.3 in /Library/Frameworks/Python.framework/Versions/3.9/lib/python3.9/site-packages (from tensorflow) (1.44.0)\n",
      "Requirement already satisfied: scipy>=1.1.0 in /Library/Frameworks/Python.framework/Versions/3.9/lib/python3.9/site-packages (from scikit-learn) (1.8.0)\n",
      "Requirement already satisfied: joblib>=0.11 in /Library/Frameworks/Python.framework/Versions/3.9/lib/python3.9/site-packages (from scikit-learn) (1.1.0)\n",
      "Requirement already satisfied: threadpoolctl>=2.0.0 in /Library/Frameworks/Python.framework/Versions/3.9/lib/python3.9/site-packages (from scikit-learn) (3.1.0)\n",
      "Requirement already satisfied: wheel<1.0,>=0.23.0 in /Library/Frameworks/Python.framework/Versions/3.9/lib/python3.9/site-packages (from astunparse>=1.6.0->tensorflow) (0.37.1)\n",
      "Requirement already satisfied: google-auth<3,>=1.6.3 in /Library/Frameworks/Python.framework/Versions/3.9/lib/python3.9/site-packages (from tensorboard<2.9,>=2.8->tensorflow) (2.6.2)\n",
      "Requirement already satisfied: google-auth-oauthlib<0.5,>=0.4.1 in /Library/Frameworks/Python.framework/Versions/3.9/lib/python3.9/site-packages (from tensorboard<2.9,>=2.8->tensorflow) (0.4.6)\n",
      "Requirement already satisfied: markdown>=2.6.8 in /Library/Frameworks/Python.framework/Versions/3.9/lib/python3.9/site-packages (from tensorboard<2.9,>=2.8->tensorflow) (3.3.6)\n",
      "Requirement already satisfied: requests<3,>=2.21.0 in /Library/Frameworks/Python.framework/Versions/3.9/lib/python3.9/site-packages (from tensorboard<2.9,>=2.8->tensorflow) (2.27.1)\n",
      "Requirement already satisfied: tensorboard-data-server<0.7.0,>=0.6.0 in /Library/Frameworks/Python.framework/Versions/3.9/lib/python3.9/site-packages (from tensorboard<2.9,>=2.8->tensorflow) (0.6.1)\n",
      "Requirement already satisfied: tensorboard-plugin-wit>=1.6.0 in /Library/Frameworks/Python.framework/Versions/3.9/lib/python3.9/site-packages (from tensorboard<2.9,>=2.8->tensorflow) (1.8.1)\n",
      "Requirement already satisfied: werkzeug>=0.11.15 in /Library/Frameworks/Python.framework/Versions/3.9/lib/python3.9/site-packages (from tensorboard<2.9,>=2.8->tensorflow) (2.0.3)\n",
      "Requirement already satisfied: cachetools<6.0,>=2.0.0 in /Library/Frameworks/Python.framework/Versions/3.9/lib/python3.9/site-packages (from google-auth<3,>=1.6.3->tensorboard<2.9,>=2.8->tensorflow) (5.0.0)\n",
      "Requirement already satisfied: pyasn1-modules>=0.2.1 in /Library/Frameworks/Python.framework/Versions/3.9/lib/python3.9/site-packages (from google-auth<3,>=1.6.3->tensorboard<2.9,>=2.8->tensorflow) (0.2.8)\n",
      "Requirement already satisfied: rsa<5,>=3.1.4 in /Library/Frameworks/Python.framework/Versions/3.9/lib/python3.9/site-packages (from google-auth<3,>=1.6.3->tensorboard<2.9,>=2.8->tensorflow) (4.8)\n",
      "Requirement already satisfied: requests-oauthlib>=0.7.0 in /Library/Frameworks/Python.framework/Versions/3.9/lib/python3.9/site-packages (from google-auth-oauthlib<0.5,>=0.4.1->tensorboard<2.9,>=2.8->tensorflow) (1.3.1)\n",
      "Requirement already satisfied: importlib-metadata>=4.4 in /Library/Frameworks/Python.framework/Versions/3.9/lib/python3.9/site-packages (from markdown>=2.6.8->tensorboard<2.9,>=2.8->tensorflow) (4.11.3)\n",
      "Requirement already satisfied: urllib3<1.27,>=1.21.1 in /Library/Frameworks/Python.framework/Versions/3.9/lib/python3.9/site-packages (from requests<3,>=2.21.0->tensorboard<2.9,>=2.8->tensorflow) (1.26.9)\n",
      "Requirement already satisfied: certifi>=2017.4.17 in /Library/Frameworks/Python.framework/Versions/3.9/lib/python3.9/site-packages (from requests<3,>=2.21.0->tensorboard<2.9,>=2.8->tensorflow) (2022.9.24)\n",
      "Requirement already satisfied: charset-normalizer~=2.0.0 in /Library/Frameworks/Python.framework/Versions/3.9/lib/python3.9/site-packages (from requests<3,>=2.21.0->tensorboard<2.9,>=2.8->tensorflow) (2.0.12)\n",
      "Requirement already satisfied: idna<4,>=2.5 in /Library/Frameworks/Python.framework/Versions/3.9/lib/python3.9/site-packages (from requests<3,>=2.21.0->tensorboard<2.9,>=2.8->tensorflow) (3.3)\n",
      "Requirement already satisfied: zipp>=0.5 in /Library/Frameworks/Python.framework/Versions/3.9/lib/python3.9/site-packages (from importlib-metadata>=4.4->markdown>=2.6.8->tensorboard<2.9,>=2.8->tensorflow) (3.7.0)\n",
      "Requirement already satisfied: pyasn1<0.5.0,>=0.4.6 in /Library/Frameworks/Python.framework/Versions/3.9/lib/python3.9/site-packages (from pyasn1-modules>=0.2.1->google-auth<3,>=1.6.3->tensorboard<2.9,>=2.8->tensorflow) (0.4.8)\n",
      "Requirement already satisfied: oauthlib>=3.0.0 in /Library/Frameworks/Python.framework/Versions/3.9/lib/python3.9/site-packages (from requests-oauthlib>=0.7.0->google-auth-oauthlib<0.5,>=0.4.1->tensorboard<2.9,>=2.8->tensorflow) (3.2.0)\n",
      "\n",
      "\u001b[1m[\u001b[0m\u001b[34;49mnotice\u001b[0m\u001b[1;39;49m]\u001b[0m\u001b[39;49m A new release of pip is available: \u001b[0m\u001b[31;49m23.1.2\u001b[0m\u001b[39;49m -> \u001b[0m\u001b[32;49m23.2.1\u001b[0m\n",
      "\u001b[1m[\u001b[0m\u001b[34;49mnotice\u001b[0m\u001b[1;39;49m]\u001b[0m\u001b[39;49m To update, run: \u001b[0m\u001b[32;49mpip install --upgrade pip\u001b[0m\n",
      "Note: you may need to restart the kernel to use updated packages.\n"
     ]
    }
   ],
   "source": [
    "pip install pandas numpy tensorflow scikit-learn\n"
   ]
  },
  {
   "cell_type": "markdown",
   "id": "9d0cd58c",
   "metadata": {},
   "source": [
    "The code below is updating installed python libaries"
   ]
  },
  {
   "cell_type": "code",
   "execution_count": 41,
   "id": "3c6fe5ff",
   "metadata": {},
   "outputs": [
    {
     "name": "stdout",
     "output_type": "stream",
     "text": [
      "Requirement already satisfied: pip in /Library/Frameworks/Python.framework/Versions/3.9/lib/python3.9/site-packages (23.1.2)\n",
      "Collecting pip\n",
      "  Downloading pip-23.2.1-py3-none-any.whl (2.1 MB)\n",
      "\u001b[2K     \u001b[90m━━━━━━━━━━━━━━━━━━━━━━━━━━━━━━━━━━━━━━━━\u001b[0m \u001b[32m2.1/2.1 MB\u001b[0m \u001b[31m9.0 MB/s\u001b[0m eta \u001b[36m0:00:00\u001b[0mta \u001b[36m0:00:01\u001b[0m\n",
      "\u001b[?25hInstalling collected packages: pip\n",
      "  Attempting uninstall: pip\n",
      "    Found existing installation: pip 23.1.2\n",
      "    Uninstalling pip-23.1.2:\n",
      "      Successfully uninstalled pip-23.1.2\n",
      "Successfully installed pip-23.2.1\n",
      "Note: you may need to restart the kernel to use updated packages.\n"
     ]
    }
   ],
   "source": [
    " pip install --upgrade pip"
   ]
  },
  {
   "cell_type": "markdown",
   "id": "fd509b98",
   "metadata": {},
   "source": [
    "The code below is installing python library tensorflow_addons."
   ]
  },
  {
   "cell_type": "code",
   "execution_count": 86,
   "id": "79740bad",
   "metadata": {},
   "outputs": [
    {
     "name": "stdout",
     "output_type": "stream",
     "text": [
      "Collecting tensorflow_addons\n",
      "  Obtaining dependency information for tensorflow_addons from https://files.pythonhosted.org/packages/37/0d/dc555976a792c6b2f6539de2f38fc73042ccd4705788922ad10f245a94d8/tensorflow_addons-0.21.0-cp39-cp39-macosx_10_14_x86_64.whl.metadata\n",
      "  Downloading tensorflow_addons-0.21.0-cp39-cp39-macosx_10_14_x86_64.whl.metadata (1.8 kB)\n",
      "Requirement already satisfied: typeguard<3.0.0,>=2.7 in /Library/Frameworks/Python.framework/Versions/3.9/lib/python3.9/site-packages (from tensorflow_addons) (2.13.3)\n",
      "Requirement already satisfied: packaging in /Library/Frameworks/Python.framework/Versions/3.9/lib/python3.9/site-packages (from tensorflow_addons) (21.3)\n",
      "Requirement already satisfied: pyparsing!=3.0.5,>=2.0.2 in /Library/Frameworks/Python.framework/Versions/3.9/lib/python3.9/site-packages (from packaging->tensorflow_addons) (3.0.7)\n",
      "Downloading tensorflow_addons-0.21.0-cp39-cp39-macosx_10_14_x86_64.whl (13.4 MB)\n",
      "\u001b[2K   \u001b[90m━━━━━━━━━━━━━━━━━━━━━━━━━━━━━━━━━━━━━━━━\u001b[0m \u001b[32m13.4/13.4 MB\u001b[0m \u001b[31m15.6 MB/s\u001b[0m eta \u001b[36m0:00:00\u001b[0m00:01\u001b[0m00:01\u001b[0m\n",
      "\u001b[?25hInstalling collected packages: tensorflow_addons\n",
      "Successfully installed tensorflow_addons-0.21.0\n"
     ]
    }
   ],
   "source": [
    "!pip install tensorflow_addons\n"
   ]
  },
  {
   "cell_type": "markdown",
   "id": "ce845de7",
   "metadata": {},
   "source": [
    "The code below is installing python library keras-tuner"
   ]
  },
  {
   "cell_type": "code",
   "execution_count": 97,
   "id": "d09d2b63",
   "metadata": {},
   "outputs": [
    {
     "name": "stdout",
     "output_type": "stream",
     "text": [
      "Collecting keras-tuner\n",
      "  Downloading keras_tuner-1.3.5-py3-none-any.whl (176 kB)\n",
      "\u001b[2K     \u001b[90m━━━━━━━━━━━━━━━━━━━━━━━━━━━━━━━━━━━━━━━\u001b[0m \u001b[32m176.1/176.1 kB\u001b[0m \u001b[31m5.5 MB/s\u001b[0m eta \u001b[36m0:00:00\u001b[0m\n",
      "\u001b[?25hRequirement already satisfied: packaging in /Library/Frameworks/Python.framework/Versions/3.9/lib/python3.9/site-packages (from keras-tuner) (21.3)\n",
      "Requirement already satisfied: requests in /Library/Frameworks/Python.framework/Versions/3.9/lib/python3.9/site-packages (from keras-tuner) (2.27.1)\n",
      "Collecting kt-legacy (from keras-tuner)\n",
      "  Downloading kt_legacy-1.0.5-py3-none-any.whl (9.6 kB)\n",
      "Requirement already satisfied: pyparsing!=3.0.5,>=2.0.2 in /Library/Frameworks/Python.framework/Versions/3.9/lib/python3.9/site-packages (from packaging->keras-tuner) (3.0.7)\n",
      "Requirement already satisfied: urllib3<1.27,>=1.21.1 in /Library/Frameworks/Python.framework/Versions/3.9/lib/python3.9/site-packages (from requests->keras-tuner) (1.26.9)\n",
      "Requirement already satisfied: certifi>=2017.4.17 in /Library/Frameworks/Python.framework/Versions/3.9/lib/python3.9/site-packages (from requests->keras-tuner) (2022.9.24)\n",
      "Requirement already satisfied: charset-normalizer~=2.0.0 in /Library/Frameworks/Python.framework/Versions/3.9/lib/python3.9/site-packages (from requests->keras-tuner) (2.0.12)\n",
      "Requirement already satisfied: idna<4,>=2.5 in /Library/Frameworks/Python.framework/Versions/3.9/lib/python3.9/site-packages (from requests->keras-tuner) (3.3)\n",
      "Installing collected packages: kt-legacy, keras-tuner\n",
      "Successfully installed keras-tuner-1.3.5 kt-legacy-1.0.5\n"
     ]
    }
   ],
   "source": [
    "!pip install keras-tuner\n"
   ]
  },
  {
   "cell_type": "markdown",
   "id": "067e1a5a",
   "metadata": {},
   "source": [
    "The code below is loading first 100000 rows from Reviews.csv to df, then converting data into categorical data and then performing train-test split."
   ]
  },
  {
   "cell_type": "code",
   "execution_count": 209,
   "id": "2da1edd9",
   "metadata": {},
   "outputs": [],
   "source": [
    "import pandas as pd\n",
    "import numpy as np\n",
    "\n",
    "# Loading of dataset\n",
    "df = pd.read_csv('/Users/himanshu/Desktop/msc/Reviews.csv')\n",
    "df = df[['UserId', 'ProductId', 'Score']].head(100000)\n",
    "\n",
    "# Convert user and product ID into categorical data.\n",
    "df['UserId'] = df['UserId'].astype(\"category\").cat.codes.values\n",
    "df['ProductId'] = df['ProductId'].astype(\"category\").cat.codes.values\n",
    "\n",
    "# Train-test split\n",
    "from sklearn.model_selection import train_test_split\n",
    "train, test = train_test_split(df, test_size=0.2, random_state=42)\n"
   ]
  },
  {
   "cell_type": "markdown",
   "id": "56f65f37",
   "metadata": {},
   "source": [
    "The code cell is checking missing values in loaded df."
   ]
  },
  {
   "cell_type": "code",
   "execution_count": 210,
   "id": "506e7674",
   "metadata": {
    "scrolled": true
   },
   "outputs": [
    {
     "name": "stdout",
     "output_type": "stream",
     "text": [
      "UserId       0\n",
      "ProductId    0\n",
      "Score        0\n",
      "dtype: int64\n"
     ]
    }
   ],
   "source": [
    "\n",
    "missing_values = df.isnull().sum()\n",
    "print(missing_values)\n"
   ]
  },
  {
   "cell_type": "markdown",
   "id": "b430a6f2",
   "metadata": {},
   "source": [
    "The code cell below checks duplicate value in df."
   ]
  },
  {
   "cell_type": "code",
   "execution_count": 211,
   "id": "e4a37326",
   "metadata": {},
   "outputs": [
    {
     "name": "stdout",
     "output_type": "stream",
     "text": [
      "Number of duplicate rows = 1100\n"
     ]
    }
   ],
   "source": [
    "# Check for duplicate rows\n",
    "duplicate_rows = df.duplicated().sum()\n",
    "print(f\"Number of duplicate rows = {duplicate_rows}\")\n",
    "\n",
    "# Remove duplicate rows\n",
    "df = df.drop_duplicates()\n"
   ]
  },
  {
   "cell_type": "markdown",
   "id": "7d4d8e81",
   "metadata": {},
   "source": [
    "The code cells below delete rows with duplicate valued from df."
   ]
  },
  {
   "cell_type": "code",
   "execution_count": 212,
   "id": "acb9cf2d",
   "metadata": {},
   "outputs": [],
   "source": [
    "df = df.drop_duplicates()\n"
   ]
  },
  {
   "cell_type": "markdown",
   "id": "24742528",
   "metadata": {},
   "source": [
    "The code cells below checks for the rows with duplicate values again after droping duplicate rows."
   ]
  },
  {
   "cell_type": "code",
   "execution_count": 213,
   "id": "7e5171b9",
   "metadata": {},
   "outputs": [
    {
     "name": "stdout",
     "output_type": "stream",
     "text": [
      "Number of duplicate rows after removal = 0\n"
     ]
    }
   ],
   "source": [
    "duplicate_rows_after = df.duplicated().sum()\n",
    "print(f\"Number of duplicate rows after removal = {duplicate_rows_after}\")\n"
   ]
  },
  {
   "cell_type": "markdown",
   "id": "12f207e6",
   "metadata": {},
   "source": [
    "The code calculates the relative frequency of each unique score in the Score column of the df DataFrame. The output displays each score's percentage representation in the dataset."
   ]
  },
  {
   "cell_type": "code",
   "execution_count": 214,
   "id": "86288b00",
   "metadata": {
    "scrolled": true
   },
   "outputs": [
    {
     "name": "stdout",
     "output_type": "stream",
     "text": [
      "5    0.622983\n",
      "4    0.146825\n",
      "1    0.093175\n",
      "3    0.080961\n",
      "2    0.056057\n",
      "Name: Score, dtype: float64\n"
     ]
    }
   ],
   "source": [
    "# Check the distribution of scores\n",
    "print(df['Score'].value_counts(normalize=True))\n"
   ]
  },
  {
   "cell_type": "markdown",
   "id": "ee19d523",
   "metadata": {},
   "source": [
    "The output depicts that percentage distribution of scores in the dataset:\n",
    "\n",
    "- About 62.3% of the reviews have a score of 5.\n",
    "- 14.7% have a score of 4.\n",
    "- 9.3% have a score of 1.\n",
    "- 8.1% have a score of 3.\n",
    "- 5.6% have a score of 2."
   ]
  },
  {
   "cell_type": "markdown",
   "id": "f25c0335",
   "metadata": {},
   "source": [
    "**-** The code cell below develop and trains a hybrid neural collaborative filtering model to forecast product ratings using Generalised Matrix Factorization (GMF) and Multi-Layer Perceptron (MLP). The MLP component strengthens the model by concatenating these embeddings and processing them through dense neural layers, while the GMF part captures the latent links by multiplying user and object embeddings. The final step is to combine, flatten, and analyse both components to create a binary prediction that expresses whether a consumer would find a product appealing. The Adam optimizer, a special F1 score measure, and binary cross-entropy loss are used to build the model.\n",
    "**-** Using callbacks for early stopping and learning rate modification, the model is trained using prepared data that has been divided into training and testing sets. Both accuracy and loss are tracked throughout training for both training and validation datasets.\n",
    "**-** After Training raining completion, the model's performance is visualized, plotting accuracy and loss across epochs to evaluate its effectiveness and performance.\n",
    "\n"
   ]
  },
  {
   "cell_type": "code",
   "execution_count": 216,
   "id": "965c6e0a",
   "metadata": {
    "scrolled": true
   },
   "outputs": [
    {
     "name": "stdout",
     "output_type": "stream",
     "text": [
      "Epoch 1/35\n",
      "862/862 [==============================] - 24s 26ms/step - loss: 0.8316 - accuracy: 0.7557 - f1_score: 0.8416 - val_loss: 0.5721 - val_accuracy: 0.9251 - val_f1_score: 0.9516 - lr: 0.0010\n",
      "Epoch 2/35\n",
      "862/862 [==============================] - 19s 23ms/step - loss: 0.5437 - accuracy: 0.8948 - f1_score: 0.9245 - val_loss: 0.5954 - val_accuracy: 0.8893 - val_f1_score: 0.9262 - lr: 0.0010\n",
      "Epoch 3/35\n",
      "862/862 [==============================] - 20s 23ms/step - loss: 0.5618 - accuracy: 0.8910 - f1_score: 0.9210 - val_loss: 0.5062 - val_accuracy: 0.9189 - val_f1_score: 0.9466 - lr: 0.0010\n",
      "Epoch 4/35\n",
      "862/862 [==============================] - 22s 25ms/step - loss: 0.4504 - accuracy: 0.9167 - f1_score: 0.9395 - val_loss: 0.3921 - val_accuracy: 0.9362 - val_f1_score: 0.9579 - lr: 0.0010\n",
      "Epoch 5/35\n",
      "862/862 [==============================] - 22s 25ms/step - loss: 0.3738 - accuracy: 0.9273 - f1_score: 0.9469 - val_loss: 0.3776 - val_accuracy: 0.9172 - val_f1_score: 0.9440 - lr: 0.0010\n",
      "Epoch 6/35\n",
      "862/862 [==============================] - 20s 23ms/step - loss: 0.3550 - accuracy: 0.9282 - f1_score: 0.9476 - val_loss: 0.3424 - val_accuracy: 0.9330 - val_f1_score: 0.9554 - lr: 0.0010\n",
      "Epoch 7/35\n",
      "862/862 [==============================] - 20s 24ms/step - loss: 0.3363 - accuracy: 0.9325 - f1_score: 0.9505 - val_loss: 0.3193 - val_accuracy: 0.9358 - val_f1_score: 0.9574 - lr: 0.0010\n",
      "Epoch 8/35\n",
      "862/862 [==============================] - 21s 25ms/step - loss: 0.3123 - accuracy: 0.9368 - f1_score: 0.9537 - val_loss: 0.3282 - val_accuracy: 0.9285 - val_f1_score: 0.9521 - lr: 0.0010\n",
      "Epoch 9/35\n",
      "862/862 [==============================] - 20s 24ms/step - loss: 0.3115 - accuracy: 0.9349 - f1_score: 0.9523 - val_loss: 0.3449 - val_accuracy: 0.9154 - val_f1_score: 0.9428 - lr: 0.0010\n",
      "Epoch 10/35\n",
      "862/862 [==============================] - 21s 24ms/step - loss: 0.2941 - accuracy: 0.9394 - f1_score: 0.9555 - val_loss: 0.2911 - val_accuracy: 0.9373 - val_f1_score: 0.9580 - lr: 0.0010\n",
      "Epoch 11/35\n",
      "862/862 [==============================] - 21s 24ms/step - loss: 0.2902 - accuracy: 0.9400 - f1_score: 0.9560 - val_loss: 0.2840 - val_accuracy: 0.9398 - val_f1_score: 0.9599 - lr: 0.0010\n",
      "Epoch 12/35\n",
      "862/862 [==============================] - 21s 24ms/step - loss: 0.2862 - accuracy: 0.9400 - f1_score: 0.9559 - val_loss: 0.3090 - val_accuracy: 0.9292 - val_f1_score: 0.9523 - lr: 0.0010\n",
      "Epoch 13/35\n",
      "862/862 [==============================] - 21s 24ms/step - loss: 0.2816 - accuracy: 0.9418 - f1_score: 0.9573 - val_loss: 0.2944 - val_accuracy: 0.9330 - val_f1_score: 0.9551 - lr: 0.0010\n",
      "Epoch 14/35\n",
      "862/862 [==============================] - 22s 25ms/step - loss: 0.2877 - accuracy: 0.9405 - f1_score: 0.9565 - val_loss: 0.3073 - val_accuracy: 0.9336 - val_f1_score: 0.9561 - lr: 0.0010\n",
      "Epoch 15/35\n",
      "862/862 [==============================] - 21s 25ms/step - loss: 0.2306 - accuracy: 0.9507 - f1_score: 0.9639 - val_loss: 0.1631 - val_accuracy: 0.9674 - val_f1_score: 0.9786 - lr: 2.0000e-04\n",
      "Epoch 16/35\n",
      "862/862 [==============================] - 21s 25ms/step - loss: 0.1554 - accuracy: 0.9671 - f1_score: 0.9759 - val_loss: 0.1252 - val_accuracy: 0.9733 - val_f1_score: 0.9825 - lr: 2.0000e-04\n",
      "Epoch 17/35\n",
      "862/862 [==============================] - 22s 26ms/step - loss: 0.1274 - accuracy: 0.9706 - f1_score: 0.9785 - val_loss: 0.1063 - val_accuracy: 0.9751 - val_f1_score: 0.9837 - lr: 2.0000e-04\n",
      "Epoch 18/35\n",
      "862/862 [==============================] - 25s 28ms/step - loss: 0.1119 - accuracy: 0.9723 - f1_score: 0.9798 - val_loss: 0.0946 - val_accuracy: 0.9773 - val_f1_score: 0.9852 - lr: 2.0000e-04\n",
      "Epoch 19/35\n",
      "862/862 [==============================] - 23s 27ms/step - loss: 0.1032 - accuracy: 0.9730 - f1_score: 0.9802 - val_loss: 0.1023 - val_accuracy: 0.9714 - val_f1_score: 0.9810 - lr: 2.0000e-04\n",
      "Epoch 20/35\n",
      "862/862 [==============================] - 22s 26ms/step - loss: 0.1037 - accuracy: 0.9721 - f1_score: 0.9796 - val_loss: 0.1049 - val_accuracy: 0.9713 - val_f1_score: 0.9812 - lr: 2.0000e-04\n",
      "Epoch 21/35\n",
      "862/862 [==============================] - 21s 24ms/step - loss: 0.1107 - accuracy: 0.9690 - f1_score: 0.9774 - val_loss: 0.1092 - val_accuracy: 0.9686 - val_f1_score: 0.9792 - lr: 2.0000e-04\n",
      "Epoch 22/35\n",
      "862/862 [==============================] - 23s 27ms/step - loss: 0.0971 - accuracy: 0.9744 - f1_score: 0.9813 - val_loss: 0.0746 - val_accuracy: 0.9817 - val_f1_score: 0.9881 - lr: 4.0000e-05\n",
      "Epoch 23/35\n",
      "862/862 [==============================] - 22s 26ms/step - loss: 0.0794 - accuracy: 0.9804 - f1_score: 0.9856 - val_loss: 0.0677 - val_accuracy: 0.9834 - val_f1_score: 0.9892 - lr: 4.0000e-05\n",
      "Epoch 24/35\n",
      "862/862 [==============================] - 21s 24ms/step - loss: 0.0728 - accuracy: 0.9821 - f1_score: 0.9869 - val_loss: 0.0637 - val_accuracy: 0.9845 - val_f1_score: 0.9899 - lr: 4.0000e-05\n",
      "Epoch 25/35\n",
      "862/862 [==============================] - 21s 24ms/step - loss: 0.0690 - accuracy: 0.9824 - f1_score: 0.9872 - val_loss: 0.0604 - val_accuracy: 0.9856 - val_f1_score: 0.9906 - lr: 4.0000e-05\n",
      "Epoch 26/35\n",
      "862/862 [==============================] - 20s 23ms/step - loss: 0.0654 - accuracy: 0.9836 - f1_score: 0.9880 - val_loss: 0.0579 - val_accuracy: 0.9859 - val_f1_score: 0.9908 - lr: 4.0000e-05\n",
      "Epoch 27/35\n",
      "862/862 [==============================] - 28s 32ms/step - loss: 0.0628 - accuracy: 0.9837 - f1_score: 0.9881 - val_loss: 0.0553 - val_accuracy: 0.9866 - val_f1_score: 0.9913 - lr: 4.0000e-05\n",
      "Epoch 28/35\n",
      "862/862 [==============================] - 22s 25ms/step - loss: 0.0611 - accuracy: 0.9840 - f1_score: 0.9883 - val_loss: 0.0534 - val_accuracy: 0.9865 - val_f1_score: 0.9912 - lr: 4.0000e-05\n",
      "Epoch 29/35\n",
      "862/862 [==============================] - 21s 25ms/step - loss: 0.0596 - accuracy: 0.9848 - f1_score: 0.9889 - val_loss: 0.0520 - val_accuracy: 0.9869 - val_f1_score: 0.9915 - lr: 4.0000e-05\n",
      "Epoch 30/35\n",
      "862/862 [==============================] - 21s 25ms/step - loss: 0.0578 - accuracy: 0.9847 - f1_score: 0.9888 - val_loss: 0.0504 - val_accuracy: 0.9874 - val_f1_score: 0.9918 - lr: 4.0000e-05\n",
      "Epoch 31/35\n",
      "862/862 [==============================] - 22s 25ms/step - loss: 0.0568 - accuracy: 0.9852 - f1_score: 0.9892 - val_loss: 0.0493 - val_accuracy: 0.9877 - val_f1_score: 0.9920 - lr: 4.0000e-05\n",
      "Epoch 32/35\n",
      "862/862 [==============================] - 23s 27ms/step - loss: 0.0555 - accuracy: 0.9858 - f1_score: 0.9896 - val_loss: 0.0481 - val_accuracy: 0.9877 - val_f1_score: 0.9920 - lr: 4.0000e-05\n",
      "Epoch 33/35\n",
      "862/862 [==============================] - 24s 28ms/step - loss: 0.0549 - accuracy: 0.9859 - f1_score: 0.9897 - val_loss: 0.0474 - val_accuracy: 0.9876 - val_f1_score: 0.9919 - lr: 4.0000e-05\n",
      "Epoch 34/35\n",
      "862/862 [==============================] - 21s 24ms/step - loss: 0.0536 - accuracy: 0.9865 - f1_score: 0.9901 - val_loss: 0.0474 - val_accuracy: 0.9876 - val_f1_score: 0.9919 - lr: 4.0000e-05\n",
      "Epoch 35/35\n",
      "862/862 [==============================] - 22s 25ms/step - loss: 0.0531 - accuracy: 0.9865 - f1_score: 0.9902 - val_loss: 0.0457 - val_accuracy: 0.9887 - val_f1_score: 0.9926 - lr: 4.0000e-05\n"
     ]
    },
    {
     "data": {
      "image/png": "[encoded data removed]",
      "text/plain": [
       "<Figure size 864x288 with 2 Axes>"
      ]
     },
     "metadata": {
      "needs_background": "light"
     },
     "output_type": "display_data"
    }
   ],
   "source": [
    "import os\n",
    "import numpy as np\n",
    "import tensorflow as tf\n",
    "import matplotlib.pyplot as plt\n",
    "import pandas as pd\n",
    "from tensorflow.keras import Model, regularizers, callbacks\n",
    "from tensorflow.keras.layers import (Embedding, Input, Flatten, Multiply, Concatenate, Dense, \n",
    "                                     Dropout, BatchNormalization)\n",
    "\n",
    "os.environ['TF_CPP_MIN_LOG_LEVEL'] = '2'\n",
    "\n",
    "num_users = df['UserId'].nunique()\n",
    "num_items = df['ProductId'].nunique()\n",
    "embedding_dim = 40\n",
    "reg_lambda = 0.001\n",
    "\n",
    "# GMF part\n",
    "user_input = Input(shape=(1,), dtype='int32', name='user_input')\n",
    "item_input = Input(shape=(1,), dtype='int32', name='item_input')\n",
    "user_embedding = Embedding(input_dim=num_users, output_dim=embedding_dim, \n",
    "                           embeddings_initializer='glorot_normal', \n",
    "                           embeddings_regularizer=regularizers.l2(reg_lambda))(user_input)\n",
    "item_embedding = Embedding(input_dim=num_items, output_dim=embedding_dim, \n",
    "                           embeddings_initializer='glorot_normal', \n",
    "                           embeddings_regularizer=regularizers.l2(reg_lambda))(item_input)\n",
    "gmf_mul = Multiply()([user_embedding, item_embedding])\n",
    "\n",
    "# MLP part\n",
    "mlp_concat = Concatenate()([user_embedding, item_embedding])\n",
    "mlp_layer = Dense(128, activation='relu', kernel_regularizer=regularizers.l2(reg_lambda))(mlp_concat)\n",
    "mlp_layer = BatchNormalization()(mlp_layer)\n",
    "mlp_layer = Dropout(0.3)(mlp_layer)\n",
    "mlp_layer = Dense(64, activation='relu', kernel_regularizer=regularizers.l2(reg_lambda))(mlp_layer)\n",
    "mlp_layer = BatchNormalization()(mlp_layer)\n",
    "mlp_layer = Dropout(0.3)(mlp_layer)\n",
    "mlp_layer = Dense(32, activation='relu', kernel_regularizer=regularizers.l2(reg_lambda))(mlp_layer)\n",
    "\n",
    "# Merge GMF + MLP\n",
    "merge_vector = Concatenate()([gmf_mul, mlp_layer])\n",
    "flatten_layer = Flatten()(merge_vector)\n",
    "output_layer = Dense(1, activation='sigmoid')(flatten_layer)\n",
    "\n",
    "model = Model([user_input, item_input], output_layer)\n",
    "\n",
    "optimizer = tf.keras.optimizers.Adam(learning_rate=0.001)\n",
    "reduce_lr = callbacks.ReduceLROnPlateau(monitor='val_loss', factor=0.2, patience=3, min_lr=1e-6)\n",
    "\n",
    "def f1_score(y_true, y_pred):\n",
    "    y_pred = tf.math.round(y_pred)\n",
    "    tp = tf.math.reduce_sum(tf.cast(y_true * y_pred, dtype=tf.float32))\n",
    "    fp = tf.math.reduce_sum(tf.cast((1-y_true) * y_pred, dtype=tf.float32))\n",
    "    fn = tf.math.reduce_sum(tf.cast(y_true * (1-y_pred), dtype=tf.float32))\n",
    "    \n",
    "    precision = tp / (tp + fp + 1e-16)\n",
    "    recall = tp / (tp + fn + 1e-16)\n",
    "    f1 = 2 * (precision * recall) / (precision + recall + 1e-16)\n",
    "    return f1\n",
    "\n",
    "model.compile(optimizer=optimizer, loss='binary_crossentropy', metrics=['accuracy', f1_score])\n",
    "\n",
    "early_stopping = callbacks.EarlyStopping(monitor='val_loss', patience=5, restore_best_weights=True)\n",
    "\n",
    "# Data Augmentation: Adding negative samples\n",
    "neg_samples = df[df['Score'] < 4].sample(frac=0.5)\n",
    "df_augmented = pd.concat([df, neg_samples])\n",
    "\n",
    "X_train = [df_augmented['UserId'].values, df_augmented['ProductId'].values]\n",
    "y_train = np.array([1 if i >= 4 else 0 for i in df_augmented['Score'].values])\n",
    "X_test = [test['UserId'].values, test['ProductId'].values]\n",
    "y_test = np.array([1 if i >= 4 else 0 for i in test['Score'].values])\n",
    "\n",
    "# Code for running model upto 35 epochs.\n",
    "history = model.fit(X_train, y_train, epochs=35, batch_size=128, \n",
    "                    validation_data=(X_test, y_test), callbacks=[early_stopping, reduce_lr])\n",
    "\n",
    "train_accuracy = history.history['accuracy']\n",
    "val_accuracy = history.history['val_accuracy']\n",
    "train_loss = history.history['loss']\n",
    "val_loss = history.history['val_loss']\n",
    "\n",
    "epochs = range(1, len(train_accuracy) + 1)\n",
    "\n",
    "plt.figure(figsize=(12, 4))\n",
    "plt.subplot(1, 2, 1)\n",
    "plt.plot(epochs, train_accuracy, 'b-', label='Training accuracy')\n",
    "plt.plot(epochs, val_accuracy, 'r-', label='Validation accuracy')\n",
    "plt.title('Training and Validation Accuracy')\n",
    "plt.xlabel('Epochs')\n",
    "plt.ylabel('Accuracy')\n",
    "plt.legend()\n",
    "\n",
    "plt.subplot(1, 2, 2)\n",
    "plt.plot(epochs, train_loss, 'b-', label='Training loss')\n",
    "plt.plot(epochs, val_loss, 'r-', label='Validation loss')\n",
    "plt.title('Training and Validation Loss')\n",
    "plt.xlabel('Epochs')\n",
    "plt.ylabel('Loss')\n",
    "plt.legend()\n",
    "\n",
    "plt.tight_layout()\n",
    "plt.show()\n"
   ]
  },
  {
   "cell_type": "markdown",
   "id": "13242161",
   "metadata": {},
   "source": [
    "The output shows the result on following variables.\n",
    "\n",
    "1.Epochs- It displays the number of times the neural network processed on dataset. Out of  35 epochs, the neural network has completed 34 in this output.\n",
    "\n",
    "2.862/862- This shows that 862 batches of data were processed in each epoch. This suggests that the full dataset is split into 862 batches.\n",
    "\n",
    "From epochs 1 to 34, the model's performance during training and validation has gradually improved. Around epoch 15, performance enhanced significantly, probably as a result of a slower pace of learning that allowed for more accurate corrections. The accuracy of the validation by epoch 34 was 98.76% and results shows that model is performing well.\n",
    "\n",
    "\n",
    "\n",
    "\n"
   ]
  },
  {
   "cell_type": "markdown",
   "id": "f3232379",
   "metadata": {},
   "source": [
    "The code below is computing RMSE, Precision, Recall and F1 Score of NCF deep-learning model."
   ]
  },
  {
   "cell_type": "code",
   "execution_count": 218,
   "id": "11f0f3ce",
   "metadata": {},
   "outputs": [
    {
     "name": "stdout",
     "output_type": "stream",
     "text": [
      "RMSE: 0.08896161097623842\n",
      "Precision: 0.9965325482499182\n",
      "Recall: 0.9887698799091205\n",
      "F1 Score: 0.992636037797328\n"
     ]
    }
   ],
   "source": [
    "from sklearn.metrics import mean_squared_error, precision_score, recall_score, f1_score\n",
    "\n",
    "# Geting predictions\n",
    "y_pred = model.predict(X_test)\n",
    "y_pred_rounded = np.round(y_pred).flatten()\n",
    "\n",
    "# Calculating RMSE\n",
    "mse = mean_squared_error(y_test, y_pred)\n",
    "rmse = np.sqrt(mse)\n",
    "print(\"RMSE:\", rmse)\n",
    "\n",
    "# Calculating Precision, Recall, and F1 Score\n",
    "precision = precision_score(y_test, y_pred_rounded)\n",
    "recall = recall_score(y_test, y_pred_rounded)\n",
    "f1 = f1_score(y_test, y_pred_rounded)\n",
    "\n",
    "print(\"Precision:\", precision)\n",
    "print(\"Recall:\", recall)\n",
    "print(\"F1 Score:\", f1)\n"
   ]
  },
  {
   "cell_type": "markdown",
   "id": "6ff72313",
   "metadata": {},
   "source": [
    "***Code cells below is doing comparison between old  SVD model with parameters {'n_epochs': 20, 'lr_all': 0.01, 'reg_all': 0.2} , Improved SVD model with parameters  {'n_epochs': 30, 'lr_all': 0.01, 'reg_all': 0.02} and NCF (Neural Collaborative Filtering) model.***\n"
   ]
  },
  {
   "cell_type": "markdown",
   "id": "7a1958be",
   "metadata": {},
   "source": [
    "The code cell below is doing compariosn between SVD model with parameters {'n_epochs': 20, 'lr_all': 0.01, 'reg_all': 0.2} , Improved SVD model with parameters  {'n_epochs': 30, 'lr_all': 0.01, 'reg_all': 0.02} and NCF (Neural Collaborative Filtering) model in tabular form and displaying RMSE, Precision , Recall and F1 score of all three models."
   ]
  },
  {
   "cell_type": "code",
   "execution_count": 225,
   "id": "da3500bd",
   "metadata": {},
   "outputs": [
    {
     "name": "stdout",
     "output_type": "stream",
     "text": [
      "     Metrics   Old SVD   New SVD  NCF Model\n",
      "0       RMSE  1.217102  1.180989   0.088962\n",
      "1  Precision  0.989300  0.859500   0.996533\n",
      "2     Recall  0.904100  0.781200   0.988770\n",
      "3   F1 Score  0.944800  0.818500   0.992636\n"
     ]
    }
   ],
   "source": [
    "import pandas as pd\n",
    "\n",
    "# Data\n",
    "data = {\n",
    "    'Metrics': labels,\n",
    "    'Old SVD': old_svd_values,\n",
    "    'New SVD': new_svd_values,\n",
    "    'NCF Model': [0.08896161097623842, 0.9965325482499182, 0.9887698799091205, 0.992636037797328]\n",
    "}\n",
    "\n",
    "\n",
    "df = pd.DataFrame(data)\n",
    "\n",
    "# Printing Comparison table.\n",
    "print(df)\n"
   ]
  },
  {
   "cell_type": "markdown",
   "id": "66b6d332",
   "metadata": {},
   "source": [
    "The code cell below is doing compariosn between SVD model with parameters {'n_epochs': 20, 'lr_all': 0.01, 'reg_all': 0.2} , Improved SVD model with parameters  {'n_epochs': 30, 'lr_all': 0.01, 'reg_all': 0.02} and NCF (Neural Collaborative Filtering) model in histogram and displaying RMSE, Precision , Recall and F1 score of all three models."
   ]
  },
  {
   "cell_type": "code",
   "execution_count": 226,
   "id": "b91c09bb",
   "metadata": {},
   "outputs": [
    {
     "data": {
      "image/png": "[encoded data removed]",
      "text/plain": [
       "<Figure size 720x432 with 1 Axes>"
      ]
     },
     "metadata": {
      "needs_background": "light"
     },
     "output_type": "display_data"
    }
   ],
   "source": [
    "import matplotlib.pyplot as plt\n",
    "\n",
    "\n",
    "fig, ax = plt.subplots(figsize=(10, 6))\n",
    "\n",
    "# Plotting values all three model\n",
    "df.plot(kind='bar', ax=ax, x='Metrics')\n",
    "\n",
    "# ploting histogram\n",
    "ax.set_title('Model Metrics Comparison')\n",
    "ax.set_ylabel('Value')\n",
    "ax.set_xlabel('Metrics')\n",
    "ax.grid(True, axis='y', linestyle='--', linewidth=0.7, alpha=0.7)\n",
    "plt.tight_layout()\n",
    "\n",
    "\n",
    "plt.show()\n"
   ]
  },
  {
   "cell_type": "markdown",
   "id": "fc806071",
   "metadata": {},
   "source": [
    "The code cell below is doing compariosn between SVD model with parameters {'n_epochs': 20, 'lr_all': 0.01, 'reg_all': 0.2} , Improved SVD model with parameters  {'n_epochs': 30, 'lr_all': 0.01, 'reg_all': 0.02} and NCF (Neural Collaborative Filtering) model in heatmap form and displaying RMSE, Precision , Recall and F1 score of all three models."
   ]
  },
  {
   "cell_type": "code",
   "execution_count": 230,
   "id": "84111f44",
   "metadata": {},
   "outputs": [
    {
     "data": {
      "image/png": "[encoded data removed]",
      "text/plain": [
       "<Figure size 720x432 with 2 Axes>"
      ]
     },
     "metadata": {
      "needs_background": "light"
     },
     "output_type": "display_data"
    }
   ],
   "source": [
    "import seaborn as sns\n",
    "\n",
    "# Preparing data for heatmap and droping Metrices columns.\n",
    "heatmap_data = df.drop(columns='Metrics').set_index(df['Metrics'])\n",
    "\n",
    "# Ploating the heatmap\n",
    "plt.figure(figsize=(10, 6))\n",
    "sns.heatmap(heatmap_data, annot=True, cmap='viridis', linewidths=.)\n",
    "\n",
    "# setting up heatmap\n",
    "plt.title('Model Metrics Heatmap')\n",
    "plt.xlabel('Models')\n",
    "plt.ylabel('Metrics')\n",
    "plt.tight_layout()\n",
    "\n",
    "\n",
    "plt.show()\n"
   ]
  },
  {
   "cell_type": "markdown",
   "id": "55156605",
   "metadata": {},
   "source": [
    "The code cell below is doing compariosn between SVD model with parameters {'n_epochs': 20, 'lr_all': 0.01, 'reg_all': 0.2} , Improved SVD model with parameters  {'n_epochs': 30, 'lr_all': 0.01, 'reg_all': 0.02} and NCF (Neural Collaborative Filtering) model in spider chart and displaying RMSE, Precision , Recall and F1 score of all three models."
   ]
  },
  {
   "cell_type": "code",
   "execution_count": 235,
   "id": "435d505a",
   "metadata": {},
   "outputs": [
    {
     "data": {
      "image/png": "[encoded data removed]",
      "text/plain": [
       "<Figure size 432x432 with 1 Axes>"
      ]
     },
     "metadata": {},
     "output_type": "display_data"
    }
   ],
   "source": [
    "import matplotlib.pyplot as plt\n",
    "import numpy as np\n",
    "\n",
    "\n",
    "labels = ['RMSE', 'Precision', 'Recall', 'F1 Score']\n",
    "\n",
    "\n",
    "old_svd_values = [1.217102048662859, 0.9893, 0.9041, 0.9448]\n",
    "new_svd_values = [1.1809891560964174, 0.8595, 0.7812, 0.8185]\n",
    "ncf_values = [0.08896161097623842, 0.9965325482499182, 0.9887698799091205, 0.992636037797328]\n",
    "\n",
    "\n",
    "max_rmse = max(old_svd_values[0], new_svd_values[0], ncf_values[0])\n",
    "old_svd_values[0] = max_rmse - old_svd_values[0] + 0.05 # Adding a small constant to ensure positive values\n",
    "new_svd_values[0] = max_rmse - new_svd_values[0] + 0.05\n",
    "ncf_values[0] = max_rmse - ncf_values[0] + 0.05\n",
    "\n",
    "# Create the angle for every axis\n",
    "angles = np.linspace(0, 2 * np.pi, len(labels), endpoint=False).tolist()\n",
    "angles += angles[:1] \n",
    "\n",
    "# Setting up figures and axis\n",
    "fig, ax = plt.subplots(figsize=(6, 6), subplot_kw=dict(polar=True))\n",
    "plt.xticks(angles[:-1], labels, color='grey', size=12)\n",
    "\n",
    "# Ploating Old SVD Model metrices\n",
    "values = old_svd_values\n",
    "values += values[:1] \n",
    "ax.plot(angles, values, linewidth=2, linestyle='solid', label='Old SVD')\n",
    "ax.fill(angles, values, alpha=0.25)\n",
    "\n",
    "# Ploating new SVD model Metrices\n",
    "values = new_svd_values\n",
    "values += values[:1]\n",
    "ax.plot(angles, values, linewidth=2, linestyle='solid', label='New SVD')\n",
    "ax.fill(angles, values, alpha=0.25)\n",
    "\n",
    "# Ploating NCF model Metrices\n",
    "values = ncf_values\n",
    "values += values[:1]\n",
    "ax.plot(angles, values, linewidth=2, linestyle='solid', label='NCF')\n",
    "ax.fill(angles, values, alpha=0.25)\n",
    "\n",
    "# Adding legend and title\n",
    "ax.legend(loc='upper right', bbox_to_anchor=(1.3, 1.1))\n",
    "plt.title('Model Comparison using Spider Chart')\n",
    "\n",
    "plt.show()\n"
   ]
  },
  {
   "cell_type": "markdown",
   "id": "d44f08ca",
   "metadata": {},
   "source": [
    "The code cell below is installing python library plotly."
   ]
  },
  {
   "cell_type": "code",
   "execution_count": 232,
   "id": "0b79ba99",
   "metadata": {},
   "outputs": [
    {
     "name": "stdout",
     "output_type": "stream",
     "text": [
      "Requirement already satisfied: plotly in /Library/Frameworks/Python.framework/Versions/3.9/lib/python3.9/site-packages (5.6.0)\n",
      "Requirement already satisfied: tenacity>=6.2.0 in /Library/Frameworks/Python.framework/Versions/3.9/lib/python3.9/site-packages (from plotly) (8.0.1)\n",
      "Requirement already satisfied: six in /Library/Frameworks/Python.framework/Versions/3.9/lib/python3.9/site-packages (from plotly) (1.16.0)\n",
      "Note: you may need to restart the kernel to use updated packages.\n"
     ]
    }
   ],
   "source": [
    "pip install plotly\n"
   ]
  },
  {
   "cell_type": "markdown",
   "id": "6160bad7",
   "metadata": {},
   "source": [
    "The code cell below is doing compariosn between SVD model with parameters {'n_epochs': 20, 'lr_all': 0.01, 'reg_all': 0.2} , Improved SVD model with parameters  {'n_epochs': 30, 'lr_all': 0.01, 'reg_all': 0.02} and NCF (Neural Collaborative Filtering) model in form of interactive graph for by using plotly python library and  displaying RMSE, Precision , Recall and F1 score of all three models."
   ]
  },
  {
   "cell_type": "code",
   "execution_count": 236,
   "id": "0279c090",
   "metadata": {
    "scrolled": true
   },
   "outputs": [
    {
     "data": {
      "application/vnd.plotly.v1+json": {
       "config": {
        "plotlyServerURL": "https://plot.ly"
       },
       "data": [
        {
         "name": "Old SVD",
         "text": [
          "1.217102048662859",
          "0.9893",
          "0.9041",
          "0.9448"
         ],
         "textposition": "auto",
         "type": "bar",
         "x": [
          "RMSE",
          "Precision",
          "Recall",
          "F1 Score"
         ],
         "y": [
          1.217102048662859,
          0.9893,
          0.9041,
          0.9448
         ]
        },
        {
         "name": "New SVD",
         "text": [
          "1.1809891560964174",
          "0.8595",
          "0.7812",
          "0.8185"
         ],
         "textposition": "auto",
         "type": "bar",
         "x": [
          "RMSE",
          "Precision",
          "Recall",
          "F1 Score"
         ],
         "y": [
          1.1809891560964174,
          0.8595,
          0.7812,
          0.8185
         ]
        },
        {
         "name": "NCF",
         "text": [
          "0.08896161097623842",
          "0.9965325482499182",
          "0.9887698799091205",
          "0.992636037797328"
         ],
         "textposition": "auto",
         "type": "bar",
         "x": [
          "RMSE",
          "Precision",
          "Recall",
          "F1 Score"
         ],
         "y": [
          0.08896161097623842,
          0.9965325482499182,
          0.9887698799091205,
          0.992636037797328
         ]
        }
       ],
       "layout": {
        "barmode": "group",
        "legend": {
         "title": {
          "text": "Models"
         }
        },
        "template": {
         "data": {
          "bar": [
           {
            "error_x": {
             "color": "#2a3f5f"
            },
            "error_y": {
             "color": "#2a3f5f"
            },
            "marker": {
             "line": {
              "color": "#E5ECF6",
              "width": 0.5
             },
             "pattern": {
              "fillmode": "overlay",
              "size": 10,
              "solidity": 0.2
             }
            },
            "type": "bar"
           }
          ],
          "barpolar": [
           {
            "marker": {
             "line": {
              "color": "#E5ECF6",
              "width": 0.5
             },
             "pattern": {
              "fillmode": "overlay",
              "size": 10,
              "solidity": 0.2
             }
            },
            "type": "barpolar"
           }
          ],
          "carpet": [
           {
            "aaxis": {
             "endlinecolor": "#2a3f5f",
             "gridcolor": "white",
             "linecolor": "white",
             "minorgridcolor": "white",
             "startlinecolor": "#2a3f5f"
            },
            "baxis": {
             "endlinecolor": "#2a3f5f",
             "gridcolor": "white",
             "linecolor": "white",
             "minorgridcolor": "white",
             "startlinecolor": "#2a3f5f"
            },
            "type": "carpet"
           }
          ],
          "choropleth": [
           {
            "colorbar": {
             "outlinewidth": 0,
             "ticks": ""
            },
            "type": "choropleth"
           }
          ],
          "contour": [
           {
            "colorbar": {
             "outlinewidth": 0,
             "ticks": ""
            },
            "colorscale": [
             [
              0,
              "#0d0887"
             ],
             [
              0.1111111111111111,
              "#46039f"
             ],
             [
              0.2222222222222222,
              "#7201a8"
             ],
             [
              0.3333333333333333,
              "#9c179e"
             ],
             [
              0.4444444444444444,
              "#bd3786"
             ],
             [
              0.5555555555555556,
              "#d8576b"
             ],
             [
              0.6666666666666666,
              "#ed7953"
             ],
             [
              0.7777777777777778,
              "#fb9f3a"
             ],
             [
              0.8888888888888888,
              "#fdca26"
             ],
             [
              1,
              "#f0f921"
             ]
            ],
            "type": "contour"
           }
          ],
          "contourcarpet": [
           {
            "colorbar": {
             "outlinewidth": 0,
             "ticks": ""
            },
            "type": "contourcarpet"
           }
          ],
          "heatmap": [
           {
            "colorbar": {
             "outlinewidth": 0,
             "ticks": ""
            },
            "colorscale": [
             [
              0,
              "#0d0887"
             ],
             [
              0.1111111111111111,
              "#46039f"
             ],
             [
              0.2222222222222222,
              "#7201a8"
             ],
             [
              0.3333333333333333,
              "#9c179e"
             ],
             [
              0.4444444444444444,
              "#bd3786"
             ],
             [
              0.5555555555555556,
              "#d8576b"
             ],
             [
              0.6666666666666666,
              "#ed7953"
             ],
             [
              0.7777777777777778,
              "#fb9f3a"
             ],
             [
              0.8888888888888888,
              "#fdca26"
             ],
             [
              1,
              "#f0f921"
             ]
            ],
            "type": "heatmap"
           }
          ],
          "heatmapgl": [
           {
            "colorbar": {
             "outlinewidth": 0,
             "ticks": ""
            },
            "colorscale": [
             [
              0,
              "#0d0887"
             ],
             [
              0.1111111111111111,
              "#46039f"
             ],
             [
              0.2222222222222222,
              "#7201a8"
             ],
             [
              0.3333333333333333,
              "#9c179e"
             ],
             [
              0.4444444444444444,
              "#bd3786"
             ],
             [
              0.5555555555555556,
              "#d8576b"
             ],
             [
              0.6666666666666666,
              "#ed7953"
             ],
             [
              0.7777777777777778,
              "#fb9f3a"
             ],
             [
              0.8888888888888888,
              "#fdca26"
             ],
             [
              1,
              "#f0f921"
             ]
            ],
            "type": "heatmapgl"
           }
          ],
          "histogram": [
           {
            "marker": {
             "pattern": {
              "fillmode": "overlay",
              "size": 10,
              "solidity": 0.2
             }
            },
            "type": "histogram"
           }
          ],
          "histogram2d": [
           {
            "colorbar": {
             "outlinewidth": 0,
             "ticks": ""
            },
            "colorscale": [
             [
              0,
              "#0d0887"
             ],
             [
              0.1111111111111111,
              "#46039f"
             ],
             [
              0.2222222222222222,
              "#7201a8"
             ],
             [
              0.3333333333333333,
              "#9c179e"
             ],
             [
              0.4444444444444444,
              "#bd3786"
             ],
             [
              0.5555555555555556,
              "#d8576b"
             ],
             [
              0.6666666666666666,
              "#ed7953"
             ],
             [
              0.7777777777777778,
              "#fb9f3a"
             ],
             [
              0.8888888888888888,
              "#fdca26"
             ],
             [
              1,
              "#f0f921"
             ]
            ],
            "type": "histogram2d"
           }
          ],
          "histogram2dcontour": [
           {
            "colorbar": {
             "outlinewidth": 0,
             "ticks": ""
            },
            "colorscale": [
             [
              0,
              "#0d0887"
             ],
             [
              0.1111111111111111,
              "#46039f"
             ],
             [
              0.2222222222222222,
              "#7201a8"
             ],
             [
              0.3333333333333333,
              "#9c179e"
             ],
             [
              0.4444444444444444,
              "#bd3786"
             ],
             [
              0.5555555555555556,
              "#d8576b"
             ],
             [
              0.6666666666666666,
              "#ed7953"
             ],
             [
              0.7777777777777778,
              "#fb9f3a"
             ],
             [
              0.8888888888888888,
              "#fdca26"
             ],
             [
              1,
              "#f0f921"
             ]
            ],
            "type": "histogram2dcontour"
           }
          ],
          "mesh3d": [
           {
            "colorbar": {
             "outlinewidth": 0,
             "ticks": ""
            },
            "type": "mesh3d"
           }
          ],
          "parcoords": [
           {
            "line": {
             "colorbar": {
              "outlinewidth": 0,
              "ticks": ""
             }
            },
            "type": "parcoords"
           }
          ],
          "pie": [
           {
            "automargin": true,
            "type": "pie"
           }
          ],
          "scatter": [
           {
            "marker": {
             "colorbar": {
              "outlinewidth": 0,
              "ticks": ""
             }
            },
            "type": "scatter"
           }
          ],
          "scatter3d": [
           {
            "line": {
             "colorbar": {
              "outlinewidth": 0,
              "ticks": ""
             }
            },
            "marker": {
             "colorbar": {
              "outlinewidth": 0,
              "ticks": ""
             }
            },
            "type": "scatter3d"
           }
          ],
          "scattercarpet": [
           {
            "marker": {
             "colorbar": {
              "outlinewidth": 0,
              "ticks": ""
             }
            },
            "type": "scattercarpet"
           }
          ],
          "scattergeo": [
           {
            "marker": {
             "colorbar": {
              "outlinewidth": 0,
              "ticks": ""
             }
            },
            "type": "scattergeo"
           }
          ],
          "scattergl": [
           {
            "marker": {
             "colorbar": {
              "outlinewidth": 0,
              "ticks": ""
             }
            },
            "type": "scattergl"
           }
          ],
          "scattermapbox": [
           {
            "marker": {
             "colorbar": {
              "outlinewidth": 0,
              "ticks": ""
             }
            },
            "type": "scattermapbox"
           }
          ],
          "scatterpolar": [
           {
            "marker": {
             "colorbar": {
              "outlinewidth": 0,
              "ticks": ""
             }
            },
            "type": "scatterpolar"
           }
          ],
          "scatterpolargl": [
           {
            "marker": {
             "colorbar": {
              "outlinewidth": 0,
              "ticks": ""
             }
            },
            "type": "scatterpolargl"
           }
          ],
          "scatterternary": [
           {
            "marker": {
             "colorbar": {
              "outlinewidth": 0,
              "ticks": ""
             }
            },
            "type": "scatterternary"
           }
          ],
          "surface": [
           {
            "colorbar": {
             "outlinewidth": 0,
             "ticks": ""
            },
            "colorscale": [
             [
              0,
              "#0d0887"
             ],
             [
              0.1111111111111111,
              "#46039f"
             ],
             [
              0.2222222222222222,
              "#7201a8"
             ],
             [
              0.3333333333333333,
              "#9c179e"
             ],
             [
              0.4444444444444444,
              "#bd3786"
             ],
             [
              0.5555555555555556,
              "#d8576b"
             ],
             [
              0.6666666666666666,
              "#ed7953"
             ],
             [
              0.7777777777777778,
              "#fb9f3a"
             ],
             [
              0.8888888888888888,
              "#fdca26"
             ],
             [
              1,
              "#f0f921"
             ]
            ],
            "type": "surface"
           }
          ],
          "table": [
           {
            "cells": {
             "fill": {
              "color": "#EBF0F8"
             },
             "line": {
              "color": "white"
             }
            },
            "header": {
             "fill": {
              "color": "#C8D4E3"
             },
             "line": {
              "color": "white"
             }
            },
            "type": "table"
           }
          ]
         },
         "layout": {
          "annotationdefaults": {
           "arrowcolor": "#2a3f5f",
           "arrowhead": 0,
           "arrowwidth": 1
          },
          "autotypenumbers": "strict",
          "coloraxis": {
           "colorbar": {
            "outlinewidth": 0,
            "ticks": ""
           }
          },
          "colorscale": {
           "diverging": [
            [
             0,
             "#8e0152"
            ],
            [
             0.1,
             "#c51b7d"
            ],
            [
             0.2,
             "#de77ae"
            ],
            [
             0.3,
             "#f1b6da"
            ],
            [
             0.4,
             "#fde0ef"
            ],
            [
             0.5,
             "#f7f7f7"
            ],
            [
             0.6,
             "#e6f5d0"
            ],
            [
             0.7,
             "#b8e186"
            ],
            [
             0.8,
             "#7fbc41"
            ],
            [
             0.9,
             "#4d9221"
            ],
            [
             1,
             "#276419"
            ]
           ],
           "sequential": [
            [
             0,
             "#0d0887"
            ],
            [
             0.1111111111111111,
             "#46039f"
            ],
            [
             0.2222222222222222,
             "#7201a8"
            ],
            [
             0.3333333333333333,
             "#9c179e"
            ],
            [
             0.4444444444444444,
             "#bd3786"
            ],
            [
             0.5555555555555556,
             "#d8576b"
            ],
            [
             0.6666666666666666,
             "#ed7953"
            ],
            [
             0.7777777777777778,
             "#fb9f3a"
            ],
            [
             0.8888888888888888,
             "#fdca26"
            ],
            [
             1,
             "#f0f921"
            ]
           ],
           "sequentialminus": [
            [
             0,
             "#0d0887"
            ],
            [
             0.1111111111111111,
             "#46039f"
            ],
            [
             0.2222222222222222,
             "#7201a8"
            ],
            [
             0.3333333333333333,
             "#9c179e"
            ],
            [
             0.4444444444444444,
             "#bd3786"
            ],
            [
             0.5555555555555556,
             "#d8576b"
            ],
            [
             0.6666666666666666,
             "#ed7953"
            ],
            [
             0.7777777777777778,
             "#fb9f3a"
            ],
            [
             0.8888888888888888,
             "#fdca26"
            ],
            [
             1,
             "#f0f921"
            ]
           ]
          },
          "colorway": [
           "#636efa",
           "#EF553B",
           "#00cc96",
           "#ab63fa",
           "#FFA15A",
           "#19d3f3",
           "#FF6692",
           "#B6E880",
           "#FF97FF",
           "#FECB52"
          ],
          "font": {
           "color": "#2a3f5f"
          },
          "geo": {
           "bgcolor": "white",
           "lakecolor": "white",
           "landcolor": "#E5ECF6",
           "showlakes": true,
           "showland": true,
           "subunitcolor": "white"
          },
          "hoverlabel": {
           "align": "left"
          },
          "hovermode": "closest",
          "mapbox": {
           "style": "light"
          },
          "paper_bgcolor": "white",
          "plot_bgcolor": "#E5ECF6",
          "polar": {
           "angularaxis": {
            "gridcolor": "white",
            "linecolor": "white",
            "ticks": ""
           },
           "bgcolor": "#E5ECF6",
           "radialaxis": {
            "gridcolor": "white",
            "linecolor": "white",
            "ticks": ""
           }
          },
          "scene": {
           "xaxis": {
            "backgroundcolor": "#E5ECF6",
            "gridcolor": "white",
            "gridwidth": 2,
            "linecolor": "white",
            "showbackground": true,
            "ticks": "",
            "zerolinecolor": "white"
           },
           "yaxis": {
            "backgroundcolor": "#E5ECF6",
            "gridcolor": "white",
            "gridwidth": 2,
            "linecolor": "white",
            "showbackground": true,
            "ticks": "",
            "zerolinecolor": "white"
           },
           "zaxis": {
            "backgroundcolor": "#E5ECF6",
            "gridcolor": "white",
            "gridwidth": 2,
            "linecolor": "white",
            "showbackground": true,
            "ticks": "",
            "zerolinecolor": "white"
           }
          },
          "shapedefaults": {
           "line": {
            "color": "#2a3f5f"
           }
          },
          "ternary": {
           "aaxis": {
            "gridcolor": "white",
            "linecolor": "white",
            "ticks": ""
           },
           "baxis": {
            "gridcolor": "white",
            "linecolor": "white",
            "ticks": ""
           },
           "bgcolor": "#E5ECF6",
           "caxis": {
            "gridcolor": "white",
            "linecolor": "white",
            "ticks": ""
           }
          },
          "title": {
           "x": 0.05
          },
          "xaxis": {
           "automargin": true,
           "gridcolor": "white",
           "linecolor": "white",
           "ticks": "",
           "title": {
            "standoff": 15
           },
           "zerolinecolor": "white",
           "zerolinewidth": 2
          },
          "yaxis": {
           "automargin": true,
           "gridcolor": "white",
           "linecolor": "white",
           "ticks": "",
           "title": {
            "standoff": 15
           },
           "zerolinecolor": "white",
           "zerolinewidth": 2
          }
         }
        },
        "title": {
         "text": "Comparison of Models on Different Metrics"
        },
        "xaxis": {
         "title": {
          "text": "Metrics"
         }
        },
        "yaxis": {
         "title": {
          "text": "Values"
         }
        }
       }
      },
      "text/html": [
       "<div>                            <div id=\"96b28b53-1e5e-4f4c-a9a3-28d70bd2088a\" class=\"plotly-graph-div\" style=\"height:525px; width:100%;\"></div>            <script type=\"text/javascript\">                require([\"plotly\"], function(Plotly) {                    window.PLOTLYENV=window.PLOTLYENV || {};                                    if (document.getElementById(\"96b28b53-1e5e-4f4c-a9a3-28d70bd2088a\")) {                    Plotly.newPlot(                        \"96b28b53-1e5e-4f4c-a9a3-28d70bd2088a\",                        [{\"name\":\"Old SVD\",\"text\":[\"1.217102048662859\",\"0.9893\",\"0.9041\",\"0.9448\"],\"textposition\":\"auto\",\"x\":[\"RMSE\",\"Precision\",\"Recall\",\"F1 Score\"],\"y\":[1.217102048662859,0.9893,0.9041,0.9448],\"type\":\"bar\"},{\"name\":\"New SVD\",\"text\":[\"1.1809891560964174\",\"0.8595\",\"0.7812\",\"0.8185\"],\"textposition\":\"auto\",\"x\":[\"RMSE\",\"Precision\",\"Recall\",\"F1 Score\"],\"y\":[1.1809891560964174,0.8595,0.7812,0.8185],\"type\":\"bar\"},{\"name\":\"NCF\",\"text\":[\"0.08896161097623842\",\"0.9965325482499182\",\"0.9887698799091205\",\"0.992636037797328\"],\"textposition\":\"auto\",\"x\":[\"RMSE\",\"Precision\",\"Recall\",\"F1 Score\"],\"y\":[0.08896161097623842,0.9965325482499182,0.9887698799091205,0.992636037797328],\"type\":\"bar\"}],                        {\"template\":{\"data\":{\"bar\":[{\"error_x\":{\"color\":\"#2a3f5f\"},\"error_y\":{\"color\":\"#2a3f5f\"},\"marker\":{\"line\":{\"color\":\"#E5ECF6\",\"width\":0.5},\"pattern\":{\"fillmode\":\"overlay\",\"size\":10,\"solidity\":0.2}},\"type\":\"bar\"}],\"barpolar\":[{\"marker\":{\"line\":{\"color\":\"#E5ECF6\",\"width\":0.5},\"pattern\":{\"fillmode\":\"overlay\",\"size\":10,\"solidity\":0.2}},\"type\":\"barpolar\"}],\"carpet\":[{\"aaxis\":{\"endlinecolor\":\"#2a3f5f\",\"gridcolor\":\"white\",\"linecolor\":\"white\",\"minorgridcolor\":\"white\",\"startlinecolor\":\"#2a3f5f\"},\"baxis\":{\"endlinecolor\":\"#2a3f5f\",\"gridcolor\":\"white\",\"linecolor\":\"white\",\"minorgridcolor\":\"white\",\"startlinecolor\":\"#2a3f5f\"},\"type\":\"carpet\"}],\"choropleth\":[{\"colorbar\":{\"outlinewidth\":0,\"ticks\":\"\"},\"type\":\"choropleth\"}],\"contour\":[{\"colorbar\":{\"outlinewidth\":0,\"ticks\":\"\"},\"colorscale\":[[0.0,\"#0d0887\"],[0.1111111111111111,\"#46039f\"],[0.2222222222222222,\"#7201a8\"],[0.3333333333333333,\"#9c179e\"],[0.4444444444444444,\"#bd3786\"],[0.5555555555555556,\"#d8576b\"],[0.6666666666666666,\"#ed7953\"],[0.7777777777777778,\"#fb9f3a\"],[0.8888888888888888,\"#fdca26\"],[1.0,\"#f0f921\"]],\"type\":\"contour\"}],\"contourcarpet\":[{\"colorbar\":{\"outlinewidth\":0,\"ticks\":\"\"},\"type\":\"contourcarpet\"}],\"heatmap\":[{\"colorbar\":{\"outlinewidth\":0,\"ticks\":\"\"},\"colorscale\":[[0.0,\"#0d0887\"],[0.1111111111111111,\"#46039f\"],[0.2222222222222222,\"#7201a8\"],[0.3333333333333333,\"#9c179e\"],[0.4444444444444444,\"#bd3786\"],[0.5555555555555556,\"#d8576b\"],[0.6666666666666666,\"#ed7953\"],[0.7777777777777778,\"#fb9f3a\"],[0.8888888888888888,\"#fdca26\"],[1.0,\"#f0f921\"]],\"type\":\"heatmap\"}],\"heatmapgl\":[{\"colorbar\":{\"outlinewidth\":0,\"ticks\":\"\"},\"colorscale\":[[0.0,\"#0d0887\"],[0.1111111111111111,\"#46039f\"],[0.2222222222222222,\"#7201a8\"],[0.3333333333333333,\"#9c179e\"],[0.4444444444444444,\"#bd3786\"],[0.5555555555555556,\"#d8576b\"],[0.6666666666666666,\"#ed7953\"],[0.7777777777777778,\"#fb9f3a\"],[0.8888888888888888,\"#fdca26\"],[1.0,\"#f0f921\"]],\"type\":\"heatmapgl\"}],\"histogram\":[{\"marker\":{\"pattern\":{\"fillmode\":\"overlay\",\"size\":10,\"solidity\":0.2}},\"type\":\"histogram\"}],\"histogram2d\":[{\"colorbar\":{\"outlinewidth\":0,\"ticks\":\"\"},\"colorscale\":[[0.0,\"#0d0887\"],[0.1111111111111111,\"#46039f\"],[0.2222222222222222,\"#7201a8\"],[0.3333333333333333,\"#9c179e\"],[0.4444444444444444,\"#bd3786\"],[0.5555555555555556,\"#d8576b\"],[0.6666666666666666,\"#ed7953\"],[0.7777777777777778,\"#fb9f3a\"],[0.8888888888888888,\"#fdca26\"],[1.0,\"#f0f921\"]],\"type\":\"histogram2d\"}],\"histogram2dcontour\":[{\"colorbar\":{\"outlinewidth\":0,\"ticks\":\"\"},\"colorscale\":[[0.0,\"#0d0887\"],[0.1111111111111111,\"#46039f\"],[0.2222222222222222,\"#7201a8\"],[0.3333333333333333,\"#9c179e\"],[0.4444444444444444,\"#bd3786\"],[0.5555555555555556,\"#d8576b\"],[0.6666666666666666,\"#ed7953\"],[0.7777777777777778,\"#fb9f3a\"],[0.8888888888888888,\"#fdca26\"],[1.0,\"#f0f921\"]],\"type\":\"histogram2dcontour\"}],\"mesh3d\":[{\"colorbar\":{\"outlinewidth\":0,\"ticks\":\"\"},\"type\":\"mesh3d\"}],\"parcoords\":[{\"line\":{\"colorbar\":{\"outlinewidth\":0,\"ticks\":\"\"}},\"type\":\"parcoords\"}],\"pie\":[{\"automargin\":true,\"type\":\"pie\"}],\"scatter\":[{\"marker\":{\"colorbar\":{\"outlinewidth\":0,\"ticks\":\"\"}},\"type\":\"scatter\"}],\"scatter3d\":[{\"line\":{\"colorbar\":{\"outlinewidth\":0,\"ticks\":\"\"}},\"marker\":{\"colorbar\":{\"outlinewidth\":0,\"ticks\":\"\"}},\"type\":\"scatter3d\"}],\"scattercarpet\":[{\"marker\":{\"colorbar\":{\"outlinewidth\":0,\"ticks\":\"\"}},\"type\":\"scattercarpet\"}],\"scattergeo\":[{\"marker\":{\"colorbar\":{\"outlinewidth\":0,\"ticks\":\"\"}},\"type\":\"scattergeo\"}],\"scattergl\":[{\"marker\":{\"colorbar\":{\"outlinewidth\":0,\"ticks\":\"\"}},\"type\":\"scattergl\"}],\"scattermapbox\":[{\"marker\":{\"colorbar\":{\"outlinewidth\":0,\"ticks\":\"\"}},\"type\":\"scattermapbox\"}],\"scatterpolar\":[{\"marker\":{\"colorbar\":{\"outlinewidth\":0,\"ticks\":\"\"}},\"type\":\"scatterpolar\"}],\"scatterpolargl\":[{\"marker\":{\"colorbar\":{\"outlinewidth\":0,\"ticks\":\"\"}},\"type\":\"scatterpolargl\"}],\"scatterternary\":[{\"marker\":{\"colorbar\":{\"outlinewidth\":0,\"ticks\":\"\"}},\"type\":\"scatterternary\"}],\"surface\":[{\"colorbar\":{\"outlinewidth\":0,\"ticks\":\"\"},\"colorscale\":[[0.0,\"#0d0887\"],[0.1111111111111111,\"#46039f\"],[0.2222222222222222,\"#7201a8\"],[0.3333333333333333,\"#9c179e\"],[0.4444444444444444,\"#bd3786\"],[0.5555555555555556,\"#d8576b\"],[0.6666666666666666,\"#ed7953\"],[0.7777777777777778,\"#fb9f3a\"],[0.8888888888888888,\"#fdca26\"],[1.0,\"#f0f921\"]],\"type\":\"surface\"}],\"table\":[{\"cells\":{\"fill\":{\"color\":\"#EBF0F8\"},\"line\":{\"color\":\"white\"}},\"header\":{\"fill\":{\"color\":\"#C8D4E3\"},\"line\":{\"color\":\"white\"}},\"type\":\"table\"}]},\"layout\":{\"annotationdefaults\":{\"arrowcolor\":\"#2a3f5f\",\"arrowhead\":0,\"arrowwidth\":1},\"autotypenumbers\":\"strict\",\"coloraxis\":{\"colorbar\":{\"outlinewidth\":0,\"ticks\":\"\"}},\"colorscale\":{\"diverging\":[[0,\"#8e0152\"],[0.1,\"#c51b7d\"],[0.2,\"#de77ae\"],[0.3,\"#f1b6da\"],[0.4,\"#fde0ef\"],[0.5,\"#f7f7f7\"],[0.6,\"#e6f5d0\"],[0.7,\"#b8e186\"],[0.8,\"#7fbc41\"],[0.9,\"#4d9221\"],[1,\"#276419\"]],\"sequential\":[[0.0,\"#0d0887\"],[0.1111111111111111,\"#46039f\"],[0.2222222222222222,\"#7201a8\"],[0.3333333333333333,\"#9c179e\"],[0.4444444444444444,\"#bd3786\"],[0.5555555555555556,\"#d8576b\"],[0.6666666666666666,\"#ed7953\"],[0.7777777777777778,\"#fb9f3a\"],[0.8888888888888888,\"#fdca26\"],[1.0,\"#f0f921\"]],\"sequentialminus\":[[0.0,\"#0d0887\"],[0.1111111111111111,\"#46039f\"],[0.2222222222222222,\"#7201a8\"],[0.3333333333333333,\"#9c179e\"],[0.4444444444444444,\"#bd3786\"],[0.5555555555555556,\"#d8576b\"],[0.6666666666666666,\"#ed7953\"],[0.7777777777777778,\"#fb9f3a\"],[0.8888888888888888,\"#fdca26\"],[1.0,\"#f0f921\"]]},\"colorway\":[\"#636efa\",\"#EF553B\",\"#00cc96\",\"#ab63fa\",\"#FFA15A\",\"#19d3f3\",\"#FF6692\",\"#B6E880\",\"#FF97FF\",\"#FECB52\"],\"font\":{\"color\":\"#2a3f5f\"},\"geo\":{\"bgcolor\":\"white\",\"lakecolor\":\"white\",\"landcolor\":\"#E5ECF6\",\"showlakes\":true,\"showland\":true,\"subunitcolor\":\"white\"},\"hoverlabel\":{\"align\":\"left\"},\"hovermode\":\"closest\",\"mapbox\":{\"style\":\"light\"},\"paper_bgcolor\":\"white\",\"plot_bgcolor\":\"#E5ECF6\",\"polar\":{\"angularaxis\":{\"gridcolor\":\"white\",\"linecolor\":\"white\",\"ticks\":\"\"},\"bgcolor\":\"#E5ECF6\",\"radialaxis\":{\"gridcolor\":\"white\",\"linecolor\":\"white\",\"ticks\":\"\"}},\"scene\":{\"xaxis\":{\"backgroundcolor\":\"#E5ECF6\",\"gridcolor\":\"white\",\"gridwidth\":2,\"linecolor\":\"white\",\"showbackground\":true,\"ticks\":\"\",\"zerolinecolor\":\"white\"},\"yaxis\":{\"backgroundcolor\":\"#E5ECF6\",\"gridcolor\":\"white\",\"gridwidth\":2,\"linecolor\":\"white\",\"showbackground\":true,\"ticks\":\"\",\"zerolinecolor\":\"white\"},\"zaxis\":{\"backgroundcolor\":\"#E5ECF6\",\"gridcolor\":\"white\",\"gridwidth\":2,\"linecolor\":\"white\",\"showbackground\":true,\"ticks\":\"\",\"zerolinecolor\":\"white\"}},\"shapedefaults\":{\"line\":{\"color\":\"#2a3f5f\"}},\"ternary\":{\"aaxis\":{\"gridcolor\":\"white\",\"linecolor\":\"white\",\"ticks\":\"\"},\"baxis\":{\"gridcolor\":\"white\",\"linecolor\":\"white\",\"ticks\":\"\"},\"bgcolor\":\"#E5ECF6\",\"caxis\":{\"gridcolor\":\"white\",\"linecolor\":\"white\",\"ticks\":\"\"}},\"title\":{\"x\":0.05},\"xaxis\":{\"automargin\":true,\"gridcolor\":\"white\",\"linecolor\":\"white\",\"ticks\":\"\",\"title\":{\"standoff\":15},\"zerolinecolor\":\"white\",\"zerolinewidth\":2},\"yaxis\":{\"automargin\":true,\"gridcolor\":\"white\",\"linecolor\":\"white\",\"ticks\":\"\",\"title\":{\"standoff\":15},\"zerolinecolor\":\"white\",\"zerolinewidth\":2}}},\"barmode\":\"group\",\"title\":{\"text\":\"Comparison of Models on Different Metrics\"},\"xaxis\":{\"title\":{\"text\":\"Metrics\"}},\"yaxis\":{\"title\":{\"text\":\"Values\"}},\"legend\":{\"title\":{\"text\":\"Models\"}}},                        {\"responsive\": true}                    ).then(function(){\n",
       "                            \n",
       "var gd = document.getElementById('96b28b53-1e5e-4f4c-a9a3-28d70bd2088a');\n",
       "var x = new MutationObserver(function (mutations, observer) {{\n",
       "        var display = window.getComputedStyle(gd).display;\n",
       "        if (!display || display === 'none') {{\n",
       "            console.log([gd, 'removed!']);\n",
       "            Plotly.purge(gd);\n",
       "            observer.disconnect();\n",
       "        }}\n",
       "}});\n",
       "\n",
       "// Listen for the removal of the full notebook cells\n",
       "var notebookContainer = gd.closest('#notebook-container');\n",
       "if (notebookContainer) {{\n",
       "    x.observe(notebookContainer, {childList: true});\n",
       "}}\n",
       "\n",
       "// Listen for the clearing of the current output cell\n",
       "var outputEl = gd.closest('.output');\n",
       "if (outputEl) {{\n",
       "    x.observe(outputEl, {childList: true});\n",
       "}}\n",
       "\n",
       "                        })                };                });            </script>        </div>"
      ]
     },
     "metadata": {},
     "output_type": "display_data"
    }
   ],
   "source": [
    "import plotly.graph_objects as go\n",
    "\n",
    "\n",
    "models = ['Old SVD', 'New SVD', 'NCF']\n",
    "labels = ['RMSE', 'Precision', 'Recall', 'F1 Score']\n",
    "old_svd_values = [1.217102048662859, 0.9893, 0.9041, 0.9448]\n",
    "new_svd_values = [1.1809891560964174, 0.8595, 0.7812, 0.8185]\n",
    "ncf_values = [0.08896161097623842, 0.9965325482499182, 0.9887698799091205, 0.992636037797328]\n",
    "values = [old_svd_values, new_svd_values, ncf_values]\n",
    "\n",
    "# Creating interactive bar graph.\n",
    "fig = go.Figure()\n",
    "\n",
    "for model, val in zip(models, values):\n",
    "    fig.add_trace(go.Bar(name=model, x=labels, y=val, \n",
    "                         text=val,\n",
    "                         textposition='auto')) \n",
    "\n",
    "# Updating layout for better visualization\n",
    "fig.update_layout(barmode='group', \n",
    "                  title=\"Comparison of Models on Different Metrics\",\n",
    "                  xaxis_title=\"Metrics\",\n",
    "                  yaxis_title=\"Values\",\n",
    "                  legend_title=\"Models\")\n",
    "\n",
    "# Show plot\n",
    "fig.show()\n"
   ]
  }
 ],
 "metadata": {
  "kernelspec": {
   "display_name": "Python 3 (ipykernel)",
   "language": "python",
   "name": "python3"
  },
  "language_info": {
   "codemirror_mode": {
    "name": "ipython",
    "version": 3
   },
   "file_extension": ".py",
   "mimetype": "text/x-python",
   "name": "python",
   "nbconvert_exporter": "python",
   "pygments_lexer": "ipython3",
   "version": "3.9.4"
  }
 },
 "nbformat": 4,
 "nbformat_minor": 5
}
